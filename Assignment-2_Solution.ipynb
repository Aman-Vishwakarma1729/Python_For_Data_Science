{
 "cells": [
  {
   "cell_type": "markdown",
   "id": "c90a17ce-40c5-4754-ac57-fd96eb76f683",
   "metadata": {},
   "source": [
    "#### Answer_1"
   ]
  },
  {
   "cell_type": "code",
   "execution_count": null,
   "id": "21169e5c-8b97-4166-bfc8-5a5ea6e8a0f7",
   "metadata": {},
   "outputs": [],
   "source": [
    "Marks = int(input(\"Enter Your Marks\"))\n",
    "if Marks > 90 and Marks <= 100:\n",
    "    print(\"You got A Grade\")\n",
    "elif Marks > 80 and Marks <= 90:\n",
    "    print(\"You got B Grade\")\n",
    "elif Marks >= 60 and Marks <= 80:\n",
    "    print(\"You got C Grade\")\n",
    "elif Marks >= 0 and Marks < 60:\n",
    "    print(\"You got D Grade\")\n",
    "else:\n",
    "    print(\"Please enter valid marks\")"
   ]
  },
  {
   "cell_type": "markdown",
   "id": "e9f7b455-aaca-4852-89d4-cb4505e4e4e9",
   "metadata": {},
   "source": [
    "#### Answer_2"
   ]
  },
  {
   "cell_type": "code",
   "execution_count": null,
   "id": "1938b1f7-e528-469a-abc2-254477a697f1",
   "metadata": {},
   "outputs": [],
   "source": [
    "Cost_price_bike = int(input(\"Enter price of your bike in Rs.\"))\n",
    "if Cost_price_bike > 100000:\n",
    "    print(\"You have to pay the road tax of Rs.{}\".format((Cost_price_bike*0.15)))\n",
    "elif Cost_price_bike > 50000 and Cost_price_bike <= 100000 :\n",
    "    print(\"You have to pay the road tax of Rs.{}\".format((Cost_price_bike*0.10)))\n",
    "elif Cost_price_bike <= 50000:\n",
    "    print(\"You have to pay the road tax of Rs.{}\".format((Cost_price_bike*0.05)))"
   ]
  },
  {
   "cell_type": "markdown",
   "id": "2e5045a6-f5ea-46df-809e-094a2e49f7f6",
   "metadata": {},
   "source": [
    "#### Answer_3"
   ]
  },
  {
   "cell_type": "code",
   "execution_count": null,
   "id": "e0c7dfdc-c71b-4c46-8cf8-dec5705dbb4d",
   "metadata": {},
   "outputs": [],
   "source": [
    "\"\"\" Select any one of these citys\n",
    "    Delhi, Agra, Jaipur\n",
    "\"\"\"\n",
    "City= input(\"Enter the city name\")              \n",
    "if City == \"Delhi\":\n",
    "    print(\"The monument in Delhi is RED FORT\")\n",
    "elif City == \"Agra\":\n",
    "    print(\"The monument in Agra is TAJ MAHAL\")\n",
    "elif City == \"Jaipur\":\n",
    "    print(\"The monument in Jaipur is JAL MAHAL\")"
   ]
  },
  {
   "cell_type": "markdown",
   "id": "4d08e718-f192-4639-9cf9-f33cfc1db847",
   "metadata": {},
   "source": [
    "#### Answer_4"
   ]
  },
  {
   "cell_type": "code",
   "execution_count": null,
   "id": "2c67ab50-6842-42fe-b74d-6f12b9a74f2f",
   "metadata": {},
   "outputs": [],
   "source": [
    "number = int(input(\"Enter the number\"))\n",
    "count = 0\n",
    "if number > 10:\n",
    "    if (number%3) == 0:\n",
    "        while (number%3) == 0:\n",
    "            count = count+1\n",
    "            number = number//3\n",
    "    elif (number%2) != 0:\n",
    "        print(f\"{number} is not divisible by 3\")\n",
    "else:\n",
    "    print(f\"{number} is already less than or equal to 10\")\n",
    "print(\"The entered number is {} time divisible by 3 before it is less than or equal to 10\".format(count))"
   ]
  },
  {
   "cell_type": "markdown",
   "id": "c027107c-7281-47a5-8634-438921a5e13f",
   "metadata": {},
   "source": [
    "#### Answer_5"
   ]
  },
  {
   "cell_type": "markdown",
   "id": "84230c5f-a751-4a9b-9377-8f709648d2cf",
   "metadata": {},
   "source": [
    "#### > while loop is used to run a block of code until certain condition is met.\n",
    "#### > while loop is indefinite iteration that is used when loops repaeat unknown number of times and        ends until some condition is met.\n"
   ]
  },
  {
   "cell_type": "code",
   "execution_count": null,
   "id": "9ac960db-a9f8-4d41-802a-86ab8a49e8b0",
   "metadata": {},
   "outputs": [],
   "source": [
    "# Example\n",
    "\n",
    "total = 0\n",
    "number = int(input(\"Enter the number\"))\n",
    "while number != 0:\n",
    "    total = total + number\n",
    "    number = int(input(\"Enter the number\"))\n",
    "print(\"total = \",total)\n",
    "\n",
    "\"\"\"\n",
    "In above example, the while loop iterates until the user enters the 0.\n",
    "When the user enters 0, the test condition evaluates to false and loops ends.\n",
    "untill the user enters zero all that number is summed and is prited as total\n",
    "\"\"\""
   ]
  },
  {
   "cell_type": "markdown",
   "id": "71f345c9-6bbd-493d-8976-412341d5008d",
   "metadata": {},
   "source": [
    "#### Answer_6"
   ]
  },
  {
   "cell_type": "code",
   "execution_count": 2,
   "id": "7cb7b7ff-a5f3-49cc-b8a6-885c5511d65f",
   "metadata": {},
   "outputs": [],
   "source": [
    "# Patern_1 (Square)\n",
    "\n",
    "size = int(input(\"Enter the size\"))\n",
    "i=0\n",
    "while i < size:\n",
    "    j=0\n",
    "    while j < size:\n",
    "        print(\"*\" , end = \" \")\n",
    "        j = j + 1\n",
    "    print(\" \")\n",
    "    i = i + 1"
   ]
  },
  {
   "cell_type": "code",
   "execution_count": null,
   "id": "6b7fa8df-c0d4-4841-a9d9-c3d1ff4a4ea8",
   "metadata": {},
   "outputs": [],
   "source": [
    "# Patern_1 (Arrow)\n",
    "\n",
    "size = int(input(\"Enter the size\"))\n",
    "i=0\n",
    "while i <= size:\n",
    "    j=0\n",
    "    while j <= i:\n",
    "        print(\"*\" , end = \" \")\n",
    "        j = j + 1\n",
    "    print(\" \")\n",
    "    i = i + 1\n",
    "\n",
    "i= size \n",
    "while i >= 0:\n",
    "    j=0\n",
    "    while j <= i:\n",
    "        print(\"*\" , end = \" \")\n",
    "        j = j + 1\n",
    "    print(\" \")\n",
    "    i = i - 1\n"
   ]
  },
  {
   "cell_type": "code",
   "execution_count": null,
   "id": "30835284-d56a-462f-ba34-2063bfddc701",
   "metadata": {},
   "outputs": [],
   "source": [
    "# Patern_3 (Equilateral triangle)\n",
    "\n",
    "size = int(input('Enter the size'))\n",
    "i = 1\n",
    "while i <= size:\n",
    "    j = size\n",
    "    while j > 0:\n",
    "        print(' '*j , end = \" \")\n",
    "        j = j - 1\n",
    "    \n",
    "        print('* '*(i))\n",
    "        i = i + 1\n"
   ]
  },
  {
   "cell_type": "markdown",
   "id": "d5ae4aab-c24c-41c4-9b85-c51237902606",
   "metadata": {},
   "source": [
    "#### Answer_7"
   ]
  },
  {
   "cell_type": "code",
   "execution_count": null,
   "id": "85e05f83-b120-4fd5-af39-ae051e6f5b32",
   "metadata": {},
   "outputs": [],
   "source": [
    "i = 10\n",
    "while i > 0 :\n",
    "    print(i)\n",
    "    i = i - 1\n",
    "    "
   ]
  },
  {
   "cell_type": "markdown",
   "id": "5424291c-8e99-4460-9eb8-e074b972f04f",
   "metadata": {},
   "source": [
    "#### Answer_8"
   ]
  },
  {
   "cell_type": "code",
   "execution_count": null,
   "id": "0f111088-c8b2-4fc0-b842-d253670bd486",
   "metadata": {},
   "outputs": [],
   "source": [
    "i = 10\n",
    "while i > 0 :\n",
    "    print(i)\n",
    "    i = i - 1"
   ]
  }
 ],
 "metadata": {
  "kernelspec": {
   "display_name": "Python 3 (ipykernel)",
   "language": "python",
   "name": "python3"
  },
  "language_info": {
   "codemirror_mode": {
    "name": "ipython",
    "version": 3
   },
   "file_extension": ".py",
   "mimetype": "text/x-python",
   "name": "python",
   "nbconvert_exporter": "python",
   "pygments_lexer": "ipython3",
   "version": "3.10.8"
  }
 },
 "nbformat": 4,
 "nbformat_minor": 5
}
