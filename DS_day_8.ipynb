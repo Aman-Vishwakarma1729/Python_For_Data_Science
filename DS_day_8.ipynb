{
 "cells": [
  {
   "cell_type": "markdown",
   "id": "7bb0b7f9-44df-46d8-be38-37ad4067efab",
   "metadata": {},
   "source": [
    "## File"
   ]
  },
  {
   "cell_type": "code",
   "execution_count": 56,
   "id": "1399d146-3929-4eb5-bd71-bddb374c092f",
   "metadata": {},
   "outputs": [],
   "source": [
    "## To create file\n",
    "## it will crete file in current directory , i can create it in any other directory too.\n",
    "\n",
    "file_1 = open(\"first_file.txt\" , 'a')"
   ]
  },
  {
   "cell_type": "code",
   "execution_count": 57,
   "id": "9392d01c-669d-4f1e-a161-731bf1d91c82",
   "metadata": {},
   "outputs": [
    {
     "data": {
      "text/plain": [
       "'/home/jovyan/work/Learn_Python_1'"
      ]
     },
     "execution_count": 57,
     "metadata": {},
     "output_type": "execute_result"
    }
   ],
   "source": [
    "pwd  ## To know the directory of file. ## pwd(pesent working directory)"
   ]
  },
  {
   "cell_type": "code",
   "execution_count": 53,
   "id": "834e7b3f-2c79-49ea-82e6-8c8f16abe408",
   "metadata": {},
   "outputs": [
    {
     "name": "stdout",
     "output_type": "stream",
     "text": [
      "Assignment-1_Solution.ipynb  Day_2.ipynb  first_file.txt\n",
      "Assignment-2_Solution.ipynb  Day_3.ipynb  Paaterns_Question.ipynb\n",
      "Assignment-3_Solution.ipynb  Day_4.ipynb  Pythin_Task-3_Solution.ipynb\n",
      "Assignment-4_Solution.ipynb  Day_5.ipynb  Python_Task-1_Solution.ipynb\n",
      "Assignment-5_Solution.ipynb  Day_6.ipynb  Python_Task-2_Solution.ipynb\n",
      "Assignment-6_Solution.ipynb  Day_7.ipynb\n",
      "Day_1.ipynb                  Day_8.ipynb\n"
     ]
    }
   ],
   "source": [
    "ls ## shows all the other files present in above given directory"
   ]
  },
  {
   "cell_type": "code",
   "execution_count": 29,
   "id": "96188d94-f4b2-4f91-91ed-bbbb64a7f05d",
   "metadata": {},
   "outputs": [],
   "source": [
    "## To write in file\n",
    "## The number shown below the byte size of data i entered in file.\n",
    "## To see this text in file we need to close file util than it is not possible."
   ]
  },
  {
   "cell_type": "code",
   "execution_count": 54,
   "id": "915b94b4-76d6-482d-bd4f-ce7e3bcbfffc",
   "metadata": {},
   "outputs": [
    {
     "data": {
      "text/plain": [
       "45"
      ]
     },
     "execution_count": 54,
     "metadata": {},
     "output_type": "execute_result"
    }
   ],
   "source": [
    "file_1.write(\"Hello robots this is my first writing in file\")"
   ]
  },
  {
   "cell_type": "code",
   "execution_count": 55,
   "id": "9b68d02a-ee84-491b-bdda-5c67a3d05eb0",
   "metadata": {},
   "outputs": [],
   "source": [
    "file_1.close()  ## We can close the file using this"
   ]
  },
  {
   "cell_type": "code",
   "execution_count": null,
   "id": "04d91cce-356b-448f-abbf-4deb27609543",
   "metadata": {},
   "outputs": [],
   "source": [
    "## to open file again run the cell contaning open command."
   ]
  },
  {
   "cell_type": "code",
   "execution_count": 58,
   "id": "8723baac-8d5e-46a1-8048-2f38176b8335",
   "metadata": {},
   "outputs": [
    {
     "data": {
      "text/plain": [
       "33"
      ]
     },
     "execution_count": 58,
     "metadata": {},
     "output_type": "execute_result"
    }
   ],
   "source": [
    "file_1.write(\"Learning something new is awesome\")"
   ]
  },
  {
   "cell_type": "code",
   "execution_count": 59,
   "id": "ab06cb27-207f-4ddb-9060-cfd546b26971",
   "metadata": {},
   "outputs": [],
   "source": [
    "file_1.close()"
   ]
  },
  {
   "cell_type": "code",
   "execution_count": null,
   "id": "15bdc655-28ff-4f83-ae1c-0ab599928a17",
   "metadata": {},
   "outputs": [],
   "source": [
    "## The previous text was truncated because we have used 'w' operation\n",
    "## instead if we do 'a' it will append new info without truncating previous one."
   ]
  },
  {
   "cell_type": "code",
   "execution_count": 60,
   "id": "c7982b89-6e6e-4add-90a5-4bcca011b1a0",
   "metadata": {},
   "outputs": [],
   "source": [
    "## To read data\n",
    "\n",
    "data_in_first_file = open(\"first_file.txt\", 'r')"
   ]
  },
  {
   "cell_type": "code",
   "execution_count": 61,
   "id": "1ae6c2cf-440e-4330-91db-8cb35bbbccf5",
   "metadata": {},
   "outputs": [
    {
     "data": {
      "text/plain": [
       "'Learning something new is awesomeHello robots this is my first writing in fileLearning something new is awesome'"
      ]
     },
     "execution_count": 61,
     "metadata": {},
     "output_type": "execute_result"
    }
   ],
   "source": [
    "data_in_first_file.read()"
   ]
  },
  {
   "cell_type": "code",
   "execution_count": 62,
   "id": "1cd82cff-4b35-4afc-897f-14677b04c7de",
   "metadata": {},
   "outputs": [
    {
     "data": {
      "text/plain": [
       "''"
      ]
     },
     "execution_count": 62,
     "metadata": {},
     "output_type": "execute_result"
    }
   ],
   "source": [
    "## if i perrform read operation again\n",
    "\n",
    "data_in_first_file.read()"
   ]
  },
  {
   "cell_type": "code",
   "execution_count": null,
   "id": "c13b54ff-8416-4d0f-94be-060351da6762",
   "metadata": {},
   "outputs": [],
   "source": [
    "## This is because cursor reached to end of text when we performed read operation once.\n",
    "## And then when we performed read operation again there was no text ahead."
   ]
  },
  {
   "cell_type": "code",
   "execution_count": 63,
   "id": "5e7fdde8-d0c9-414e-a460-fe0685549083",
   "metadata": {},
   "outputs": [
    {
     "data": {
      "text/plain": [
       "0"
      ]
     },
     "execution_count": 63,
     "metadata": {},
     "output_type": "execute_result"
    }
   ],
   "source": [
    "## To take again to start position\n",
    "\n",
    "data_in_first_file.seek(0)  ## the argument decide the position of cursor"
   ]
  },
  {
   "cell_type": "code",
   "execution_count": 64,
   "id": "76a88797-39cf-47f9-bb5a-6f6f2ffe9317",
   "metadata": {},
   "outputs": [
    {
     "data": {
      "text/plain": [
       "'Learning something new is awesomeHello robots this is my first writing in fileLearning something new is awesome'"
      ]
     },
     "execution_count": 64,
     "metadata": {},
     "output_type": "execute_result"
    }
   ],
   "source": [
    "## Now we can do read operation again\n",
    "\n",
    "data_in_first_file.read()"
   ]
  },
  {
   "cell_type": "code",
   "execution_count": 65,
   "id": "f7e62552-1adc-44a6-9369-eea46466eece",
   "metadata": {},
   "outputs": [
    {
     "data": {
      "text/plain": [
       "9"
      ]
     },
     "execution_count": 65,
     "metadata": {},
     "output_type": "execute_result"
    }
   ],
   "source": [
    "data_in_first_file.seek(9)"
   ]
  },
  {
   "cell_type": "code",
   "execution_count": 66,
   "id": "3da70321-0c21-43df-9690-e850aa03cc49",
   "metadata": {},
   "outputs": [
    {
     "data": {
      "text/plain": [
       "'something new is awesomeHello robots this is my first writing in fileLearning something new is awesome'"
      ]
     },
     "execution_count": 66,
     "metadata": {},
     "output_type": "execute_result"
    }
   ],
   "source": [
    "data_in_first_file.read()"
   ]
  },
  {
   "cell_type": "code",
   "execution_count": null,
   "id": "d46254df-a786-4a69-a5a3-5f1c5207c0c0",
   "metadata": {},
   "outputs": [],
   "source": [
    "## reading using aternate method"
   ]
  },
  {
   "cell_type": "code",
   "execution_count": 67,
   "id": "5d098d0e-b459-4ee1-8552-5bbc64ee45fe",
   "metadata": {},
   "outputs": [],
   "source": [
    "data_2_in_first_file = open(\"first_file.txt\", 'r')"
   ]
  },
  {
   "cell_type": "code",
   "execution_count": 68,
   "id": "084ab3d7-3aa4-4427-a5e7-8a7e400d0e6a",
   "metadata": {},
   "outputs": [
    {
     "name": "stdout",
     "output_type": "stream",
     "text": [
      "Learning something new is awesomeHello robots this is my first writing in fileLearning something new is awesome\n"
     ]
    }
   ],
   "source": [
    "for i in data_2_in_first_file:\n",
    "    print(i)"
   ]
  },
  {
   "cell_type": "code",
   "execution_count": 70,
   "id": "b369b815-c88b-43e1-902f-0047c2ea0139",
   "metadata": {},
   "outputs": [
    {
     "data": {
      "text/plain": [
       "111"
      ]
     },
     "execution_count": 70,
     "metadata": {},
     "output_type": "execute_result"
    }
   ],
   "source": [
    "## To get the size of file\n",
    "\n",
    "import os\n",
    "\n",
    "os.path.getsize(\"first_file.txt\")\n",
    "\n",
    "## gives size in bytes"
   ]
  },
  {
   "cell_type": "code",
   "execution_count": 71,
   "id": "7bcd2b3d-9643-41ed-9aaf-1b8bb74c9866",
   "metadata": {},
   "outputs": [
    {
     "data": {
      "text/plain": [
       "'first_file_copy.txt'"
      ]
     },
     "execution_count": 71,
     "metadata": {},
     "output_type": "execute_result"
    }
   ],
   "source": [
    "## To create a copy of file\n",
    "\n",
    "import shutil\n",
    "\n",
    "shutil.copy(\"first_file.txt\",\"first_file_copy.txt\")"
   ]
  },
  {
   "cell_type": "code",
   "execution_count": 72,
   "id": "d86e833a-81d2-4d77-8ac9-fb958e524cdb",
   "metadata": {},
   "outputs": [],
   "source": [
    "## To delet file\n",
    "\n",
    "os.remove(\"first_file_copy.txt\")"
   ]
  },
  {
   "cell_type": "code",
   "execution_count": 73,
   "id": "92836d94-b454-431c-be31-007362cf090e",
   "metadata": {},
   "outputs": [
    {
     "name": "stdout",
     "output_type": "stream",
     "text": [
      "Learning something new is awesomeHello robots this is my first writing in fileLearning something new is awesome\n"
     ]
    }
   ],
   "source": [
    "## Opening file using another way\n",
    "\n",
    "with open(\"first_file.txt\",'r') as file_1:\n",
    "    print(file_1.read())"
   ]
  },
  {
   "cell_type": "code",
   "execution_count": 77,
   "id": "96a3e5a5-8d19-4d4e-8894-8ac3b1e5e229",
   "metadata": {},
   "outputs": [],
   "source": [
    "## Rename file\n",
    "## os.rename(\"old_name\",\"new_name\")\n",
    "\n",
    "os.rename(\"first_file.txt\",\"new_name.txt\")"
   ]
  },
  {
   "cell_type": "code",
   "execution_count": 78,
   "id": "dd709f5f-a94f-442b-94b6-8c5783598886",
   "metadata": {},
   "outputs": [],
   "source": [
    "os.rename(\"new_name.txt\",\"first_file.txt\")"
   ]
  },
  {
   "cell_type": "code",
   "execution_count": null,
   "id": "6a6e52c5-86a6-4dd9-a2a3-60eef31963b6",
   "metadata": {},
   "outputs": [],
   "source": []
  },
  {
   "cell_type": "code",
   "execution_count": 4,
   "id": "3a47177c-9b2f-4abb-9c8b-e7e9b9094603",
   "metadata": {},
   "outputs": [],
   "source": [
    "info = {\n",
    "    \"Name\" : \"Aman Vishwakarma\",\n",
    "    \"Email-Id\" : \"amanvish@gmail.com\",\n",
    "    \"Phone_No.\" : 9987989762,\n",
    "    \"Language Known\" : [\"Hindi\", \"Marathi\", \"English\"]\n",
    "}\n",
    "\n",
    "## This way of reperesenting a datas is JSON format as there also data is present as key:value pair"
   ]
  },
  {
   "cell_type": "code",
   "execution_count": 6,
   "id": "27fdbad2-ed75-4535-96e0-136b27eb7844",
   "metadata": {},
   "outputs": [],
   "source": [
    "## We can convert our above info in to json file.\n",
    "## This is how we can write file\n",
    "\n",
    "import json\n",
    "\n",
    "with open(\"info.json\",'w') as file_2:\n",
    "    json.dump(info,file_2)"
   ]
  },
  {
   "cell_type": "code",
   "execution_count": 7,
   "id": "0be1facb-b7d1-490e-af70-6152ff9f312e",
   "metadata": {},
   "outputs": [],
   "source": [
    "## To read file here\n",
    "\n",
    "with open(\"info.json\",'r') as file_2:\n",
    "    info = json.load(file_2)"
   ]
  },
  {
   "cell_type": "code",
   "execution_count": 8,
   "id": "c026329b-0574-4ca9-87be-03d4937e2106",
   "metadata": {},
   "outputs": [
    {
     "data": {
      "text/plain": [
       "{'Name': 'Aman Vishwakarma',\n",
       " 'Email-Id': 'amanvish@gmail.com',\n",
       " 'Phone_No.': 9987989762,\n",
       " 'Language Known': ['Hindi', 'Marathi', 'English']}"
      ]
     },
     "execution_count": 8,
     "metadata": {},
     "output_type": "execute_result"
    }
   ],
   "source": [
    "info"
   ]
  },
  {
   "cell_type": "code",
   "execution_count": 12,
   "id": "cdfb6d79-d26c-4990-98fb-b1b83ca0bedf",
   "metadata": {},
   "outputs": [],
   "source": [
    "info_2_list = [[\"Name\",\"Age\",\"Gender\"],[\"Aman\",\"21\",'Male'],[\"Sejal\",\"21\",\"Female\"]]\n",
    "\n",
    "## This comma separated values and this type of data is stored in csv file type."
   ]
  },
  {
   "cell_type": "code",
   "execution_count": 13,
   "id": "ed59558f-3dae-4fff-9ec6-febb2559b328",
   "metadata": {},
   "outputs": [],
   "source": [
    "## We can convert above data in csv file format\n",
    "\n",
    "import csv\n",
    "\n",
    "with open(\"info_2.csv\", 'w') as file_3:\n",
    "    info_2 = csv.writer(file_3)\n",
    "    for i in info_2_list:\n",
    "        info_2.writerow(i)"
   ]
  },
  {
   "cell_type": "code",
   "execution_count": 14,
   "id": "238b6e51-afd8-472d-a7c1-54461084b3e5",
   "metadata": {},
   "outputs": [
    {
     "name": "stdout",
     "output_type": "stream",
     "text": [
      "['Name', 'Age', 'Gender']\n",
      "['Aman', '21', 'Male']\n",
      "['Sejal', '21', 'Female']\n"
     ]
    }
   ],
   "source": [
    "## Read csv file format\n",
    "\n",
    "with open(\"info_2.csv\", 'r') as file_3:\n",
    "    read = csv.reader(file_3)\n",
    "    for i in read:\n",
    "        print(i)"
   ]
  },
  {
   "cell_type": "code",
   "execution_count": null,
   "id": "02dd7d9c-831e-473f-ab6b-da614be2bd03",
   "metadata": {},
   "outputs": [],
   "source": [
    "## To read and write data which is binary that is in form of audio, video, images etc."
   ]
  },
  {
   "cell_type": "code",
   "execution_count": 19,
   "id": "12135b70-7f47-4191-9a4f-391b458942f8",
   "metadata": {},
   "outputs": [],
   "source": [
    "## Writing binary file type\n",
    "\n",
    "with open(\"info_3.bin\" , 'wb') as file_4:\n",
    "    file_4.write(b\"\\x0012\\x002\\x0034\")"
   ]
  },
  {
   "cell_type": "code",
   "execution_count": 23,
   "id": "7dc0f51a-25dc-4a22-bdae-c55b0329f675",
   "metadata": {},
   "outputs": [
    {
     "name": "stdout",
     "output_type": "stream",
     "text": [
      "b'\\x0012\\x002\\x0034'\n"
     ]
    }
   ],
   "source": [
    "## reading binary file type\n",
    "\n",
    "with open(\"info_3.bin\" , 'rb') as file_4:\n",
    "    print(file_4.read())"
   ]
  },
  {
   "cell_type": "code",
   "execution_count": null,
   "id": "1f2a59b1-4452-43be-b24b-eff35de05271",
   "metadata": {},
   "outputs": [],
   "source": []
  },
  {
   "cell_type": "markdown",
   "id": "9bd115a6-5d26-493f-9b62-feb321f9fd46",
   "metadata": {},
   "source": [
    "#### Buffer read and writer operation in file"
   ]
  },
  {
   "cell_type": "code",
   "execution_count": null,
   "id": "3f0d9282-9650-4e67-b02e-094b48e6ebb3",
   "metadata": {},
   "outputs": [],
   "source": [
    "## buffer is used when file size is very big in GB or TB but still we need to read it ."
   ]
  },
  {
   "cell_type": "code",
   "execution_count": 28,
   "id": "e514f743-8017-464c-b168-f890eb8d658e",
   "metadata": {},
   "outputs": [],
   "source": [
    "## writing file\n",
    "\n",
    "import io\n",
    "\n",
    "with open(\"second_file_buff.txt\",\"wb\") as file_5:\n",
    "    file = io.BufferedWriter(file_5)\n",
    "    file.write(b\"Hello Robots this is about file we are learning\\n\")\n",
    "    file.write(b\"In file we learned about how to read and write txt,json,csv,bin files\\n\")\n",
    "    file.write(b\"Now we are learning about buffer\")\n",
    "    file.flush()  \n",
    "    ## file.flush() is used as close() was used previously"
   ]
  },
  {
   "cell_type": "code",
   "execution_count": 37,
   "id": "088520fb-4de9-4906-9d1a-e110c80ff7b2",
   "metadata": {},
   "outputs": [
    {
     "name": "stdout",
     "output_type": "stream",
     "text": [
      "b'Hello Robots this is about file we are learning\\nIn file we learned about how to read and write txt,json,csv,bin files\\nNow we are learning about buffer'\n",
      "b''\n"
     ]
    }
   ],
   "source": [
    "## reading file\n",
    "\n",
    "with open(\"second_file_buff.txt\", 'rb') as file_5:\n",
    "    file = io.BufferedReader(file_5)\n",
    "    print(file.read())\n",
    "    print(file.read(20)) ## it will only able to read 20 bytes of data\n",
    "    "
   ]
  },
  {
   "cell_type": "code",
   "execution_count": null,
   "id": "f334adbb-7aef-4210-85fe-bafd9243eea0",
   "metadata": {},
   "outputs": [],
   "source": []
  },
  {
   "cell_type": "markdown",
   "id": "7cc0eb63-b5b3-40f4-9063-ec731e060d9f",
   "metadata": {},
   "source": [
    "### Logging and debugging"
   ]
  },
  {
   "cell_type": "code",
   "execution_count": null,
   "id": "9c1eba3e-9092-4b8b-aa5b-e7a13db6acaf",
   "metadata": {},
   "outputs": [],
   "source": [
    "## print statement is used to print output on console but, it's not permanent\n",
    "## If we want it to be permanent and get stored we use logging"
   ]
  },
  {
   "cell_type": "code",
   "execution_count": 4,
   "id": "f30fbe86-88ef-4b02-9391-cec61e0f2d90",
   "metadata": {},
   "outputs": [],
   "source": [
    "# Example of logging \n",
    "\n",
    "import logging\n",
    "\n",
    "logging.basicConfig(filename = \"first_log.log\", level = logging.INFO)\n",
    "logging.info(\"This is my first execution of logging\")\n"
   ]
  },
  {
   "cell_type": "code",
   "execution_count": null,
   "id": "43c82401-994b-4045-b537-3464c1172d7f",
   "metadata": {},
   "outputs": [],
   "source": [
    "logging.error(\"This is error\")"
   ]
  },
  {
   "cell_type": "code",
   "execution_count": 4,
   "id": "e0c88077-deaa-477d-9bae-bee8a8a1cb88",
   "metadata": {},
   "outputs": [],
   "source": [
    "logging.critical(\"This is my critical\")"
   ]
  },
  {
   "cell_type": "markdown",
   "id": "3b923203-a921-48b8-a438-056e4a1e15ac",
   "metadata": {},
   "source": [
    "#### Hirerachy followed by logging"
   ]
  },
  {
   "cell_type": "markdown",
   "id": "ede2728c-b4f9-4d41-8ffe-a667cfd6b123",
   "metadata": {},
   "source": [
    "#### 1) NOSET\n",
    "#### 2) DEBUG\n",
    "#### 3) INFO\n",
    "#### 4) WARNING\n",
    "#### 5) ERROR\n",
    "#### 6) CRITICAL"
   ]
  },
  {
   "cell_type": "code",
   "execution_count": 5,
   "id": "7fe50cae-f778-4ead-84e6-ae89137e5797",
   "metadata": {},
   "outputs": [],
   "source": [
    "## To stop logging\n",
    "\n",
    "logging.shutdown()"
   ]
  },
  {
   "cell_type": "code",
   "execution_count": 2,
   "id": "e2d2877c-7177-4f80-bef3-74faac0d4206",
   "metadata": {},
   "outputs": [],
   "source": [
    "## When we want time as as well as message of logging\n",
    "\n",
    "import logging\n",
    "\n",
    "logging.basicConfig(filename = \"second_log.log\" , level = logging.DEBUG, format = '%(asctime)s  %(message)s' )\n",
    "logging.debug(\"This is debug log\")"
   ]
  },
  {
   "cell_type": "code",
   "execution_count": 6,
   "id": "8b35c766-7ef3-4819-812a-b62fcb65019b",
   "metadata": {},
   "outputs": [],
   "source": []
  },
  {
   "cell_type": "code",
   "execution_count": 3,
   "id": "461a70c7-7a03-4bf0-9cf5-fd5c4389e33c",
   "metadata": {},
   "outputs": [],
   "source": [
    "logging.warning(\"This is warning log\")"
   ]
  },
  {
   "cell_type": "code",
   "execution_count": 4,
   "id": "2d0982b7-10d1-49c0-a91d-2002a85c9de7",
   "metadata": {},
   "outputs": [],
   "source": [
    "logging.error(\"This is error log\")"
   ]
  },
  {
   "cell_type": "code",
   "execution_count": 5,
   "id": "8c249a76-72ac-4e81-ad5d-08a83fc0c66c",
   "metadata": {},
   "outputs": [],
   "source": [
    "logging.shutdown()"
   ]
  },
  {
   "cell_type": "code",
   "execution_count": null,
   "id": "86d7050f-7d22-4a5c-afc7-76df3d22bdce",
   "metadata": {},
   "outputs": [],
   "source": []
  },
  {
   "cell_type": "code",
   "execution_count": 1,
   "id": "dc8fdeda-1336-47ed-a9e4-79939dfca680",
   "metadata": {},
   "outputs": [],
   "source": [
    "import logging\n",
    "\n",
    "logging.basicConfig(filename = \"third_log.log\" , level = logging.DEBUG , format = '%(asctime)s %(name)s %(levelname)s %(message)s')"
   ]
  },
  {
   "cell_type": "code",
   "execution_count": 2,
   "id": "b37197b6-9823-4e61-b810-9316151f6921",
   "metadata": {},
   "outputs": [],
   "source": [
    "logging.debug(\"This is debug log\")"
   ]
  },
  {
   "cell_type": "code",
   "execution_count": null,
   "id": "dfe6c829-271d-410b-b290-ba3b8a809c0d",
   "metadata": {},
   "outputs": [],
   "source": []
  },
  {
   "cell_type": "code",
   "execution_count": null,
   "id": "3e46616c-0abe-45be-ae40-6f8f9431df8b",
   "metadata": {},
   "outputs": [],
   "source": [
    "## Use of logging in actual program "
   ]
  },
  {
   "cell_type": "code",
   "execution_count": 5,
   "id": "d53e6a35-28c7-47cf-9f9f-26615dff3903",
   "metadata": {},
   "outputs": [],
   "source": [
    "import logging\n",
    "\n",
    "logging.basicConfig(filename = \"use_of_log_1.log\", level = logging.DEBUG, format = '%(asctime)s %(name)s %(levelname)s %(message)s')"
   ]
  },
  {
   "cell_type": "code",
   "execution_count": 2,
   "id": "f56f79e3-eeaa-4068-9a3a-2ef476f7c0ce",
   "metadata": {},
   "outputs": [],
   "source": [
    "list_1 = [1,2,3,41,('Aman','Ajay'),[-1,-3,-6]]"
   ]
  },
  {
   "cell_type": "code",
   "execution_count": 6,
   "id": "2a616f7a-5a76-4ec7-a12c-37119ccd5bec",
   "metadata": {},
   "outputs": [],
   "source": [
    "logging.info(\"These are my list where i will append values after sorting it,lst_pos_int = [],lst_neg_int = [],lst_str = [] \")\n",
    "lst_pos_int = []\n",
    "lst_neg_int = []\n",
    "lst_str = []\n",
    "\n",
    "for i in list_1:\n",
    "    logging.info(\"This is the value of i {}\".format(i))\n",
    "    logging.info(\"This is list i am working with {}\".format(list_1))\n",
    "    if type(i) == tuple:\n",
    "        logging.info(\"This are all elements indside the tupple {}\".format(i))\n",
    "        for j in i:\n",
    "            logging.info(\"This is element of tuple {} and this is tuple {}\".format(j,i))\n",
    "            if type(j) == str:\n",
    "                logging.info(\"This are str element {}\".format(j))\n",
    "                lst_str.append(j)\n",
    "    elif type(i) == list:\n",
    "        logging.info(\"This is list inside the list {}\".format(i))\n",
    "        for k in i:\n",
    "            if k < 0:\n",
    "                lst_neg_int.append(k)\n",
    "    elif type(i) == int and i > 0:\n",
    "        lst_pos_int.append(i)\n",
    "        \n",
    "logging.info(\"My final answer for this code is the list of strings {string}, list of positive integers {positive} and list of negative integers {negative}\".format(string = lst_str, positive = lst_pos_int , negative = lst_neg_int))        \n",
    "                "
   ]
  },
  {
   "cell_type": "code",
   "execution_count": null,
   "id": "67618b9b-ce0e-4e7b-82d0-a6266f569a0e",
   "metadata": {},
   "outputs": [],
   "source": []
  },
  {
   "cell_type": "code",
   "execution_count": null,
   "id": "f28d32cb-82e2-4fd6-9dad-d8a4fb1a960f",
   "metadata": {},
   "outputs": [],
   "source": []
  }
 ],
 "metadata": {
  "kernelspec": {
   "display_name": "Python 3 (ipykernel)",
   "language": "python",
   "name": "python3"
  },
  "language_info": {
   "codemirror_mode": {
    "name": "ipython",
    "version": 3
   },
   "file_extension": ".py",
   "mimetype": "text/x-python",
   "name": "python",
   "nbconvert_exporter": "python",
   "pygments_lexer": "ipython3",
   "version": "3.10.8"
  }
 },
 "nbformat": 4,
 "nbformat_minor": 5
}
