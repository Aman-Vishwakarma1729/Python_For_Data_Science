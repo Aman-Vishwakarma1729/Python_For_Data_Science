{
 "cells": [
  {
   "cell_type": "markdown",
   "id": "f075c0c1-142a-4d6d-af04-bf20b7864d0b",
   "metadata": {},
   "source": [
    "# Reversing a string"
   ]
  },
  {
   "cell_type": "markdown",
   "id": "b8ff680f-e916-4608-bf75-7b519be16790",
   "metadata": {},
   "source": [
    "## sliced operation"
   ]
  },
  {
   "cell_type": "code",
   "execution_count": 1,
   "id": "d065f8d9-f658-42dc-ba14-d0d27bc5f694",
   "metadata": {},
   "outputs": [
    {
     "data": {
      "text/plain": [
       "'tsitneicS ataD a ma I'"
      ]
     },
     "execution_count": 1,
     "metadata": {},
     "output_type": "execute_result"
    }
   ],
   "source": [
    "strng_1 = \"I am a Data Scientist\"\n",
    "strng_1[::-1]"
   ]
  },
  {
   "cell_type": "markdown",
   "id": "2dcf0a28-e79e-4e4a-b7b4-4375a350128a",
   "metadata": {},
   "source": [
    "## Inbuilt Function"
   ]
  },
  {
   "cell_type": "code",
   "execution_count": 11,
   "id": "bd8e4aab-e2d1-450c-8bf1-99a82e17cadf",
   "metadata": {},
   "outputs": [
    {
     "name": "stdout",
     "output_type": "stream",
     "text": [
      "tsitneicS ataD a ma I\n",
      "t s i t n e i c S   a t a D   a   m a   I\n",
      "tAmansAmaniAmantAmannAmaneAmaniAmancAmanSAman AmanaAmantAmanaAmanDAman AmanaAman AmanmAmanaAman AmanI\n"
     ]
    }
   ],
   "source": [
    "# reversed() can be use to reverse the string\n",
    "# the string strng_1 will be revered and join() function will seperate the strng_1 with ''\n",
    "\n",
    "print(''.join(reversed(strng_1)))\n",
    "print(' '.join(reversed(strng_1)))\n",
    "\n",
    "# Here every letter in strng_1 is separrated by Aman and is reversed\n",
    "print('Aman'.join(reversed(strng_1)))\n",
    "\n"
   ]
  },
  {
   "cell_type": "code",
   "execution_count": 10,
   "id": "db2e1208-6b78-4e20-98bb-ff9b29add530",
   "metadata": {},
   "outputs": [
    {
     "name": "stdout",
     "output_type": "stream",
     "text": [
      "A m a n\n"
     ]
    }
   ],
   "source": [
    "# join function \n",
    "print(' '.join(\"Aman\"))"
   ]
  },
  {
   "cell_type": "code",
   "execution_count": 13,
   "id": "3b8c671c-68c4-4b46-b07f-69679a35f4b8",
   "metadata": {},
   "outputs": [
    {
     "name": "stdout",
     "output_type": "stream",
     "text": [
      "['t', 's', 'i', 't', 'n', 'e', 'i', 'c', 'S', ' ', 'a', 't', 'a', 'D', ' ', 'a', ' ', 'm', 'a', ' ', 'I']\n"
     ]
    }
   ],
   "source": [
    "# we can convert it in list\n",
    "\n",
    "print(list(reversed(strng_1)))"
   ]
  },
  {
   "cell_type": "code",
   "execution_count": 19,
   "id": "125c4118-65f4-4505-9997-2403394a25bb",
   "metadata": {},
   "outputs": [
    {
     "name": "stdout",
     "output_type": "stream",
     "text": [
      "tsitneicS ataD a ma I"
     ]
    }
   ],
   "source": [
    "# reversing string with for loop \n",
    "\n",
    "for alphabets in list(reversed(strng_1)):\n",
    "    print(alphabets, end=\"\")"
   ]
  },
  {
   "cell_type": "markdown",
   "id": "7eb6cadc-5039-455c-8699-b31f46214911",
   "metadata": {},
   "source": [
    "### Removing spaces from the string"
   ]
  },
  {
   "cell_type": "code",
   "execution_count": 27,
   "id": "22f67fc5-2e5c-4687-9ba2-1aa42dd10412",
   "metadata": {},
   "outputs": [
    {
     "data": {
      "text/plain": [
       "' My name is Aman Vishwakarma '"
      ]
     },
     "execution_count": 27,
     "metadata": {},
     "output_type": "execute_result"
    }
   ],
   "source": [
    "# using strip() funtion we can remove spaces at beginign and end of string\n",
    "\n",
    "strng_2 = \" My name is Aman Vishwakarma \"\n",
    "strng_2.strip(\"\")"
   ]
  },
  {
   "cell_type": "code",
   "execution_count": 28,
   "id": "303c1c5a-9f1b-4eca-82aa-8c439daa1096",
   "metadata": {},
   "outputs": [
    {
     "data": {
      "text/plain": [
       "'My name is Aman Vishwakarma '"
      ]
     },
     "execution_count": 28,
     "metadata": {},
     "output_type": "execute_result"
    }
   ],
   "source": [
    "# using lstrip() function we can remve the space in the left end of string\n",
    "\n",
    "strng_2.lstrip(\" \")"
   ]
  },
  {
   "cell_type": "code",
   "execution_count": 29,
   "id": "76c8d25f-1e15-40c1-847c-81ffe3535a5f",
   "metadata": {},
   "outputs": [
    {
     "data": {
      "text/plain": [
       "' My name is Aman Vishwakarma'"
      ]
     },
     "execution_count": 29,
     "metadata": {},
     "output_type": "execute_result"
    }
   ],
   "source": [
    "# using rstrip() function we can remove the space in the right end of string\n",
    "\n",
    "strng_2.rstrip(\" \")"
   ]
  },
  {
   "cell_type": "markdown",
   "id": "80b4610e-bdf1-4251-b90f-b369d54e8d8f",
   "metadata": {},
   "source": [
    "### Replacing words of string"
   ]
  },
  {
   "cell_type": "code",
   "execution_count": 38,
   "id": "7cbcc797-0c42-40fa-af90-448717b14d73",
   "metadata": {},
   "outputs": [
    {
     "name": "stdout",
     "output_type": "stream",
     "text": [
      "Hey We are learning python "
     ]
    }
   ],
   "source": [
    "# Using list and for loop.\n",
    "\n",
    "strng_3 = \"Hey i am learning python\"\n",
    "lst_1 = strng_3.split(\" \")\n",
    "lst_1[1] = \"We\"\n",
    "lst_1[2] = \"are\"\n",
    "for word in lst_1:\n",
    "    print(word, end=\" \")"
   ]
  },
  {
   "cell_type": "code",
   "execution_count": 56,
   "id": "685e8d02-4db0-43de-acb6-79a6d573651b",
   "metadata": {},
   "outputs": [
    {
     "data": {
      "text/plain": [
       "'Hii i am learning python'"
      ]
     },
     "execution_count": 56,
     "metadata": {},
     "output_type": "execute_result"
    }
   ],
   "source": [
    "# Using replace() function\n",
    "# repalce(\"a\",\"b\"), here \"a\" is which word is to be replaced and \"b\" is the replacement word\n",
    "\n",
    "strng_3.replace(\"Hey\",\"Hii\")\n"
   ]
  },
  {
   "cell_type": "markdown",
   "id": "2a8c3bf9-3cd5-43b1-a257-0d16f4e2b18b",
   "metadata": {},
   "source": [
    "### Replacing words in string with list as we cannot do it directly because string is immutable"
   ]
  },
  {
   "cell_type": "code",
   "execution_count": 51,
   "id": "7bdf1e38-3c9e-4a1c-9333-b5c0e3bc57bd",
   "metadata": {},
   "outputs": [
    {
     "name": "stdout",
     "output_type": "stream",
     "text": [
      "I am a A.I"
     ]
    }
   ],
   "source": [
    "# Using a loop and list\n",
    "strng_4 = \"I am a robot\"\n",
    "lst_2 = list(''.join(strng_4))\n",
    "lst_2[7] = \"A\"\n",
    "lst_2[8] = \".\"\n",
    "lst_2[9] = \"I\"\n",
    "lst_2[10] = \"\"\n",
    "lst_2[11] = \"\"\n",
    "for elements in lst_2:\n",
    "    print(elements, end=\"\")    "
   ]
  },
  {
   "cell_type": "code",
   "execution_count": 58,
   "id": "220e202e-f243-429f-92cf-e9ebeb2a98b7",
   "metadata": {},
   "outputs": [
    {
     "data": {
      "text/plain": [
       "'G am a robot'"
      ]
     },
     "execution_count": 58,
     "metadata": {},
     "output_type": "execute_result"
    }
   ],
   "source": [
    "# using replce() function.\n",
    "\n",
    "strng_4.replace(\"I\",\"G\")"
   ]
  },
  {
   "cell_type": "code",
   "execution_count": 63,
   "id": "0d338d21-4e6e-420b-9adc-ed8cea0896a6",
   "metadata": {},
   "outputs": [
    {
     "name": "stdout",
     "output_type": "stream",
     "text": [
      "Hello guys\n",
      "Hello   guys\n",
      "        Hello   guys\n"
     ]
    }
   ],
   "source": [
    "## \\t with expandtabs(), use to give space. \n",
    "## epandtabs() will detect the \\t wherever it is present and than will give space there\n",
    "\n",
    "print(\"Hello guys\")\n",
    "print(\"Hello \\tguys\".expandtabs())\n",
    "print(\"\\tHello \\tguys\".expandtabs())"
   ]
  },
  {
   "cell_type": "code",
   "execution_count": 70,
   "id": "aed1fabb-3466-45d2-af0b-5497c8324ba3",
   "metadata": {},
   "outputs": [
    {
     "data": {
      "text/plain": [
       "'Welcome to pwskills, welcome to Data Science Masters'"
      ]
     },
     "execution_count": 70,
     "metadata": {},
     "output_type": "execute_result"
    }
   ],
   "source": [
    "#### Practice Question_1 (replace Dat with Data and cience with Science) \n",
    "#### Method_1\n",
    "\n",
    "str_1 = \"Welcome to pwskills, welcome to Dat cience Masters\"\n",
    "update_1 = str_1.replace(\"Dat\",\"Data\") \n",
    "update_2 = update_1.replace(\"cience\",\"Science\")\n",
    "update_2"
   ]
  },
  {
   "cell_type": "code",
   "execution_count": null,
   "id": "9896fa8b-dd60-4780-972a-b9da8ec22baf",
   "metadata": {},
   "outputs": [],
   "source": [
    "#### Method_2\n",
    "\n",
    "str_1 = \"Welcome to pwskills, welcome to Dat cience Masters\"\n",
    "str_1.replace(\"Dat\",\"Data\").replace(\"cience\",\"Science\")"
   ]
  },
  {
   "cell_type": "code",
   "execution_count": 79,
   "id": "0e1ff2a3-577f-443b-ab99-83e1597353f9",
   "metadata": {},
   "outputs": [
    {
     "name": "stdout",
     "output_type": "stream",
     "text": [
      "Welcome to pwskills, welcome to Data Science Masters "
     ]
    }
   ],
   "source": [
    "#### Method_3\n",
    "\n",
    "lst_3 = str_1.split(\" \")\n",
    "lst_3[5] = \"Data\"\n",
    "lst_3[6] = \"Science\"\n",
    "for words in lst_3:\n",
    "    print(words,end=\" \")\n",
    "    \n"
   ]
  },
  {
   "cell_type": "code",
   "execution_count": null,
   "id": "34aab67c-8ea6-4897-a98f-6776ab74d690",
   "metadata": {},
   "outputs": [],
   "source": [
    "##### MS-Word find and replace word fucntionality    \n",
    "data = input(\"Write you text here\")\n",
    "updated_data = data.replace(input(\"Find\"),input(\"replace with\"))\n",
    "print(updated_data)"
   ]
  },
  {
   "cell_type": "code",
   "execution_count": 5,
   "id": "c2efae85-8a4c-4d2a-87d5-a72b70def8d1",
   "metadata": {},
   "outputs": [],
   "source": [
    "## some functions for string\n",
    "\n",
    "strng_2 = \"Hi this is Data Sceintist here\""
   ]
  },
  {
   "cell_type": "code",
   "execution_count": 6,
   "id": "f23776a3-6786-4037-820f-9e4f328842d5",
   "metadata": {},
   "outputs": [
    {
     "data": {
      "text/plain": [
       "False"
      ]
     },
     "execution_count": 6,
     "metadata": {},
     "output_type": "execute_result"
    }
   ],
   "source": [
    "## isupper()\n",
    "\n",
    "strng_2.isupper()"
   ]
  },
  {
   "cell_type": "code",
   "execution_count": 8,
   "id": "f72a1ddf-37b0-445e-afa3-43dbca74ce55",
   "metadata": {},
   "outputs": [
    {
     "data": {
      "text/plain": [
       "False"
      ]
     },
     "execution_count": 8,
     "metadata": {},
     "output_type": "execute_result"
    }
   ],
   "source": [
    "## islower()\n",
    "\n",
    "strng_2.islower()"
   ]
  },
  {
   "cell_type": "code",
   "execution_count": 10,
   "id": "04f12daf-719d-4b0b-8b10-1b1a5b61b6f6",
   "metadata": {},
   "outputs": [
    {
     "data": {
      "text/plain": [
       "False"
      ]
     },
     "execution_count": 10,
     "metadata": {},
     "output_type": "execute_result"
    }
   ],
   "source": [
    "## isspace()\n",
    "\n",
    "strng_2.isspace()"
   ]
  },
  {
   "cell_type": "code",
   "execution_count": 11,
   "id": "4509310a-b0ce-44f3-b1e2-7f628f9f665b",
   "metadata": {},
   "outputs": [
    {
     "data": {
      "text/plain": [
       "True"
      ]
     },
     "execution_count": 11,
     "metadata": {},
     "output_type": "execute_result"
    }
   ],
   "source": [
    "## endswith()\n",
    "\n",
    "strng_2.endswith(\"e\")"
   ]
  },
  {
   "cell_type": "code",
   "execution_count": 12,
   "id": "f18edcd7-ada1-4d5a-8d07-9a8f5ac47313",
   "metadata": {},
   "outputs": [
    {
     "data": {
      "text/plain": [
       "True"
      ]
     },
     "execution_count": 12,
     "metadata": {},
     "output_type": "execute_result"
    }
   ],
   "source": [
    "## startswith()\n",
    "\n",
    "strng_2.startswith(\"H\")"
   ]
  },
  {
   "cell_type": "code",
   "execution_count": 13,
   "id": "8b84ddcd-4cb3-4f40-a367-3683c8b7e341",
   "metadata": {},
   "outputs": [
    {
     "data": {
      "text/plain": [
       "False"
      ]
     },
     "execution_count": 13,
     "metadata": {},
     "output_type": "execute_result"
    }
   ],
   "source": [
    "## isalnum()\n",
    "\n",
    "strng_3 = \"Aman_1234\"\n",
    "strng_3.isalnum()"
   ]
  },
  {
   "cell_type": "code",
   "execution_count": 51,
   "id": "487e2387-d22f-42de-bb83-00e4902d899a",
   "metadata": {},
   "outputs": [
    {
     "data": {
      "text/plain": [
       "9"
      ]
     },
     "execution_count": 51,
     "metadata": {},
     "output_type": "execute_result"
    }
   ],
   "source": [
    "## len()\n",
    "len(strng_3)"
   ]
  },
  {
   "cell_type": "code",
   "execution_count": 61,
   "id": "fb1f956e-68f9-4995-9c26-e0f7b859d268",
   "metadata": {},
   "outputs": [
    {
     "name": "stdout",
     "output_type": "stream",
     "text": [
      "9\n"
     ]
    }
   ],
   "source": [
    "## len() using for loop\n",
    "\n",
    "num = 0\n",
    "for i in list(\"\".join(strng_3)) :\n",
    "    num = num+1\n",
    "print(num)"
   ]
  },
  {
   "cell_type": "code",
   "execution_count": 87,
   "id": "2a7bf5f4-8324-4c44-aa65-048d9767b361",
   "metadata": {},
   "outputs": [
    {
     "name": "stdout",
     "output_type": "stream",
     "text": [
      "a\n",
      "m\n",
      "r\n",
      "a\n",
      "k\n",
      "a\n",
      "w\n",
      "h\n",
      "s\n",
      "i\n",
      "V\n",
      " \n",
      "n\n",
      "a\n",
      "m\n",
      "A\n"
     ]
    }
   ],
   "source": [
    "## use of index to iterate string in reverse format\n",
    "strng_5 = \"Aman Vishwakarma\"\n",
    "num = 0\n",
    "for i in range(len(strng_5)):\n",
    "    print(strng_5[15-i])\n",
    "    "
   ]
  },
  {
   "cell_type": "code",
   "execution_count": 103,
   "id": "a1b10470-7b62-43ea-aecc-3f77c449c10f",
   "metadata": {},
   "outputs": [
    {
     "name": "stdin",
     "output_type": "stream",
     "text": [
      "Enter the text here HI\n"
     ]
    },
    {
     "name": "stdout",
     "output_type": "stream",
     "text": [
      "I\n"
     ]
    }
   ],
   "source": [
    "## To check whether the character is vowel or not in given string and print that vowel with index.\n",
    " \n",
    "strng_6 = input(\"Enter the text here\")\n",
    "vowels = \"AaEeIiOoUu\"\n",
    "for characters in strng_6:\n",
    "    if characters in vowels:\n",
    "        print(characters)\n",
    "       \n",
    "   "
   ]
  },
  {
   "cell_type": "markdown",
   "id": "b8069bb2-64aa-40d5-9a75-d6f5e92395c2",
   "metadata": {},
   "source": [
    "# Data Structure: 2 - LIST"
   ]
  },
  {
   "cell_type": "code",
   "execution_count": 104,
   "id": "bba420e4-029b-4792-8c94-3d2b53e335e1",
   "metadata": {},
   "outputs": [
    {
     "data": {
      "text/plain": [
       "list"
      ]
     },
     "execution_count": 104,
     "metadata": {},
     "output_type": "execute_result"
    }
   ],
   "source": [
    "# we define list by []\n",
    "\n",
    "type([])"
   ]
  },
  {
   "cell_type": "code",
   "execution_count": 106,
   "id": "4dc6f04b-49d7-4583-aa80-84f4da0d3521",
   "metadata": {},
   "outputs": [
    {
     "name": "stdout",
     "output_type": "stream",
     "text": [
      "['Aman', 'Vishwakarma', 'Data Scientist', 21]\n"
     ]
    }
   ],
   "source": [
    "# example of list\n",
    "\n",
    "list_1 = [\"Aman\",\"Vishwakarma\",\"Data Scientist\",21]\n",
    "print(list_1)"
   ]
  },
  {
   "cell_type": "code",
   "execution_count": 108,
   "id": "1c0a10b0-26e0-4e08-aabf-99a540ae8f4a",
   "metadata": {},
   "outputs": [
    {
     "data": {
      "text/plain": [
       "['Ajay', 'Vishwakarma', 'Data Scientist', 21]"
      ]
     },
     "execution_count": 108,
     "metadata": {},
     "output_type": "execute_result"
    }
   ],
   "source": [
    "#  it is muttable\n",
    "\n",
    "list_1[0]=\"Ajay\"\n",
    "list_1"
   ]
  },
  {
   "cell_type": "code",
   "execution_count": 116,
   "id": "e160339d-1069-4707-bf67-e8af431eb69e",
   "metadata": {},
   "outputs": [
    {
     "name": "stdout",
     "output_type": "stream",
     "text": [
      "['H', 'i', ' ', 'r', 'o', 'b', 'o', 't', ' ', 'h', 'e', 'r', 'e']\n",
      "['Hi', 'robot', 'here']\n",
      "['Hi', 'robot', 'here']\n"
     ]
    }
   ],
   "source": [
    "## We can convert string to list\n",
    "\n",
    "string_1 = \"Hi robot here\"\n",
    "list_2 = list(string_1)               ## Each alphabet as element of list\n",
    "print(list_2)\n",
    "list_3 = string_1.split(\" \")          ## Each word as element of list\n",
    "print(list_3)\n",
    "list_4 = list(string_1.split(' '))    \n",
    "print(list_4)"
   ]
  },
  {
   "cell_type": "code",
   "execution_count": 126,
   "id": "2819915c-634a-4c83-85bb-594598e4b879",
   "metadata": {},
   "outputs": [
    {
     "name": "stdout",
     "output_type": "stream",
     "text": [
      "Ajay\n",
      "Data Scientist\n",
      "['Vishwakarma', 'Data Scientist']\n",
      "['Data Scientist']\n",
      "21\n",
      "Vishwakarma\n",
      "['Vishwakarma', 'Data Scientist', 21]\n",
      "['Ajay', 'Vishwakarma', 'Data Scientist']\n",
      "[21, 'Data Scientist', 'Vishwakarma', 'Ajay']\n",
      "['Ajay', 'Data Scientist']\n"
     ]
    }
   ],
   "source": [
    "## Sliced operation in LIST i same as of STRING\n",
    "\n",
    "print(list_1[0])\n",
    "print(list_1[2])\n",
    "print(list_1[1:3])\n",
    "print(list_1[2:3])\n",
    "print(list_1[-1])\n",
    "print(list_1[-3])\n",
    "print(list_1[1:])\n",
    "print(list_1[:3])\n",
    "print(list_1[::-1])     ## Reversing List\n",
    "print(list_1[0:3:2])    ## [a:b:c], \"a\" is starting index, \"b\" is last index and \"c\" is step size\n"
   ]
  },
  {
   "cell_type": "code",
   "execution_count": 129,
   "id": "b384dd42-60a4-4b04-b72b-a6652e219505",
   "metadata": {},
   "outputs": [
    {
     "name": "stdout",
     "output_type": "stream",
     "text": [
      "['Ajay', 'Vishwakarma', 'Data Scientist', 21, 'Python', 'Tableu', 30]\n"
     ]
    }
   ],
   "source": [
    "## concatenatin operation in list\n",
    "\n",
    "print(list_1 + [\"Python\", \"Tableu\", 30])"
   ]
  },
  {
   "cell_type": "code",
   "execution_count": 142,
   "id": "fef51aef-8da0-46c5-828c-c6d4ac2a29ef",
   "metadata": {},
   "outputs": [
    {
     "data": {
      "text/plain": [
       "list"
      ]
     },
     "execution_count": 142,
     "metadata": {},
     "output_type": "execute_result"
    }
   ],
   "source": [
    "## List inside list/ multi concactinated list\n",
    "\n",
    "list_5 = [[\"Aman\", \"Ajay\", \"Rohit\", \"jay\"], [\"vishwakarma\", \"jadhav\", \"thorat\", \"prajpati\"],['Data',['Scientist', 'Analyst', 'Engineer']],[21,22,23,24]]\n",
    "type(list_5)"
   ]
  },
  {
   "cell_type": "code",
   "execution_count": 146,
   "id": "c5244abe-c8c0-4f42-aaff-8c6001198bf1",
   "metadata": {},
   "outputs": [
    {
     "name": "stdout",
     "output_type": "stream",
     "text": [
      "Rohit thorat , Data Engineer , 23\n"
     ]
    }
   ],
   "source": [
    "## Iteration through this list\n",
    "\n",
    "print(list_5[0][2], list_5[1][2], ',' , list_5[2][0], list_5[2][1][2] , ',', list_5[3][2]) "
   ]
  },
  {
   "cell_type": "code",
   "execution_count": null,
   "id": "114264d5-6398-4fb7-bc8b-33255190a632",
   "metadata": {},
   "outputs": [
    {
     "name": "stdout",
     "output_type": "stream",
     "text": [
      "Zebra\n",
      "5453\n",
      "Donkey\n",
      "1\n",
      "['Zebra', 'Monkey', 'Donkey', 'Elephant', 'Lion']\n"
     ]
    }
   ],
   "source": [
    "## function for list\n",
    "\n",
    "list_7 = [\"Zebra\",\"Monkey\",\"Donkey\",\"Elephant\",\"Lion\"]\n",
    "list_8 = [1,2,3,5,6,7,90,2343,5453]\n",
    "\n",
    "print(max(list_7))       ## Here ASCII of characters is compared and evaluated\n",
    "print(max(list_8))\n",
    "print(min(list_7))\n",
    "print(min(list_8))\n",
    "print((list_7))"
   ]
  },
  {
   "cell_type": "code",
   "execution_count": 14,
   "id": "3bf41bbb-5ef8-436a-849b-f7ce2ebd3537",
   "metadata": {},
   "outputs": [],
   "source": [
    "## append() is used to add element at the end of list only one element."
   ]
  },
  {
   "cell_type": "code",
   "execution_count": 41,
   "id": "30229c05-be41-4f80-b53c-80024449d518",
   "metadata": {},
   "outputs": [
    {
     "data": {
      "text/plain": [
       "['Zebra', 'Tiger', 'Tiger', 'Tiger', 'Tiger']"
      ]
     },
     "execution_count": 41,
     "metadata": {},
     "output_type": "execute_result"
    }
   ],
   "source": [
    "list_7.append(\"Tiger\")\n",
    "list_7\n"
   ]
  },
  {
   "cell_type": "code",
   "execution_count": null,
   "id": "593b149c-f17c-47da-be3d-dd6c7852f8ce",
   "metadata": {},
   "outputs": [],
   "source": [
    "## extend() is used to add element at the end of list more than one element is possible."
   ]
  },
  {
   "cell_type": "code",
   "execution_count": 61,
   "id": "6a4914ec-204d-4e4f-b8ff-64467889fb5a",
   "metadata": {},
   "outputs": [
    {
     "data": {
      "text/plain": [
       "['Zebra', 'Tiger', 'Tiger', 'Cow', 'Dear', 'Buffalo']"
      ]
     },
     "execution_count": 61,
     "metadata": {},
     "output_type": "execute_result"
    }
   ],
   "source": [
    "list_7.extend([\"Cow\",\"Dear\",\"Buffalo\"])\n",
    "list_7"
   ]
  },
  {
   "cell_type": "code",
   "execution_count": null,
   "id": "5526b85b-417e-4e4c-8057-71fe6ba544c7",
   "metadata": {},
   "outputs": [],
   "source": []
  },
  {
   "cell_type": "code",
   "execution_count": 42,
   "id": "c642da9d-a663-4592-a0c2-496c9da69986",
   "metadata": {},
   "outputs": [
    {
     "name": "stdout",
     "output_type": "stream",
     "text": [
      "['Zebra', 'Tiger', 'Tiger', 'Tiger']\n"
     ]
    },
    {
     "data": {
      "text/plain": [
       "'Tiger'"
      ]
     },
     "execution_count": 42,
     "metadata": {},
     "output_type": "execute_result"
    }
   ],
   "source": [
    "## pop() is used to remove element from list by default it's index is -1\n",
    "\n",
    "list_7.pop()\n",
    "print(list_7)\n",
    "\n",
    "list_7.pop(2)\n"
   ]
  },
  {
   "cell_type": "code",
   "execution_count": null,
   "id": "f8978e0d-8e33-4234-9d2f-ce03180ad8dd",
   "metadata": {},
   "outputs": [],
   "source": [
    "## Sorting and reverse method in list"
   ]
  },
  {
   "cell_type": "code",
   "execution_count": 45,
   "id": "419f3cc1-ef07-4a70-b142-013372a2b0e8",
   "metadata": {},
   "outputs": [
    {
     "name": "stdout",
     "output_type": "stream",
     "text": [
      "['a', 'e', 'i', 'o', 'u']\n",
      "['u', 'o', 'i', 'e', 'a']\n"
     ]
    }
   ],
   "source": [
    "### reversing through sliced operation\n",
    "list_9 = ['a','e','i','o','u']\n",
    "print(list_9)\n",
    "print(list_9[::-1])"
   ]
  },
  {
   "cell_type": "code",
   "execution_count": 48,
   "id": "aa917d05-aeb8-4e01-9760-040a489843b7",
   "metadata": {},
   "outputs": [
    {
     "name": "stdout",
     "output_type": "stream",
     "text": [
      "['u', 'o', 'i', 'e', 'a']\n"
     ]
    }
   ],
   "source": [
    "### through reverse() funtion\n",
    "\n",
    "list_9.reverse()\n",
    "print(list_9)"
   ]
  },
  {
   "cell_type": "code",
   "execution_count": 60,
   "id": "5f6439bd-c23e-46a2-bde0-157d9b66e7d4",
   "metadata": {},
   "outputs": [
    {
     "name": "stdout",
     "output_type": "stream",
     "text": [
      "['a', 'e', 'i', 'o', 'u']\n",
      "['u', 'o', 'i', 'e', 'a']\n"
     ]
    }
   ],
   "source": [
    "## Ascending and decending order\n",
    "\n",
    "list_9.sort()     ## Ascending by default\n",
    "print(list_9)\n",
    "\n",
    "list_9.sort(reverse=True)  ## Decending order\n",
    "print(list_9)"
   ]
  },
  {
   "cell_type": "markdown",
   "id": "0b46cc1e-3771-41cc-b7de-3c9a7ea97c1c",
   "metadata": {},
   "source": [
    "## Nested List"
   ]
  },
  {
   "cell_type": "code",
   "execution_count": 62,
   "id": "f6e5ca9c-5140-47a6-a462-42a91e9d609d",
   "metadata": {},
   "outputs": [
    {
     "data": {
      "text/plain": [
       "[[1, 2, 3, 4], [5, 6, 7, 8], [9, 10, 11, 12]]"
      ]
     },
     "execution_count": 62,
     "metadata": {},
     "output_type": "execute_result"
    }
   ],
   "source": [
    "l_1 = [1,2,3,4]\n",
    "l_2 = [5,6,7,8]\n",
    "l_3 = [9,10,11,12]\n",
    "\n",
    "matrix = [l_1,l_2,l_3]\n",
    "matrix"
   ]
  },
  {
   "cell_type": "code",
   "execution_count": 64,
   "id": "e2d51913-e5f3-4271-9f5c-2e580236f746",
   "metadata": {},
   "outputs": [
    {
     "data": {
      "text/plain": [
       "[0, 1, 2, 3, 4, 5, 6, 7, 8, 9, 10, 11, 12, 13, 14, 15, 16, 17, 18, 19]"
      ]
     },
     "execution_count": 64,
     "metadata": {},
     "output_type": "execute_result"
    }
   ],
   "source": [
    "## List comprehension\n",
    "\n",
    "[i for i in range(20)]"
   ]
  },
  {
   "cell_type": "code",
   "execution_count": 67,
   "id": "1a6a4bd8-07f5-4da9-936d-c636b90b86ce",
   "metadata": {},
   "outputs": [
    {
     "data": {
      "text/plain": [
       "[0,\n",
       " ' ',\n",
       " 2,\n",
       " ' ',\n",
       " 4,\n",
       " ' ',\n",
       " 6,\n",
       " ' ',\n",
       " 8,\n",
       " ' ',\n",
       " 10,\n",
       " ' ',\n",
       " 12,\n",
       " ' ',\n",
       " 14,\n",
       " ' ',\n",
       " 16,\n",
       " ' ',\n",
       " 18,\n",
       " ' ']"
      ]
     },
     "execution_count": 67,
     "metadata": {},
     "output_type": "execute_result"
    }
   ],
   "source": [
    "## Even numbrt\n",
    "[i if i%2 == 0 else \" \" for i in range(20)]"
   ]
  },
  {
   "cell_type": "code",
   "execution_count": null,
   "id": "25e86227-935f-48f0-8840-bbf86cfad546",
   "metadata": {},
   "outputs": [],
   "source": [
    "## practice question_1\n"
   ]
  },
  {
   "cell_type": "code",
   "execution_count": 112,
   "id": "620c1469-0a0a-4bc9-b925-f3525f7ec7a2",
   "metadata": {},
   "outputs": [
    {
     "name": "stdout",
     "output_type": "stream",
     "text": [
      "Sum of even number in list is 20 and  \n",
      "sum of odd number in list is 16\n"
     ]
    }
   ],
   "source": [
    "## Using loop\n",
    "num_list = [1,2,3,4,5,6,7,8]\n",
    "\n",
    "sum_of_even = 0\n",
    "\n",
    "for i in num_list:\n",
    "    if i%2 == 0 :\n",
    "        sum_of_even = i + sum_of_even\n",
    "        \n",
    "print(\"Sum of even number in list is {} and  \".format(sum_of_even))\n",
    "\n",
    "sum_of_odd = 0\n",
    "for j in num_list:\n",
    "      if j%2 != 0:\n",
    "        sum_of_odd = j + sum_of_odd\n",
    "print(\"sum of odd number in list is {}\".format(sum_of_odd))\n",
    "\n",
    "   \n",
    "    "
   ]
  },
  {
   "cell_type": "code",
   "execution_count": 120,
   "id": "9f4fb906-7c5d-4760-bf4f-815a2f5d31e6",
   "metadata": {},
   "outputs": [
    {
     "name": "stdout",
     "output_type": "stream",
     "text": [
      "20\n",
      "16\n"
     ]
    }
   ],
   "source": [
    "## using list comprehension\n",
    "\n",
    "even_sum = sum([i for i in num_list if i%2 == 0])\n",
    "odd_sum = sum([j for j in num_list if j%2 != 0])\n",
    "print(even_sum)\n",
    "print(odd_sum)"
   ]
  },
  {
   "cell_type": "code",
   "execution_count": 126,
   "id": "143a3e43-e1d8-42cf-9316-111cf9b84c93",
   "metadata": {},
   "outputs": [
    {
     "data": {
      "text/plain": [
       "[1, 4, 9, 16, 25, 36, 49, 64, 81, 100]"
      ]
     },
     "execution_count": 126,
     "metadata": {},
     "output_type": "execute_result"
    }
   ],
   "source": [
    "## practice question_2 (Square of all m=number in list)\n",
    "\n",
    "num_list_2 = [1,2,3,4,5,6,7,8,9,10]\n",
    "[pow(i,2) for i in num_list_2 ]"
   ]
  },
  {
   "cell_type": "code",
   "execution_count": 129,
   "id": "5a602c41-6a80-42d5-a419-75b4ab74b6f6",
   "metadata": {},
   "outputs": [
    {
     "data": {
      "text/plain": [
       "[1, 2, 3, 4]"
      ]
     },
     "execution_count": 129,
     "metadata": {},
     "output_type": "execute_result"
    }
   ],
   "source": [
    "## practice question_3 (create the list of only positive number)\n",
    "\n",
    "num_list_3 = [-2,-1,0,1,2,3,4]\n",
    "[i  for i in num_list_3 if i>0]"
   ]
  },
  {
   "cell_type": "code",
   "execution_count": 132,
   "id": "be6734c8-9d1a-4c9d-94b7-30aa4351b092",
   "metadata": {},
   "outputs": [
    {
     "data": {
      "text/plain": [
       "['a', 'b', 'c', 'd']"
      ]
     },
     "execution_count": 132,
     "metadata": {},
     "output_type": "execute_result"
    }
   ],
   "source": [
    "## practice question_4 (Create a list of only first letter of elements in list)\n",
    "\n",
    "words = ['apple', 'banana', 'cherry', 'date']\n",
    "[word[0] for word in words]"
   ]
  },
  {
   "cell_type": "code",
   "execution_count": 135,
   "id": "b9883dc0-354d-4215-91d7-6eccdb8fbd8e",
   "metadata": {},
   "outputs": [
    {
     "data": {
      "text/plain": [
       "[32.0, 50.0, 68.0, 86.0, 104.0, 122.0]"
      ]
     },
     "execution_count": 135,
     "metadata": {},
     "output_type": "execute_result"
    }
   ],
   "source": [
    "## practice question_5 (convert list element from degree to fahrenheit)\n",
    "\n",
    "celcius_temperature = [0,10,20,30,40,50]\n",
    "fahrenheits_temperature = [((9/5)*tem)+32 for tem in celcius_temperature ]\n",
    "fahrenheits_temperature"
   ]
  },
  {
   "cell_type": "code",
   "execution_count": 161,
   "id": "1a6a3054-3382-4996-bff2-d57848825071",
   "metadata": {},
   "outputs": [
    {
     "data": {
      "text/plain": [
       "[1, 2, 3, 4, 5, 6, 7, 8, 9]"
      ]
     },
     "execution_count": 161,
     "metadata": {},
     "output_type": "execute_result"
    }
   ],
   "source": [
    "## Flatten a list of lists in to single list\n",
    "\n",
    "lists = [[1,2,3],[4,5,6],[7,8,9]]\n",
    "[j for i in lists for j in i] \n",
    "\n",
    "        \n",
    "        \n",
    "    "
   ]
  },
  {
   "cell_type": "code",
   "execution_count": null,
   "id": "a5d932ac-40fc-40ad-b773-bb8b7f3ae1fc",
   "metadata": {},
   "outputs": [],
   "source": [
    "## Assigment question_1\n",
    "### Create the lsit of only prime numbers from the given list using both code and comprehensive method"
   ]
  },
  {
   "cell_type": "code",
   "execution_count": 258,
   "id": "874c1f40-1255-4b7c-b8d1-c8b25c1cef5e",
   "metadata": {},
   "outputs": [],
   "source": [
    "#### Code\n",
    "numbers_1 = [1,2,3,4,5,6,7,8,9,10]\n",
    "ansList = []\n",
    " \n",
    "for num in numbers_1 :\n",
    "     if num == 0 or num == 1 :\n",
    "        continue\n",
    "        for i in range(2, num // 2 + 1) :\n",
    "            if num % i == 0 :\n",
    "                break\n",
    "        else :\n",
    "            ansList.append(num)\n",
    "if len(ansList) :\n",
    "     \n",
    "    print(\"Prime Number : \",end = \"-> \")\n",
    "    for ans in ansList :\n",
    "        print(ans, end = \", \")\n",
    "     \n",
    "    else :\n",
    "        print(\"No any number from the given list is Prime\")\n",
    "        "
   ]
  },
  {
   "cell_type": "code",
   "execution_count": null,
   "id": "48df18f5-0f41-45bb-8d7f-4bf310589c47",
   "metadata": {},
   "outputs": [],
   "source": [
    "## Assigment question_2\n",
    "#### create a list of all possible combination of 2 elements from a list.\n",
    "\n",
    "numbers_2 = [1,2,3,4,5]\n"
   ]
  },
  {
   "cell_type": "code",
   "execution_count": 16,
   "id": "da3a2a32-ac3e-4e2a-999e-62a4bef8d3b5",
   "metadata": {},
   "outputs": [
    {
     "data": {
      "text/plain": [
       "[(1, 1),\n",
       " (1, 2),\n",
       " (1, 3),\n",
       " (1, 4),\n",
       " (1, 5),\n",
       " (2, 1),\n",
       " (2, 2),\n",
       " (2, 3),\n",
       " (2, 4),\n",
       " (2, 5),\n",
       " (3, 1),\n",
       " (3, 2),\n",
       " (3, 3),\n",
       " (3, 4),\n",
       " (3, 5),\n",
       " (4, 1),\n",
       " (4, 2),\n",
       " (4, 3),\n",
       " (4, 4),\n",
       " (4, 5),\n",
       " (5, 1),\n",
       " (5, 2),\n",
       " (5, 3),\n",
       " (5, 4),\n",
       " (5, 5)]"
      ]
     },
     "execution_count": 16,
     "metadata": {},
     "output_type": "execute_result"
    }
   ],
   "source": [
    "numbers_2 = [1,2,3,4,5]\n",
    "[(i,j) for i in numbers_2 for j in numbers_2 ]\n",
    "\n",
    "        \n",
    "\n",
    "        "
   ]
  },
  {
   "cell_type": "code",
   "execution_count": null,
   "id": "a40233dc-3301-4156-8a41-ad1ed23be5d4",
   "metadata": {},
   "outputs": [],
   "source": []
  },
  {
   "cell_type": "code",
   "execution_count": null,
   "id": "5f2e0b8b-e2af-425c-a17f-4a470a85fcb5",
   "metadata": {},
   "outputs": [],
   "source": []
  },
  {
   "cell_type": "code",
   "execution_count": null,
   "id": "c84bad9d-1adc-4a5b-bf52-caf4c2eed7c0",
   "metadata": {},
   "outputs": [],
   "source": []
  },
  {
   "cell_type": "code",
   "execution_count": null,
   "id": "c88fdd52-fb16-4b0d-8466-5dfb99eb713c",
   "metadata": {},
   "outputs": [],
   "source": []
  },
  {
   "cell_type": "code",
   "execution_count": null,
   "id": "b3590d68-bf0a-4c4f-a906-a0634329c6da",
   "metadata": {},
   "outputs": [],
   "source": []
  },
  {
   "cell_type": "code",
   "execution_count": null,
   "id": "66b5b4ec-d855-4fea-b70e-35e37ef37228",
   "metadata": {},
   "outputs": [],
   "source": []
  },
  {
   "cell_type": "code",
   "execution_count": null,
   "id": "fa38f6ac-4eb9-43f9-b091-fe3b179e37d7",
   "metadata": {},
   "outputs": [],
   "source": []
  },
  {
   "cell_type": "code",
   "execution_count": null,
   "id": "c5e34d91-c82b-4db5-9174-776771b7d674",
   "metadata": {},
   "outputs": [],
   "source": []
  },
  {
   "cell_type": "code",
   "execution_count": null,
   "id": "68085e8f-dc4a-4938-b519-3c09166c7758",
   "metadata": {},
   "outputs": [],
   "source": []
  },
  {
   "cell_type": "code",
   "execution_count": null,
   "id": "23ba0432-81f4-4c8e-ab58-64eae3d311ab",
   "metadata": {},
   "outputs": [],
   "source": []
  },
  {
   "cell_type": "code",
   "execution_count": null,
   "id": "b9f9a80d-4ef3-4f80-966f-b6a2881fbeff",
   "metadata": {},
   "outputs": [],
   "source": []
  },
  {
   "cell_type": "code",
   "execution_count": null,
   "id": "f619f6b9-6ec4-49dd-853f-3c97affdc11e",
   "metadata": {},
   "outputs": [],
   "source": []
  },
  {
   "cell_type": "code",
   "execution_count": null,
   "id": "b8202706-b0ad-4d7f-8217-7ee2285c7bb9",
   "metadata": {},
   "outputs": [],
   "source": []
  },
  {
   "cell_type": "code",
   "execution_count": null,
   "id": "31e19f16-23e9-4e99-b69a-f9c4c404a802",
   "metadata": {},
   "outputs": [],
   "source": []
  },
  {
   "cell_type": "code",
   "execution_count": null,
   "id": "0d661daa-92ec-4352-98b3-83793a17c499",
   "metadata": {},
   "outputs": [],
   "source": []
  },
  {
   "cell_type": "code",
   "execution_count": null,
   "id": "f365da58-c838-4922-a74f-c072944249e2",
   "metadata": {},
   "outputs": [],
   "source": []
  },
  {
   "cell_type": "code",
   "execution_count": null,
   "id": "ec45f4c0-b92e-4a00-b238-15c52fb688fd",
   "metadata": {},
   "outputs": [],
   "source": []
  },
  {
   "cell_type": "code",
   "execution_count": null,
   "id": "9424f4f7-b58c-4e84-956a-5a2bb06d65dc",
   "metadata": {},
   "outputs": [],
   "source": []
  },
  {
   "cell_type": "code",
   "execution_count": null,
   "id": "d1a9c9d6-2c75-43e6-acfb-2b4982d25bee",
   "metadata": {},
   "outputs": [],
   "source": []
  },
  {
   "cell_type": "code",
   "execution_count": null,
   "id": "be3414b7-4763-4e0e-bed7-f55bd680eae5",
   "metadata": {},
   "outputs": [],
   "source": []
  },
  {
   "cell_type": "code",
   "execution_count": null,
   "id": "ae735333-e408-424b-863a-5311c78799df",
   "metadata": {},
   "outputs": [],
   "source": []
  },
  {
   "cell_type": "code",
   "execution_count": null,
   "id": "cfbbd922-53a1-461f-85e6-e2f27cfde8f3",
   "metadata": {},
   "outputs": [],
   "source": []
  },
  {
   "cell_type": "code",
   "execution_count": null,
   "id": "bb35c89c-1113-4840-be17-e7a6195d5ff2",
   "metadata": {},
   "outputs": [],
   "source": []
  },
  {
   "cell_type": "code",
   "execution_count": null,
   "id": "d0772a21-6a29-4352-8e87-499fd4b11549",
   "metadata": {},
   "outputs": [],
   "source": []
  },
  {
   "cell_type": "code",
   "execution_count": null,
   "id": "2a67f19f-d35e-491a-b93b-924544150616",
   "metadata": {},
   "outputs": [],
   "source": []
  },
  {
   "cell_type": "code",
   "execution_count": null,
   "id": "2e72bfac-844e-4a89-b189-aab2785b7801",
   "metadata": {},
   "outputs": [],
   "source": []
  },
  {
   "cell_type": "code",
   "execution_count": null,
   "id": "0103e4cc-391c-46e1-ad47-4166e9b6d271",
   "metadata": {},
   "outputs": [],
   "source": []
  },
  {
   "cell_type": "code",
   "execution_count": null,
   "id": "4dd91fd1-de27-4519-a628-0b16df6acd75",
   "metadata": {},
   "outputs": [],
   "source": []
  }
 ],
 "metadata": {
  "kernelspec": {
   "display_name": "Python 3 (ipykernel)",
   "language": "python",
   "name": "python3"
  },
  "language_info": {
   "codemirror_mode": {
    "name": "ipython",
    "version": 3
   },
   "file_extension": ".py",
   "mimetype": "text/x-python",
   "name": "python",
   "nbconvert_exporter": "python",
   "pygments_lexer": "ipython3",
   "version": "3.10.8"
  }
 },
 "nbformat": 4,
 "nbformat_minor": 5
}
