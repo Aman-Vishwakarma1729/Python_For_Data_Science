{
 "cells": [
  {
   "cell_type": "markdown",
   "id": "83da8aa5-7484-40c0-8cf1-fc8f2aa54947",
   "metadata": {},
   "source": [
    "#### Answer_1"
   ]
  },
  {
   "cell_type": "markdown",
   "id": "a3d0daf1-f0ff-4107-b981-a0bf1d268bae",
   "metadata": {},
   "source": [
    "##### > A class is a user defined blueprint from which objects are created.\n",
    "##### > Class provide mean of bundling data and methods together.\n",
    "##### > Class creates a user defined data structure, which holds its own data             members and member functions, which can be accesed and used by creating an         instance of that class. A class is like blueprint for an object.\n",
    "##### > An object is instance of class."
   ]
  },
  {
   "cell_type": "code",
   "execution_count": null,
   "id": "9426b782-659a-4e5e-ab5b-7a77c768958b",
   "metadata": {},
   "outputs": [],
   "source": [
    "## Example\n",
    "\n",
    "class data:    ## Name of our class is data\n",
    "    \n",
    "    def __init__(self,Roll_No,Course,Majors,Job_Position):   ## we create constructor using __init__()\n",
    "        \n",
    "        self.Roll_No = Roll_No            ## Here self is pointer i.e. data taken though variable will passed to same class.\n",
    "        self.Course = Course            ## Roll_No,Course,Majors,Job_Position are data to be taken by the variables.\n",
    "        self.Majors = Majors\n",
    "        self.Job_Position = Job_Position\n",
    "    \n",
    "    def return_data(self):\n",
    "        return self.Roll_No,self.Course,self.Majors,self.Job_Position \n",
    "        \n"
   ]
  },
  {
   "cell_type": "code",
   "execution_count": null,
   "id": "0a6384c3-1668-46c1-a8e3-898f06e050a0",
   "metadata": {},
   "outputs": [],
   "source": [
    "Aman = data(2023001,\"MSc.Data Science\", \"Machine Learning\", \"ML Engineer\")  \n",
    "Ajay = data(2023002, \"MSc.Dara Science\", \"Artificial Engineerng\", \"A.I Engineer\")\n",
    "## Here Aman is varible of class data.\n",
    "\n",
    "print(Aman.Majors)    ## we can access data for variables by calling constructors\n",
    "print(Aman.Roll_No)\n",
    "\n",
    "Aman.return_data()"
   ]
  },
  {
   "cell_type": "markdown",
   "id": "2a493e51-0b58-4ecc-acdb-888b37bb762a",
   "metadata": {},
   "source": [
    "#### Answer_2"
   ]
  },
  {
   "cell_type": "markdown",
   "id": "863f0ff7-37cc-4833-bc8e-f1855080c287",
   "metadata": {},
   "source": [
    "##### > Abstraction\n",
    "##### > Encapsulation\n",
    "##### > Inheritance\n",
    "##### > Polymorphism"
   ]
  },
  {
   "cell_type": "markdown",
   "id": "6899690c-9e4b-4f6e-b6db-59b2e99b3a68",
   "metadata": {},
   "source": [
    "#### Answer_3"
   ]
  },
  {
   "cell_type": "markdown",
   "id": "a18aab83-9d9b-4ff1-8f70-f73af42c5224",
   "metadata": {},
   "source": [
    "##### > The __init__ method is used to create constructor.\n",
    "##### > Constructor are used to initialize the object's state.\n",
    "##### > Like methods, a constructor also contais a collection of statement that           are executed at a time of object creation."
   ]
  },
  {
   "cell_type": "code",
   "execution_count": 1,
   "id": "b98eecd6-8f7c-4162-97e0-f8d8bea6e549",
   "metadata": {},
   "outputs": [],
   "source": [
    "## Example\n",
    "\n",
    "class Answer_2_Example:\n",
    "    def __init__(self, goal):\n",
    "        self.goal = goal\n",
    "    \n",
    "    def return_goal(self):\n",
    "        print(\"Hi i am \", self.goal)"
   ]
  },
  {
   "cell_type": "code",
   "execution_count": 4,
   "id": "084da20e-15c2-4161-aae3-07642b43e4ac",
   "metadata": {},
   "outputs": [
    {
     "name": "stdout",
     "output_type": "stream",
     "text": [
      "Hi i am  Data Scientist\n"
     ]
    }
   ],
   "source": [
    "x = Answer_2_Example(\"Data Scientist\")\n",
    "\n",
    "x.return_goal()"
   ]
  },
  {
   "cell_type": "markdown",
   "id": "64a26924-fc22-4d84-a6bd-94fd9bd2a768",
   "metadata": {},
   "source": [
    "#### Answer_4"
   ]
  },
  {
   "cell_type": "markdown",
   "id": "43563b8d-3ac0-4572-b50b-f0ba1bc27658",
   "metadata": {},
   "source": [
    "##### > Class methods must have an extra first parameter in the method definition.         We do not give a value for this parameter when we call the method, Python         provides it.\n",
    "##### > If we have a method that takes no arguments, we still have one argument.\n",
    "##### > This is pointer.\n",
    "##### > When we call a method of this object as myobject.method(arg1, arg2), this         is automatically converted by Python into MyClass.method(myobject, arg1,           arg2) – this is all the special self is about."
   ]
  },
  {
   "cell_type": "markdown",
   "id": "11f392d2-644d-42e1-8880-5eab7528e272",
   "metadata": {},
   "source": [
    "#### Answer_5"
   ]
  },
  {
   "cell_type": "markdown",
   "id": "d4edc53e-7fa5-40d9-9950-0ad857638d23",
   "metadata": {},
   "source": [
    "##### > It is a mechanism that allows  to create a hierarchy of classes that               share a set of properties and methods by deriving a class from another             class.\n",
    "##### > It provides the reusability of a code.\n",
    "##### > Tt allows us to add more features to a class without modifying it.\n",
    "##### > Different types of inheritance are:\n",
    "######  1) Single Inheritance\n",
    "######  2) Multiple Inheritance\n",
    "######  3) Multilevel Inheritance\n",
    "######  5) Hirearchial Inheritance\n",
    "######  6) Hybrid Inheritance"
   ]
  },
  {
   "cell_type": "code",
   "execution_count": null,
   "id": "e881c6aa-2f2f-459b-85bd-6716ab97448e",
   "metadata": {},
   "outputs": [],
   "source": []
  },
  {
   "cell_type": "code",
   "execution_count": null,
   "id": "715533e4-ede7-4c5f-a971-44d2f63777fb",
   "metadata": {},
   "outputs": [],
   "source": []
  },
  {
   "cell_type": "code",
   "execution_count": null,
   "id": "d1fbe156-cee2-4f9f-a9d6-026d1bdd0e0d",
   "metadata": {},
   "outputs": [],
   "source": []
  },
  {
   "cell_type": "code",
   "execution_count": null,
   "id": "b2d3156f-9598-4db5-a45b-8d92cc84bba6",
   "metadata": {},
   "outputs": [],
   "source": []
  }
 ],
 "metadata": {
  "kernelspec": {
   "display_name": "Python 3 (ipykernel)",
   "language": "python",
   "name": "python3"
  },
  "language_info": {
   "codemirror_mode": {
    "name": "ipython",
    "version": 3
   },
   "file_extension": ".py",
   "mimetype": "text/x-python",
   "name": "python",
   "nbconvert_exporter": "python",
   "pygments_lexer": "ipython3",
   "version": "3.10.8"
  }
 },
 "nbformat": 4,
 "nbformat_minor": 5
}
