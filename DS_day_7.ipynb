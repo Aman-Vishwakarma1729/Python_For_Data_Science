{
 "cells": [
  {
   "cell_type": "markdown",
   "id": "da2b1758-6e3a-47f1-aaa2-b214383ce598",
   "metadata": {},
   "source": [
    "# OOP's"
   ]
  },
  {
   "cell_type": "markdown",
   "id": "2b39a1ba-ec05-4abe-abfc-ea83b145f23a",
   "metadata": {},
   "source": [
    "#### Class are real world entity, or blueprint of real world entity for example,        CAR, HUMAN, ANIMAL etc."
   ]
  },
  {
   "cell_type": "code",
   "execution_count": 3,
   "id": "68354743-44c2-4744-acde-3b85f91fc78c",
   "metadata": {},
   "outputs": [
    {
     "name": "stdout",
     "output_type": "stream",
     "text": [
      "<class 'int'>\n",
      "<class 'str'>\n",
      "<class 'list'>\n"
     ]
    }
   ],
   "source": [
    "# Example\n",
    "\n",
    "x = 4\n",
    "print(type(x))\n",
    "\n",
    "y = 'aman'\n",
    "print(type(y))\n",
    "\n",
    "z = []\n",
    "print(type(z))"
   ]
  },
  {
   "cell_type": "code",
   "execution_count": 4,
   "id": "5dc2b11f-1e74-4c67-abaf-32658969607b",
   "metadata": {},
   "outputs": [],
   "source": [
    "## To define Class\n",
    "\n",
    "class example_1:\n",
    "    pass"
   ]
  },
  {
   "cell_type": "code",
   "execution_count": 10,
   "id": "1edc2bc6-ad26-4bd1-92e4-889e89532c95",
   "metadata": {},
   "outputs": [
    {
     "name": "stdout",
     "output_type": "stream",
     "text": [
      "<class '__main__.example_1'>\n"
     ]
    }
   ],
   "source": [
    "a = example_1()\n",
    "\n",
    "print(type(a))\n",
    "\n",
    "## We created a variable that belongs to our class example_1.\n",
    "## 'a' is called as obejct.\n",
    "## or 'a' is aslo known as instance.\n",
    "## and OOP's stands for object oriented programing."
   ]
  },
  {
   "cell_type": "code",
   "execution_count": 12,
   "id": "ca997987-0733-43df-af97-4ff8ef35f1ea",
   "metadata": {},
   "outputs": [],
   "source": [
    "class example_2:                  ## class is defined and in that we defined function\n",
    "    def say_hi(self):             ## self is pointer we need to give while defining function in class.\n",
    "        print(\"Hello Robots\")"
   ]
  },
  {
   "cell_type": "code",
   "execution_count": 13,
   "id": "1e3d1d7a-5690-4bc6-aa9b-d5b712c948c8",
   "metadata": {},
   "outputs": [
    {
     "name": "stdout",
     "output_type": "stream",
     "text": [
      "Hello Robots\n"
     ]
    }
   ],
   "source": [
    "learner_1 = example_2()     ## we defined variable named learner_1 for our class.\n",
    "learner_1.say_hi()          ## we called the method of the class that we want to perform."
   ]
  },
  {
   "cell_type": "markdown",
   "id": "fc90968c-8c83-416a-9374-261bcd294dff",
   "metadata": {},
   "source": [
    "#### Constructors are something that helps my class to take data. eg, if we define      a = 1, and b = 3, we know a and b belongs to int class here, and if i call a      it will give me data stored in it as 1 and similarly for b."
   ]
  },
  {
   "cell_type": "code",
   "execution_count": 26,
   "id": "fc5d7023-d83c-414a-aebc-802a96beed2c",
   "metadata": {},
   "outputs": [],
   "source": [
    "class data:    ## Name of our class is data\n",
    "    \n",
    "    def __init__(self,Roll_No,Course,Majors,Job_Position):   ## we create constructor using __init__()\n",
    "        \n",
    "        self.Roll_No = Roll_No            ## Here self is pointer i.e. data taken though variable will passed to same class.\n",
    "        self.Course = Course            ## Roll_No,Course,Majors,Job_Position are data to be taken by the variables.\n",
    "        self.Majors = Majors\n",
    "        self.Job_Position = Job_Position\n",
    "    \n",
    "    def return_data(self):\n",
    "        return self.Roll_No,self.Course,self.Majors,self.Job_Position \n",
    "        \n",
    "        "
   ]
  },
  {
   "cell_type": "code",
   "execution_count": 35,
   "id": "9f3fdd02-d921-493d-b7fd-7c062be910be",
   "metadata": {},
   "outputs": [
    {
     "name": "stdout",
     "output_type": "stream",
     "text": [
      "Machine Learning\n",
      "2023001\n"
     ]
    },
    {
     "data": {
      "text/plain": [
       "(2023001, 'MSc.Data Science', 'Machine Learning', 'ML Engineer')"
      ]
     },
     "execution_count": 35,
     "metadata": {},
     "output_type": "execute_result"
    }
   ],
   "source": [
    "Aman = data(2023001,\"MSc.Data Science\", \"Machine Learning\", \"ML Engineer\")  \n",
    "Ajay = data(2023002, \"MSc.Dara Science\", \"Artificial Engineerng\", \"A.I Engineer\")\n",
    "## Here Aman is varible of class data.\n",
    "\n",
    "print(Aman.Majors)    ## we can access data for variables by calling constructors\n",
    "print(Aman.Roll_No)\n",
    "\n",
    "Aman.return_data()"
   ]
  },
  {
   "cell_type": "code",
   "execution_count": 36,
   "id": "48f22f3e-5121-446c-a1b8-e7fde1aedaf6",
   "metadata": {},
   "outputs": [
    {
     "name": "stdout",
     "output_type": "stream",
     "text": [
      "A.I Engineer\n"
     ]
    }
   ],
   "source": [
    "print(Ajay.Job_Position)"
   ]
  },
  {
   "cell_type": "code",
   "execution_count": null,
   "id": "00adb927-ef1e-437c-92e7-257c6dc82464",
   "metadata": {},
   "outputs": [],
   "source": []
  },
  {
   "cell_type": "markdown",
   "id": "d7559dd9-c2c0-42a4-88f0-69dd9d294012",
   "metadata": {},
   "source": [
    "## Polymorphism\n"
   ]
  },
  {
   "cell_type": "code",
   "execution_count": 5,
   "id": "a1acb12f-4986-424e-9c10-9ba96607d17f",
   "metadata": {},
   "outputs": [
    {
     "name": "stdout",
     "output_type": "stream",
     "text": [
      "12\n",
      "Aman Vishwakarma\n"
     ]
    }
   ],
   "source": [
    "# Example of polymorphism\n",
    "\n",
    "def polymorphism_exm_1(a,b):   ## Here i have defined onr funtion.\n",
    "    return a+b  \n",
    "\n",
    "print(polymorphism_exm_1(5,7))  ## based on numeric data the function is performing addition operation\n",
    "print(polymorphism_exm_1(\"Aman\",\" Vishwakarma\")) ## based on string data type the function is performing concatenation\n",
    "\n",
    "## This is what we call as polymorphism, single functiom beahaving differently based on type of data given as input."
   ]
  },
  {
   "cell_type": "code",
   "execution_count": null,
   "id": "8324d173-a645-443d-ac08-0d6a300093c1",
   "metadata": {},
   "outputs": [],
   "source": [
    "## Example of polymorphism w.r.t class and object"
   ]
  },
  {
   "cell_type": "code",
   "execution_count": 37,
   "id": "24775461-ead9-4891-bf6c-94e89e865793",
   "metadata": {},
   "outputs": [],
   "source": [
    "class Real_Analysis:    ## Defining class-1 \n",
    "    def books(self):\n",
    "         print(\"Books for Real Analysis are : S.K Mappa, Goldberg, S.C Malik\")\n",
    "            \n",
    "class Linear_Algebra:   ## Definig calss-2\n",
    "    def books(self):\n",
    "         print(\"Books for Linear_Algebra are : Friedberg, Samvedna, Schaums Outline\")\n",
    "            \n",
    "class Differential_calculus:  ## Defining class-3\n",
    "    def books(self):\n",
    "        print(\"Books for Differential_calculus are : Cengage, S.K Mappa, Thomas Calculus\")\n",
    "        \n",
    "class Group_Theory:          ## Defining class-4\n",
    "    def books(self):\n",
    "        print(\"Books for Group_Theory are : J.A Gallian, I.N Herstein\")\n",
    "        \n",
    "        \n",
    "books_Real_Analysis = Real_Analysis()\n",
    "books_Linear_Algebra = Linear_Algebra()\n",
    "books_Differential_calculus = Differential_calculus()\n",
    "books_Group_Theory = Group_Theory()\n",
    "\n",
    "class_object = [books_Real_Analysis,books_Linear_Algebra,books_Differential_calculus,books_Group_Theory]\n",
    "\n",
    "def class_parce(class_object):\n",
    "    for i in class_object:\n",
    "        i.books()"
   ]
  },
  {
   "cell_type": "code",
   "execution_count": 38,
   "id": "93d46b5e-51f7-4a24-81a0-df11ef6df650",
   "metadata": {},
   "outputs": [
    {
     "name": "stdout",
     "output_type": "stream",
     "text": [
      "Books for Real Analysis are : S.K Mappa, Goldberg, S.C Malik\n",
      "Books for Linear_Algebra are : Friedberg, Samvedna, Schaums Outline\n",
      "Books for Differential_calculus are : Cengage, S.K Mappa, Thomas Calculus\n",
      "Books for Group_Theory are : J.A Gallian, I.N Herstein\n"
     ]
    }
   ],
   "source": [
    "class_parce(class_object)"
   ]
  },
  {
   "cell_type": "code",
   "execution_count": 28,
   "id": "9e4ae8df-4db2-4001-80dd-46d6f0bf7ee0",
   "metadata": {},
   "outputs": [],
   "source": []
  },
  {
   "cell_type": "markdown",
   "id": "1d57805c-1684-4450-acbf-09940b3dd45e",
   "metadata": {},
   "source": [
    "## Encapsulation"
   ]
  },
  {
   "cell_type": "code",
   "execution_count": 30,
   "id": "64712649-f539-4da0-8cdd-965e003d45d5",
   "metadata": {},
   "outputs": [],
   "source": [
    "## Encapsulation is basically hiding or preventing data from user."
   ]
  },
  {
   "cell_type": "code",
   "execution_count": 34,
   "id": "e03dcde2-81ed-413c-b3ff-1abb3ad37b20",
   "metadata": {},
   "outputs": [],
   "source": [
    "## Example of encapsulation"
   ]
  },
  {
   "cell_type": "code",
   "execution_count": 99,
   "id": "82fa7403-45dd-40b1-bdd7-be1ee48ab0f7",
   "metadata": {},
   "outputs": [],
   "source": [
    "class bank_detail:             # created class named as bank_detail\n",
    "    def __init__(self,bank_name,branch_name,account_number,password): #created constructuctor that pass the following data to its variable\n",
    "        \n",
    "        self.__bank_name = bank_name    # Here we made the bank_name as private by giving __ as self.__bank_name and withpout __ it was public.\n",
    "        self.__branch_name = branch_name  # The users will not be able to acces or modify this data as it encapsulated\n",
    "        self.__account_number = account_number # Only the creator of the code will able to access and modify it.\n",
    "        self.__password = password #As only cretor know the data name and class name.\n",
    "        \n",
    "    # If i want that user must be able to acess the data but should able to modify it\n",
    "    \n",
    "    def get_account_number(self):\n",
    "        return self.__account_number\n",
    "    \n",
    "    def get_password(self):\n",
    "        return self.__password\n",
    "    \n",
    "    # If i want that user must be able to modify the data \n",
    "    \n",
    "    def set_password(self, password):\n",
    "        return 'invalid' if len(password) != 4 else password"
   ]
  },
  {
   "cell_type": "code",
   "execution_count": 102,
   "id": "dab3d4c5-aa3e-4cd4-934c-705e2c109a97",
   "metadata": {},
   "outputs": [],
   "source": [
    "obj_1 = bank_detail(\"Bank of India\",\"Amravati\",\"1234567890123456\",\"PASS\")"
   ]
  },
  {
   "cell_type": "code",
   "execution_count": 67,
   "id": "b703e50c-ddcf-4505-92e4-10c7912c167c",
   "metadata": {},
   "outputs": [
    {
     "ename": "AttributeError",
     "evalue": "'bank_detail' object has no attribute '__bank_name'",
     "output_type": "error",
     "traceback": [
      "\u001b[0;31m---------------------------------------------------------------------------\u001b[0m",
      "\u001b[0;31mAttributeError\u001b[0m                            Traceback (most recent call last)",
      "Cell \u001b[0;32mIn[67], line 1\u001b[0m\n\u001b[0;32m----> 1\u001b[0m \u001b[43mobj_1\u001b[49m\u001b[38;5;241;43m.\u001b[39;49m\u001b[43m__bank_name\u001b[49m   \u001b[38;5;66;03m## not able to acess the data as user\u001b[39;00m\n",
      "\u001b[0;31mAttributeError\u001b[0m: 'bank_detail' object has no attribute '__bank_name'"
     ]
    }
   ],
   "source": [
    "obj_1.__bank_name   ## not able to acess the data as user"
   ]
  },
  {
   "cell_type": "code",
   "execution_count": 68,
   "id": "30078d05-80a1-46ac-808b-727f20ca3574",
   "metadata": {},
   "outputs": [
    {
     "data": {
      "text/plain": [
       "'Bank of India'"
      ]
     },
     "execution_count": 68,
     "metadata": {},
     "output_type": "execute_result"
    }
   ],
   "source": [
    "## As a creator i can accesss it as i know class name\n",
    "\n",
    "obj_1._bank_detail__bank_name"
   ]
  },
  {
   "cell_type": "code",
   "execution_count": null,
   "id": "0bbfb544-2cb9-4627-b99c-f59f7bba0956",
   "metadata": {},
   "outputs": [],
   "source": [
    "## Now user will able to acess account_number due to get method"
   ]
  },
  {
   "cell_type": "code",
   "execution_count": 69,
   "id": "7473d011-18b9-469d-9d28-e7e54c09cc1d",
   "metadata": {},
   "outputs": [
    {
     "data": {
      "text/plain": [
       "'1234567890123456'"
      ]
     },
     "execution_count": 69,
     "metadata": {},
     "output_type": "execute_result"
    }
   ],
   "source": [
    "obj_1.get_account_number()"
   ]
  },
  {
   "cell_type": "code",
   "execution_count": 75,
   "id": "82edad9e-bc9c-4f1a-942b-bdff6001fcf4",
   "metadata": {},
   "outputs": [
    {
     "data": {
      "text/plain": [
       "'PASS'"
      ]
     },
     "execution_count": 75,
     "metadata": {},
     "output_type": "execute_result"
    }
   ],
   "source": [
    "obj_1.get_password()"
   ]
  },
  {
   "cell_type": "code",
   "execution_count": null,
   "id": "af8bfbc8-aa46-49ea-a354-ca7914e3247d",
   "metadata": {},
   "outputs": [],
   "source": [
    "## but instead of accesing it user will not able to modify the data"
   ]
  },
  {
   "cell_type": "code",
   "execution_count": 78,
   "id": "b995c8d1-c109-4670-98cb-77b06eeb1462",
   "metadata": {},
   "outputs": [
    {
     "ename": "SyntaxError",
     "evalue": "cannot assign to function call here. Maybe you meant '==' instead of '='? (2074277088.py, line 1)",
     "output_type": "error",
     "traceback": [
      "\u001b[0;36m  Cell \u001b[0;32mIn[78], line 1\u001b[0;36m\u001b[0m\n\u001b[0;31m    obj_1.get_password() = 'SSAP'\u001b[0m\n\u001b[0m    ^\u001b[0m\n\u001b[0;31mSyntaxError\u001b[0m\u001b[0;31m:\u001b[0m cannot assign to function call here. Maybe you meant '==' instead of '='?\n"
     ]
    }
   ],
   "source": []
  },
  {
   "cell_type": "code",
   "execution_count": null,
   "id": "e58359c2-ec3f-45ec-bf9d-3fe0e5e6dec7",
   "metadata": {},
   "outputs": [],
   "source": [
    "## now the user will abel to modify the data using set_ method"
   ]
  },
  {
   "cell_type": "code",
   "execution_count": 93,
   "id": "ba975bce-f3ed-41e4-aac9-1f0add552c9b",
   "metadata": {},
   "outputs": [
    {
     "data": {
      "text/plain": [
       "'invalid'"
      ]
     },
     "execution_count": 93,
     "metadata": {},
     "output_type": "execute_result"
    }
   ],
   "source": [
    "obj_1.set_password(\"ABCDE\") ## Since password length is more than 4"
   ]
  },
  {
   "cell_type": "code",
   "execution_count": 96,
   "id": "2a409ee7-c77a-4aea-885c-53ae7518f1c0",
   "metadata": {},
   "outputs": [
    {
     "data": {
      "text/plain": [
       "'1234'"
      ]
     },
     "execution_count": 96,
     "metadata": {},
     "output_type": "execute_result"
    }
   ],
   "source": [
    "obj_1.set_password(\"1234\")"
   ]
  },
  {
   "cell_type": "code",
   "execution_count": 104,
   "id": "8b02ae26-8670-4077-a9a1-717e90f327ca",
   "metadata": {},
   "outputs": [
    {
     "data": {
      "text/plain": [
       "'PASS'"
      ]
     },
     "execution_count": 104,
     "metadata": {},
     "output_type": "execute_result"
    }
   ],
   "source": [
    "obj_1.get_password()"
   ]
  },
  {
   "cell_type": "code",
   "execution_count": 105,
   "id": "1b699908-e1e2-439d-98a6-d3e4a4a14c2c",
   "metadata": {},
   "outputs": [],
   "source": [
    "## Hence the encapsulation is achieved"
   ]
  },
  {
   "cell_type": "code",
   "execution_count": null,
   "id": "6f889890-7ef0-45ad-b87a-fb8ed26d4e5a",
   "metadata": {},
   "outputs": [],
   "source": [
    "## Another example of Encapsulaation"
   ]
  },
  {
   "cell_type": "code",
   "execution_count": 146,
   "id": "99725271-ce3d-4384-9236-f4c9ee65a4bf",
   "metadata": {},
   "outputs": [],
   "source": [
    "class Transaction:\n",
    "    def __init__(self , balance):\n",
    "        self.__balance = balance    # Making balance private so user should not be able to access or modify the balance\n",
    "        \n",
    "    def get_balance(self):         ## User can see their balance but not be able to modify it\n",
    "        return self.__balance\n",
    "    \n",
    "    def deposit(self, amount):\n",
    "        self.__balance = self.__balance + amount\n",
    "        return self.__balance\n",
    "    \n",
    "    def withdrawl(self, amount):\n",
    "        if self.__balance < amount:\n",
    "            print(\"Insufficient balance\")\n",
    "        else:\n",
    "            self.__balance = self.__balance - amount\n",
    "            print(\"Withdrawl Successful\")"
   ]
  },
  {
   "cell_type": "code",
   "execution_count": 148,
   "id": "8e024d25-98f6-4beb-b339-543f8e51e8cf",
   "metadata": {},
   "outputs": [
    {
     "data": {
      "text/plain": [
       "2000"
      ]
     },
     "execution_count": 148,
     "metadata": {},
     "output_type": "execute_result"
    }
   ],
   "source": [
    "account_1 = Transaction(2000)\n",
    "account_1.get_balance()"
   ]
  },
  {
   "cell_type": "code",
   "execution_count": 149,
   "id": "380d56dc-6966-4b1e-9ce9-e47f19d512d6",
   "metadata": {},
   "outputs": [
    {
     "data": {
      "text/plain": [
       "7000"
      ]
     },
     "execution_count": 149,
     "metadata": {},
     "output_type": "execute_result"
    }
   ],
   "source": [
    "account_1.deposit(5000)"
   ]
  },
  {
   "cell_type": "code",
   "execution_count": 150,
   "id": "871d60e6-fff6-4c85-a000-f33fbe01348a",
   "metadata": {},
   "outputs": [
    {
     "data": {
      "text/plain": [
       "7000"
      ]
     },
     "execution_count": 150,
     "metadata": {},
     "output_type": "execute_result"
    }
   ],
   "source": [
    "account_1.get_balance()"
   ]
  },
  {
   "cell_type": "code",
   "execution_count": 151,
   "id": "a242ef2b-d047-4c4d-b801-7c6c3b4e75a0",
   "metadata": {},
   "outputs": [
    {
     "name": "stdout",
     "output_type": "stream",
     "text": [
      "Withdrawl Successful\n"
     ]
    }
   ],
   "source": [
    "account_1.withdrawl(7000)"
   ]
  },
  {
   "cell_type": "code",
   "execution_count": 152,
   "id": "0184f606-43a0-454a-8b77-d8b6bce06563",
   "metadata": {},
   "outputs": [
    {
     "data": {
      "text/plain": [
       "0"
      ]
     },
     "execution_count": 152,
     "metadata": {},
     "output_type": "execute_result"
    }
   ],
   "source": [
    "account_1.get_balance()"
   ]
  },
  {
   "cell_type": "markdown",
   "id": "c5f02d97-ac9f-4486-86eb-f3f31c8b62fc",
   "metadata": {},
   "source": [
    "## Inheritance"
   ]
  },
  {
   "cell_type": "code",
   "execution_count": null,
   "id": "3b094497-de82-4e37-a416-cb5eaff38827",
   "metadata": {},
   "outputs": [],
   "source": [
    "## Inheritance example"
   ]
  },
  {
   "cell_type": "code",
   "execution_count": 158,
   "id": "8fa10c8e-d73c-437c-9921-31b719e4cc32",
   "metadata": {},
   "outputs": [],
   "source": [
    "class class_1:\n",
    "    def test_class_1(self):\n",
    "        print(\"Welcome to class-1\")"
   ]
  },
  {
   "cell_type": "code",
   "execution_count": 157,
   "id": "206e8889-6028-4e30-95fb-c7bb1f27d259",
   "metadata": {},
   "outputs": [],
   "source": [
    "class class_2(class_1):\n",
    "    def test_class_2(self):\n",
    "        print(\"Welcome to class-2\")"
   ]
  },
  {
   "cell_type": "code",
   "execution_count": 161,
   "id": "f33d1696-e9fc-42b4-ae4a-4c0c9a597ade",
   "metadata": {},
   "outputs": [
    {
     "name": "stdout",
     "output_type": "stream",
     "text": [
      "Welcome to class-1\n"
     ]
    }
   ],
   "source": [
    "obj_class_2 = class_2()       ## class_2 inheriting class_1\n",
    "obj_class_2.test_class_1()"
   ]
  },
  {
   "cell_type": "code",
   "execution_count": 162,
   "id": "f0fb34bc-0a0b-4cf6-85a5-d35dd443c97b",
   "metadata": {},
   "outputs": [
    {
     "name": "stdout",
     "output_type": "stream",
     "text": [
      "Welcome to class-2\n"
     ]
    }
   ],
   "source": [
    "obj_class_2.test_class_2()"
   ]
  },
  {
   "cell_type": "code",
   "execution_count": null,
   "id": "f1220e7a-a4d5-4c18-8267-9a6b1bf83db9",
   "metadata": {},
   "outputs": [],
   "source": [
    "## Multilevel Inheritance\n",
    "## class_3 < class_2 < class_1\n",
    "## Than class_3 will be able to access class_2  and class_1 \n",
    "## While class_ 2 will be able to access class_1\n",
    "## This is multilevel inheritance"
   ]
  },
  {
   "cell_type": "code",
   "execution_count": null,
   "id": "7134c471-acce-4150-9b00-8a0ffcfde9ed",
   "metadata": {},
   "outputs": [],
   "source": [
    "## Multiple inheritance Example"
   ]
  },
  {
   "cell_type": "code",
   "execution_count": 179,
   "id": "6a7d0171-a092-4f07-a3fc-41a2808e1077",
   "metadata": {},
   "outputs": [],
   "source": [
    "class class_1:\n",
    "    def test_class_1_f1(self):\n",
    "        print(\"This is class-1 first function\")\n",
    "    \n",
    "    def test_class_1_f2(self):\n",
    "        print(\"This is class-1 second function\")\n",
    "     \n",
    "    def test_class_1_f3(self):\n",
    "        print(\"This is class-1 third function\")"
   ]
  },
  {
   "cell_type": "code",
   "execution_count": 180,
   "id": "4cd8dfb0-1aa2-4271-8d51-96455a2f1e79",
   "metadata": {},
   "outputs": [],
   "source": [
    "class class_2:\n",
    "    def test_class_2_f1(self):\n",
    "        print(\"This is class-2 first function\")\n",
    "        \n",
    "    def test_class_2_f2(self):\n",
    "        print(\"This is class-2 second function\")"
   ]
  },
  {
   "cell_type": "code",
   "execution_count": 181,
   "id": "7c5a8075-48cc-4bb7-b12a-5b650ce292ea",
   "metadata": {},
   "outputs": [],
   "source": [
    "class class_3(class_1,class_2):\n",
    "    pass"
   ]
  },
  {
   "cell_type": "code",
   "execution_count": 182,
   "id": "64367068-37eb-4929-a5b7-8f44557c958d",
   "metadata": {},
   "outputs": [
    {
     "name": "stdout",
     "output_type": "stream",
     "text": [
      "This is class-1 third function\n"
     ]
    }
   ],
   "source": [
    "obj_class_3 = class_3()\n",
    "obj_class_3.test_class_1_f3()"
   ]
  },
  {
   "cell_type": "code",
   "execution_count": 183,
   "id": "cffd39e5-f960-4560-b700-2bc95c11d2d8",
   "metadata": {},
   "outputs": [
    {
     "name": "stdout",
     "output_type": "stream",
     "text": [
      "This is class-2 second function\n"
     ]
    }
   ],
   "source": [
    "obj_class_3.test_class_2_f2()\n"
   ]
  },
  {
   "cell_type": "code",
   "execution_count": null,
   "id": "ff20748e-98e2-4998-b60e-c63c8d54d283",
   "metadata": {},
   "outputs": [],
   "source": []
  },
  {
   "cell_type": "code",
   "execution_count": null,
   "id": "41db1654-6723-44ec-b96d-855e6eab3e85",
   "metadata": {},
   "outputs": [],
   "source": []
  },
  {
   "cell_type": "markdown",
   "id": "c81e116e-aa9c-4729-aea7-08af4257157a",
   "metadata": {},
   "source": [
    "## Abstraction"
   ]
  },
  {
   "cell_type": "code",
   "execution_count": null,
   "id": "ccaf4385-707b-4252-bc47-db3d2e14b5a1",
   "metadata": {},
   "outputs": [],
   "source": [
    "## Abstraction is basically skeleton or structure of class that we are creating\n",
    "## we need to import package 'abc' for abstraction"
   ]
  },
  {
   "cell_type": "code",
   "execution_count": null,
   "id": "7029bdbd-423c-496f-81f6-41093de3a6a0",
   "metadata": {},
   "outputs": [],
   "source": [
    "## Example Abstraction"
   ]
  },
  {
   "cell_type": "code",
   "execution_count": 189,
   "id": "743d53b6-dd37-40ea-ae01-04ea5f8d3c58",
   "metadata": {},
   "outputs": [],
   "source": [
    "import abc\n",
    "\n",
    "class college:               ## This is structure will be used by every subject\n",
    "      \n",
    "    @abc.abstractmethod\n",
    "    def students(self):\n",
    "        pass\n",
    "    \n",
    "    @abc.abstractmethod\n",
    "    def student_marks(self):\n",
    "        pass\n",
    "   \n",
    "    @abc.abstractmethod\n",
    "    def topper_student(self):\n",
    "        pass"
   ]
  },
  {
   "cell_type": "code",
   "execution_count": 193,
   "id": "6e0e9cae-2876-4768-88f3-6fdcf3142e86",
   "metadata": {},
   "outputs": [],
   "source": [
    "class Maths(college):\n",
    "    \n",
    "    def students(self):\n",
    "        print(\"Name of students having maths subject\")\n",
    "    \n",
    "    def student_marks(self):\n",
    "        print(\"Marks in maths\")\n",
    "        \n",
    "    def topper_student(self):\n",
    "        print(\"Name of maths topper\")"
   ]
  },
  {
   "cell_type": "code",
   "execution_count": 194,
   "id": "3448d584-fc13-4b07-becc-a67bd00cf434",
   "metadata": {},
   "outputs": [],
   "source": [
    "class Biology(college):\n",
    "    \n",
    "    def students(self):\n",
    "        print(\"Name of students having biology subject\")\n",
    "    \n",
    "    def student_marks(self):\n",
    "        print(\"Marks in biology\")\n",
    "        \n",
    "    def topper_student(self):\n",
    "        print(\"Name of biology topper\")"
   ]
  },
  {
   "cell_type": "code",
   "execution_count": 195,
   "id": "0f3857fe-f8f4-4a83-8386-e96104421933",
   "metadata": {},
   "outputs": [
    {
     "name": "stdout",
     "output_type": "stream",
     "text": [
      "Name of maths topper\n"
     ]
    }
   ],
   "source": [
    "student_1 = Maths()\n",
    "student_1.topper_student()"
   ]
  },
  {
   "cell_type": "code",
   "execution_count": 197,
   "id": "24db9e07-f90e-4aa1-89ea-d96820dfc20c",
   "metadata": {},
   "outputs": [
    {
     "name": "stdout",
     "output_type": "stream",
     "text": [
      "Marks in biology\n"
     ]
    }
   ],
   "source": [
    "student_2 = Biology()\n",
    "student_2.student_marks()"
   ]
  },
  {
   "cell_type": "code",
   "execution_count": null,
   "id": "2a67d1aa-fc4b-4d7f-a3ef-b510964a9923",
   "metadata": {},
   "outputs": [],
   "source": []
  },
  {
   "cell_type": "markdown",
   "id": "cbef32ae-3a1f-4428-bc32-8ee60f1e85ab",
   "metadata": {},
   "source": [
    "## Decorator"
   ]
  },
  {
   "cell_type": "code",
   "execution_count": 5,
   "id": "089d5be9-a97c-4e7e-ac74-931f71808458",
   "metadata": {},
   "outputs": [],
   "source": [
    "def decorator_ex_1():\n",
    "    print(\"Start\")\n",
    "    print(\"Main Function\")\n",
    "    print(\"End\")"
   ]
  },
  {
   "cell_type": "code",
   "execution_count": 7,
   "id": "9cab0fb9-f688-460d-93ac-f2fdea67b717",
   "metadata": {},
   "outputs": [
    {
     "name": "stdout",
     "output_type": "stream",
     "text": [
      "Start\n",
      "Main Function\n",
      "End\n"
     ]
    }
   ],
   "source": [
    "decorator_ex_1()   # now if i want that print(\"Start\") and  print(\"End\") should be printed before and after every function.\n",
    "                   # I can write it before and after every function like here\n",
    "                   # but it's to hectic to do again and again.\n",
    "                   # Their Is alternate way of doing the same which is decorator function.\n",
    "            \n",
    "            "
   ]
  },
  {
   "cell_type": "code",
   "execution_count": 9,
   "id": "139cbabe-dfdc-42df-bd4d-67445b71120d",
   "metadata": {},
   "outputs": [],
   "source": [
    "def common():\n",
    "    print(\"hi\")\n",
    "    print(\"By\")"
   ]
  },
  {
   "cell_type": "code",
   "execution_count": 10,
   "id": "736292b7-0944-44e4-8e8d-b66172636f23",
   "metadata": {},
   "outputs": [],
   "source": [
    "def main():\n",
    "    print(\"Main function\")"
   ]
  },
  {
   "cell_type": "code",
   "execution_count": 11,
   "id": "f97eca22-7672-431d-86b8-b69753455305",
   "metadata": {},
   "outputs": [
    {
     "name": "stdout",
     "output_type": "stream",
     "text": [
      "hi\n",
      "By\n",
      "Main function\n"
     ]
    }
   ],
   "source": [
    "common()    # but if i want main function in betweeen than we have to create each function separately and call it likewise\n",
    "main()      # instead we use decorator"
   ]
  },
  {
   "cell_type": "code",
   "execution_count": 18,
   "id": "9a8e29d6-df5c-4879-80c4-e7ec0d07452e",
   "metadata": {},
   "outputs": [],
   "source": [
    "## Example_1 decorator\n",
    "def deco(func):            ## This is decorator can be used to decorate code.\n",
    "    def inner_deco():\n",
    "        print(\"Start\")\n",
    "        func()\n",
    "        print(\"end\")\n",
    "    return inner_deco"
   ]
  },
  {
   "cell_type": "code",
   "execution_count": 20,
   "id": "f6e7cb27-d1f6-4ea9-ba4b-cf21d463de0d",
   "metadata": {},
   "outputs": [],
   "source": [
    "@deco\n",
    "def main_func():\n",
    "    print(\"Main Function\")"
   ]
  },
  {
   "cell_type": "code",
   "execution_count": 21,
   "id": "c0747119-7e33-4e3a-92a2-fea9e0737821",
   "metadata": {},
   "outputs": [
    {
     "name": "stdout",
     "output_type": "stream",
     "text": [
      "Start\n",
      "Main Function\n",
      "end\n"
     ]
    }
   ],
   "source": [
    "main_func()"
   ]
  },
  {
   "cell_type": "code",
   "execution_count": 61,
   "id": "6c13ace5-21be-4a69-8770-a6b2b92592fb",
   "metadata": {},
   "outputs": [],
   "source": [
    "## Example_2 decorator\n",
    "## To calculate how much time is taken by function to get executed we can create a decorator function\n",
    "\n",
    "import time\n",
    "def timer(func):\n",
    "    def inner_timer():\n",
    "        start_time = time.time()\n",
    "        func()\n",
    "        end_time = time.time()\n",
    "        print(\"Time take to execute the function is :\", end_time - start_time)\n",
    "    return inner_timer\n"
   ]
  },
  {
   "cell_type": "code",
   "execution_count": 62,
   "id": "5b557ac6-b31c-47da-bc6e-b6202cba1b68",
   "metadata": {},
   "outputs": [],
   "source": [
    "@timer\n",
    "def funct():\n",
    "    size = int(input('Enter the size'))\n",
    "    i = 1\n",
    "    while i <= size:\n",
    "        j = size\n",
    "        while j > 0:\n",
    "            print(' '*j , end = \" \")\n",
    "            j = j - 1\n",
    "            print('* '*(i))\n",
    "            i = i + 1"
   ]
  },
  {
   "cell_type": "code",
   "execution_count": 65,
   "id": "51c08723-7ba3-4e9a-bacf-e19079c8e9af",
   "metadata": {},
   "outputs": [
    {
     "name": "stdin",
     "output_type": "stream",
     "text": [
      "Enter the size 10\n"
     ]
    },
    {
     "name": "stdout",
     "output_type": "stream",
     "text": [
      "           * \n",
      "          * * \n",
      "         * * * \n",
      "        * * * * \n",
      "       * * * * * \n",
      "      * * * * * * \n",
      "     * * * * * * * \n",
      "    * * * * * * * * \n",
      "   * * * * * * * * * \n",
      "  * * * * * * * * * * \n",
      "Time take to execute the function is : 6.811570644378662\n"
     ]
    }
   ],
   "source": [
    "funct()\n"
   ]
  },
  {
   "cell_type": "markdown",
   "id": "f676c597-78b5-4a92-820b-76bd7e1ce6c1",
   "metadata": {},
   "source": [
    "## Class Method"
   ]
  },
  {
   "cell_type": "code",
   "execution_count": 66,
   "id": "09571a51-fce1-45c0-a2e9-e3913c273e15",
   "metadata": {},
   "outputs": [],
   "source": [
    "## Class method is alternative to __init__ method.\n",
    "## Class method is decorator.\n",
    "## In python we cannot achieve method overloading directly, but by using class method we can achieve method overloading."
   ]
  },
  {
   "cell_type": "code",
   "execution_count": null,
   "id": "ae66c49b-a18b-43e0-91bc-d35221b2dc9c",
   "metadata": {},
   "outputs": [],
   "source": [
    "# Example of classmethod"
   ]
  },
  {
   "cell_type": "code",
   "execution_count": 83,
   "id": "11fbd5a5-bc58-4eb8-baa1-44778421cc90",
   "metadata": {},
   "outputs": [],
   "source": [
    "class data:    \n",
    "    \n",
    "    def __init__(self,Roll_No,Course,Majors,Job_Position):   \n",
    "        \n",
    "        self.Roll_No = Roll_No           \n",
    "        self.Course = Course           \n",
    "        self.Majors = Majors\n",
    "        self.Job_Position = Job_Position\n",
    "    @classmethod\n",
    "    def class_method_exam(cls ,Roll_No,Course,Majors,Job_Position):\n",
    "        return cls(Roll_No,Course,Majors,Job_Position)\n",
    "    \n",
    "    def return_data(self):\n",
    "        return self.Roll_No,self.Course,self.Majors,self.Job_Position "
   ]
  },
  {
   "cell_type": "code",
   "execution_count": 81,
   "id": "9082df94-ebea-4b7a-aed8-c6864aa54c2d",
   "metadata": {},
   "outputs": [],
   "source": [
    "## Creating instance variabble classmethod\n",
    "data_obj_1 = data.class_method_exam(\"977\",\"Msc. Data Science\",\"Machine Learning\",\"M.L Engineer\")"
   ]
  },
  {
   "cell_type": "code",
   "execution_count": 91,
   "id": "f0a9a627-d555-4be4-b4d0-7695b0f430cd",
   "metadata": {},
   "outputs": [
    {
     "data": {
      "text/plain": [
       "'Msc. Data Science'"
      ]
     },
     "execution_count": 91,
     "metadata": {},
     "output_type": "execute_result"
    }
   ],
   "source": [
    "## Calling instance variabble classmethod\n",
    "data_obj_1.Majors\n",
    "data_obj_1.Course"
   ]
  },
  {
   "cell_type": "code",
   "execution_count": null,
   "id": "abed19e7-211e-4cbe-8e19-f3d0fd150159",
   "metadata": {},
   "outputs": [],
   "source": [
    "## creating instance variable __init__ method"
   ]
  },
  {
   "cell_type": "code",
   "execution_count": 92,
   "id": "d6183464-2293-4426-9273-6b094f397d57",
   "metadata": {},
   "outputs": [],
   "source": [
    "data_obj_2 = data(\"977\",\"Msc. Data Science\",\"Machine Learning\",\"M.L Engineer\")"
   ]
  },
  {
   "cell_type": "code",
   "execution_count": 94,
   "id": "7b8e4d7a-de9d-4dbb-b719-f167ad71aff2",
   "metadata": {},
   "outputs": [
    {
     "data": {
      "text/plain": [
       "'Machine Learning'"
      ]
     },
     "execution_count": 94,
     "metadata": {},
     "output_type": "execute_result"
    }
   ],
   "source": [
    "data_obj_2.Majors"
   ]
  },
  {
   "cell_type": "code",
   "execution_count": 96,
   "id": "b015d2d1-1005-4788-93a9-0378981fa940",
   "metadata": {},
   "outputs": [
    {
     "data": {
      "text/plain": [
       "('977', 'Msc. Data Science', 'Machine Learning', 'M.L Engineer')"
      ]
     },
     "execution_count": 96,
     "metadata": {},
     "output_type": "execute_result"
    }
   ],
   "source": [
    "data_obj_1.return_data()  ## Method overloading"
   ]
  },
  {
   "cell_type": "code",
   "execution_count": 22,
   "id": "74568d31-ee31-4c79-9191-3216186fc53e",
   "metadata": {},
   "outputs": [],
   "source": [
    "class data_2:    \n",
    "    \n",
    "    name_of_company = \"Meta\"         ## A instance is created within the class\n",
    "    \n",
    "    def __init__(self,Roll_No,Course,Majors,Job_Position):   \n",
    "        \n",
    "        self.Roll_No = Roll_No           \n",
    "        self.Course = Course           \n",
    "        self.Majors = Majors\n",
    "        self.Job_Position = Job_Position\n",
    "    @classmethod\n",
    "    def class_method_exam(cls ,Roll_No,Course,Majors,Job_Position):\n",
    "        return cls(Roll_No,Course,Majors,Job_Position)\n",
    "    \n",
    "    def return_data(self):\n",
    "        return self.Roll_No,self.Course,self.Majors,self.Job_Position,data_2.name_of_company "
   ]
  },
  {
   "cell_type": "code",
   "execution_count": 3,
   "id": "39876ecc-607b-4412-b68b-7869440923b1",
   "metadata": {},
   "outputs": [
    {
     "data": {
      "text/plain": [
       "'Meta'"
      ]
     },
     "execution_count": 3,
     "metadata": {},
     "output_type": "execute_result"
    }
   ],
   "source": [
    "## we did not need to create a instance variable here,\n",
    "## since it was already created in class we just direclt called it.\n",
    "\n",
    "data_2.name_of_company "
   ]
  },
  {
   "cell_type": "code",
   "execution_count": 19,
   "id": "fca1b717-0f57-44c1-a33d-40b7fb174add",
   "metadata": {},
   "outputs": [],
   "source": [
    "var_data_2 = data_2(\"977\",\"Msc. Data Science\",\"Machine Learning\",\"M.L Engineer\")"
   ]
  },
  {
   "cell_type": "code",
   "execution_count": 14,
   "id": "5c4b8d8d-d0a5-48c6-995d-0cad8f8d95df",
   "metadata": {},
   "outputs": [
    {
     "data": {
      "text/plain": [
       "('977', 'Msc. Data Science', 'Machine Learning', 'M.L Engineer')"
      ]
     },
     "execution_count": 14,
     "metadata": {},
     "output_type": "execute_result"
    }
   ],
   "source": [
    "var_data_2.return_data()"
   ]
  },
  {
   "cell_type": "code",
   "execution_count": null,
   "id": "fd174999-cd59-41a6-ac09-482cfdbabb45",
   "metadata": {},
   "outputs": [],
   "source": [
    "## Here the name_of_company is not included.\n",
    "## we can achieve it br adding one more argument in return_data function which is data_2.name_of_company"
   ]
  },
  {
   "cell_type": "code",
   "execution_count": 17,
   "id": "f48ead08-9bc2-464a-b7e8-78321bef4c25",
   "metadata": {},
   "outputs": [
    {
     "data": {
      "text/plain": [
       "('977', 'Msc. Data Science', 'Machine Learning', 'M.L Engineer', 'Meta')"
      ]
     },
     "execution_count": 17,
     "metadata": {},
     "output_type": "execute_result"
    }
   ],
   "source": [
    "var_data_2.return_data() ## not its there"
   ]
  },
  {
   "cell_type": "code",
   "execution_count": 21,
   "id": "a4cf0a82-f784-48e8-9ce7-5fb21d6c9a9a",
   "metadata": {},
   "outputs": [
    {
     "data": {
      "text/plain": [
       "'Meta'"
      ]
     },
     "execution_count": 21,
     "metadata": {},
     "output_type": "execute_result"
    }
   ],
   "source": [
    "var_data_2.name_of_company ## through class method."
   ]
  },
  {
   "cell_type": "code",
   "execution_count": 23,
   "id": "e3e7a263-913d-4848-8ce8-8cada93180ab",
   "metadata": {},
   "outputs": [],
   "source": [
    "class data_3:    \n",
    "    \n",
    "    name_of_company = \"Meta\"         ## A instance is created within the class\n",
    "    \n",
    "    def __init__(self,Roll_No,Course,Majors,Job_Position):   \n",
    "        \n",
    "        self.Roll_No = Roll_No           \n",
    "        self.Course = Course           \n",
    "        self.Majors = Majors\n",
    "        self.Job_Position = Job_Position\n",
    "    @classmethod\n",
    "    def class_method_exam(cls ,Roll_No,Course,Majors,Job_Position):\n",
    "        return cls(Roll_No,Course,Majors,Job_Position)\n",
    "    \n",
    "    def return_data(self):\n",
    "        return self.Roll_No,self.Course,self.Majors,self.Job_Position,data_2.name_of_company "
   ]
  },
  {
   "cell_type": "code",
   "execution_count": null,
   "id": "19a7b2f9-9151-453e-9d09-051b220c1429",
   "metadata": {},
   "outputs": [],
   "source": [
    "## How can we include external function in our class dynamically."
   ]
  },
  {
   "cell_type": "code",
   "execution_count": 30,
   "id": "d22e7e76-3e55-40f3-8960-f53d1f9a151c",
   "metadata": {},
   "outputs": [],
   "source": [
    "def year_of_passing(cls, year):      ##to include this function in our class data_3\n",
    "    print(\"Year of passing is :\",year)"
   ]
  },
  {
   "cell_type": "code",
   "execution_count": 31,
   "id": "28216e5d-70d3-476c-8213-516f68f50dc9",
   "metadata": {},
   "outputs": [],
   "source": [
    "data_3.year_of_passing = classmethod(year_of_passing)"
   ]
  },
  {
   "cell_type": "code",
   "execution_count": 32,
   "id": "7a9d7df2-c128-482b-bdc3-916eee4ba95f",
   "metadata": {},
   "outputs": [
    {
     "name": "stdout",
     "output_type": "stream",
     "text": [
      "Year of passing is : 2025\n"
     ]
    }
   ],
   "source": [
    "data_3.year_of_passing(\"2025\")"
   ]
  },
  {
   "cell_type": "code",
   "execution_count": null,
   "id": "b2e5e2d4-db6d-41c3-8c1c-4daa0f6e9c50",
   "metadata": {},
   "outputs": [],
   "source": []
  },
  {
   "cell_type": "markdown",
   "id": "fe776450-06ee-446b-93bf-f2e3e67d5277",
   "metadata": {},
   "source": [
    "## Static Method"
   ]
  },
  {
   "cell_type": "code",
   "execution_count": 18,
   "id": "5c6afc9d-6f92-4bf2-ac31-4134d2ff6428",
   "metadata": {},
   "outputs": [],
   "source": [
    "## @staticmethod , using this decorator we can access the function of class.\n",
    "## directly without creating instance variables.\n",
    "## This is useful, when we have n-no. of variable for certain class acessing \n",
    "## same function of class this can lead to use of huge amount of storage.\n",
    "## using static method we do not need to use variables.\n",
    "## @staticmethod function are aceesible throug out the class.\n",
    "## and it will not replicate every time as variable is not created.\n",
    "## it is used to reduce memomry utilization."
   ]
  },
  {
   "cell_type": "code",
   "execution_count": null,
   "id": "54d859ad-4672-49e1-85a7-8ae188a4f088",
   "metadata": {},
   "outputs": [],
   "source": [
    "# example of static method"
   ]
  },
  {
   "cell_type": "code",
   "execution_count": 13,
   "id": "a547f6e3-5588-49e8-871c-bc5098f47a58",
   "metadata": {},
   "outputs": [],
   "source": [
    "class static_method_ex_1:\n",
    "    \n",
    "    def enter_detail(self, name , age , phone_num):\n",
    "        print(name, age, phone_num)\n",
    "        \n",
    "    @staticmethod\n",
    "    def list_of_doc(list_of_documents):\n",
    "        print(list_of_documents)\n",
    "    \n",
    "    @staticmethod\n",
    "    def details(adhar_number,pan_number):\n",
    "        return adhar_number,pan_number\n",
    "    \n",
    "    "
   ]
  },
  {
   "cell_type": "code",
   "execution_count": 14,
   "id": "fdbeac15-ab9a-4ad5-9463-73716585fd5e",
   "metadata": {},
   "outputs": [
    {
     "name": "stdout",
     "output_type": "stream",
     "text": [
      "['adhar_card', 'pan_card']\n"
     ]
    }
   ],
   "source": [
    "static_method_ex_1.list_of_doc([\"adhar_card\",\"pan_card\"])"
   ]
  },
  {
   "cell_type": "code",
   "execution_count": 15,
   "id": "1f202d6c-cc80-4991-960a-108b198fa6bf",
   "metadata": {},
   "outputs": [
    {
     "data": {
      "text/plain": [
       "(123456789012, '1A2S3D4F')"
      ]
     },
     "execution_count": 15,
     "metadata": {},
     "output_type": "execute_result"
    }
   ],
   "source": [
    "static_method_ex_1.details(123456789012,\"1A2S3D4F\")"
   ]
  },
  {
   "cell_type": "code",
   "execution_count": 17,
   "id": "20b57e37-9cda-4d1d-8044-8326aa771b04",
   "metadata": {},
   "outputs": [
    {
     "ename": "NameError",
     "evalue": "name 'adhar_number' is not defined",
     "output_type": "error",
     "traceback": [
      "\u001b[0;31m---------------------------------------------------------------------------\u001b[0m",
      "\u001b[0;31mNameError\u001b[0m                                 Traceback (most recent call last)",
      "Cell \u001b[0;32mIn[17], line 1\u001b[0m\n\u001b[0;32m----> 1\u001b[0m static_method_ex_1\u001b[38;5;241m.\u001b[39mdetails(\u001b[43madhar_number\u001b[49m)\n",
      "\u001b[0;31mNameError\u001b[0m: name 'adhar_number' is not defined"
     ]
    }
   ],
   "source": [
    "static_method_ex_1.details(adhar_number)"
   ]
  },
  {
   "cell_type": "code",
   "execution_count": null,
   "id": "0e5fca71-6fc6-4726-8071-57719593babb",
   "metadata": {},
   "outputs": [],
   "source": [
    "# Example:2"
   ]
  },
  {
   "cell_type": "code",
   "execution_count": 36,
   "id": "1127c14d-7e90-4874-a3dc-b7f74afdecdf",
   "metadata": {},
   "outputs": [],
   "source": [
    "class static_method:\n",
    "    \n",
    "   \n",
    "    def parents_detail(self, Father_Name , Mother_Name):\n",
    "        return Father_Name , Mother_Name\n",
    "       \n",
    "    \n",
    "    @staticmethod \n",
    "    def course_list(list_of_courses):\n",
    "        print(list_of_courses)\n",
    "                                                    ## staticmethods\n",
    "    @staticmethod\n",
    "    def dates(course_start_date,course_end_date):\n",
    "        return course_start_date,course_end_date             ## we can acess static method inside another static method\n",
    "        static_method.course_list([\"Msc.Data Science\",\"Msc.Mathematics\",\"Msc.Statics\"])\n",
    "    \n",
    "    @classmethod\n",
    "    def education_details(cls,tenth_percentage_or_CGPA, twelveth_percentage_or_CGPA, Degree_percetage_or_CGPA):  ## classmethod\n",
    "        return cls(tenth_percentage_or_CGPA, twelveth_percentage_or_CGPA, Degree_percetage_or_CGPA)\n",
    "    \n",
    "    @staticmethod\n",
    "    def mentors_name(list_of_mentors):\n",
    "        print(list_of_mentors)\n",
    "        \n",
    "    @classmethod\n",
    "    def choice(cls, your_course_choice):\n",
    "        return your_course_choice        ## we can acess static method inside class method\n",
    "         static_method.mentor_name([\"Aman Vishwakarma\",\"Rohan Chauhan\"])\n",
    "    \n",
    "    def email_id(self, email_id_1, email_id_2):\n",
    "        return email_id_1, email_id_2          ## we can acess static method inside instance method\n",
    "        self.mentor_name([\"Aman Vishwakarma\",\"Rohan Chauhan\"])"
   ]
  },
  {
   "cell_type": "code",
   "execution_count": 33,
   "id": "c5f7f002-6ec5-4ba2-936b-30f41cfa1c98",
   "metadata": {},
   "outputs": [
    {
     "name": "stdout",
     "output_type": "stream",
     "text": [
      "['Msc.Data Science', 'Msc.Mathematics', 'Msc.Statics']\n"
     ]
    }
   ],
   "source": [
    "## We can acess staticmethods directly\n",
    "\n",
    "## directly\n",
    "static_method.course_list([\"Msc.Data Science\",\"Msc.Mathematics\",\"Msc.Statics\"])\n"
   ]
  },
  {
   "cell_type": "code",
   "execution_count": 39,
   "id": "aa5bc888-9723-4567-8cfb-93eb4b18dd0f",
   "metadata": {},
   "outputs": [
    {
     "ename": "AttributeError",
     "evalue": "'static_method' object has no attribute 'mentor_name'",
     "output_type": "error",
     "traceback": [
      "\u001b[0;31m---------------------------------------------------------------------------\u001b[0m",
      "\u001b[0;31mAttributeError\u001b[0m                            Traceback (most recent call last)",
      "Cell \u001b[0;32mIn[39], line 3\u001b[0m\n\u001b[1;32m      1\u001b[0m var_1 \u001b[38;5;241m=\u001b[39m static_method()\n\u001b[1;32m      2\u001b[0m var_1\u001b[38;5;241m.\u001b[39mparents_detail(\u001b[38;5;124m\"\u001b[39m\u001b[38;5;124mGauri\u001b[39m\u001b[38;5;124m\"\u001b[39m,\u001b[38;5;124m\"\u001b[39m\u001b[38;5;124mShiva\u001b[39m\u001b[38;5;124m\"\u001b[39m)\n\u001b[0;32m----> 3\u001b[0m \u001b[43mvar_1\u001b[49m\u001b[38;5;241;43m.\u001b[39;49m\u001b[43mmentor_name\u001b[49m()\n",
      "\u001b[0;31mAttributeError\u001b[0m: 'static_method' object has no attribute 'mentor_name'"
     ]
    }
   ],
   "source": [
    "var_1 = static_method()\n",
    "var_1.parents_detail(\"Gauri\",\"Shiva\")\n",
    "var_1.mentor_name()"
   ]
  },
  {
   "cell_type": "code",
   "execution_count": 41,
   "id": "ab6bf597-116c-41c2-bf3e-6f52d3994a2c",
   "metadata": {},
   "outputs": [
    {
     "data": {
      "text/plain": [
       "('xyz@gmail.com', 'abc@gmail.com')"
      ]
     },
     "execution_count": 41,
     "metadata": {},
     "output_type": "execute_result"
    }
   ],
   "source": [
    "var_1 = static_method()\n",
    "var_1.email_id(\"xyz@gmail.com\",\"abc@gmail.com\")\n"
   ]
  },
  {
   "cell_type": "code",
   "execution_count": null,
   "id": "86f71f2d-6f15-40b7-898e-1d29f7293048",
   "metadata": {},
   "outputs": [],
   "source": []
  },
  {
   "cell_type": "markdown",
   "id": "a377f197-edb9-4184-bde6-b45cb8e0be0f",
   "metadata": {},
   "source": [
    "## Special/Magic/Dunder Method"
   ]
  },
  {
   "cell_type": "code",
   "execution_count": 43,
   "id": "c014b330-de39-4618-80a9-ab4068bad42c",
   "metadata": {},
   "outputs": [
    {
     "data": {
      "text/plain": [
       "['__abs__',\n",
       " '__add__',\n",
       " '__and__',\n",
       " '__bool__',\n",
       " '__ceil__',\n",
       " '__class__',\n",
       " '__delattr__',\n",
       " '__dir__',\n",
       " '__divmod__',\n",
       " '__doc__',\n",
       " '__eq__',\n",
       " '__float__',\n",
       " '__floor__',\n",
       " '__floordiv__',\n",
       " '__format__',\n",
       " '__ge__',\n",
       " '__getattribute__',\n",
       " '__getnewargs__',\n",
       " '__gt__',\n",
       " '__hash__',\n",
       " '__index__',\n",
       " '__init__',\n",
       " '__init_subclass__',\n",
       " '__int__',\n",
       " '__invert__',\n",
       " '__le__',\n",
       " '__lshift__',\n",
       " '__lt__',\n",
       " '__mod__',\n",
       " '__mul__',\n",
       " '__ne__',\n",
       " '__neg__',\n",
       " '__new__',\n",
       " '__or__',\n",
       " '__pos__',\n",
       " '__pow__',\n",
       " '__radd__',\n",
       " '__rand__',\n",
       " '__rdivmod__',\n",
       " '__reduce__',\n",
       " '__reduce_ex__',\n",
       " '__repr__',\n",
       " '__rfloordiv__',\n",
       " '__rlshift__',\n",
       " '__rmod__',\n",
       " '__rmul__',\n",
       " '__ror__',\n",
       " '__round__',\n",
       " '__rpow__',\n",
       " '__rrshift__',\n",
       " '__rshift__',\n",
       " '__rsub__',\n",
       " '__rtruediv__',\n",
       " '__rxor__',\n",
       " '__setattr__',\n",
       " '__sizeof__',\n",
       " '__str__',\n",
       " '__sub__',\n",
       " '__subclasshook__',\n",
       " '__truediv__',\n",
       " '__trunc__',\n",
       " '__xor__',\n",
       " 'as_integer_ratio',\n",
       " 'bit_count',\n",
       " 'bit_length',\n",
       " 'conjugate',\n",
       " 'denominator',\n",
       " 'from_bytes',\n",
       " 'imag',\n",
       " 'numerator',\n",
       " 'real',\n",
       " 'to_bytes']"
      ]
     },
     "execution_count": 43,
     "metadata": {},
     "output_type": "execute_result"
    }
   ],
   "source": [
    "dir(int)  \n",
    "\n",
    "## This are all methods that are associated with \"int\" internally.\n",
    "## This all are called as Dunder because it as __ in begining and at end."
   ]
  },
  {
   "cell_type": "code",
   "execution_count": 48,
   "id": "0f651a1d-0578-43ad-85ef-c7d611903ade",
   "metadata": {},
   "outputs": [
    {
     "name": "stdout",
     "output_type": "stream",
     "text": [
      "9\n",
      "9\n",
      "3\n"
     ]
    }
   ],
   "source": [
    "a = 3\n",
    "b = 6\n",
    "print(a+b)\n",
    "print(a.__add__(b))  ## dunder method perform same task \n",
    "a = -3\n",
    "print(a.__abs__())\n"
   ]
  },
  {
   "cell_type": "code",
   "execution_count": 49,
   "id": "aff8e491-369c-4e04-9153-d1512261e26e",
   "metadata": {},
   "outputs": [
    {
     "data": {
      "text/plain": [
       "['__add__',\n",
       " '__class__',\n",
       " '__contains__',\n",
       " '__delattr__',\n",
       " '__dir__',\n",
       " '__doc__',\n",
       " '__eq__',\n",
       " '__format__',\n",
       " '__ge__',\n",
       " '__getattribute__',\n",
       " '__getitem__',\n",
       " '__getnewargs__',\n",
       " '__gt__',\n",
       " '__hash__',\n",
       " '__init__',\n",
       " '__init_subclass__',\n",
       " '__iter__',\n",
       " '__le__',\n",
       " '__len__',\n",
       " '__lt__',\n",
       " '__mod__',\n",
       " '__mul__',\n",
       " '__ne__',\n",
       " '__new__',\n",
       " '__reduce__',\n",
       " '__reduce_ex__',\n",
       " '__repr__',\n",
       " '__rmod__',\n",
       " '__rmul__',\n",
       " '__setattr__',\n",
       " '__sizeof__',\n",
       " '__str__',\n",
       " '__subclasshook__',\n",
       " 'capitalize',\n",
       " 'casefold',\n",
       " 'center',\n",
       " 'count',\n",
       " 'encode',\n",
       " 'endswith',\n",
       " 'expandtabs',\n",
       " 'find',\n",
       " 'format',\n",
       " 'format_map',\n",
       " 'index',\n",
       " 'isalnum',\n",
       " 'isalpha',\n",
       " 'isascii',\n",
       " 'isdecimal',\n",
       " 'isdigit',\n",
       " 'isidentifier',\n",
       " 'islower',\n",
       " 'isnumeric',\n",
       " 'isprintable',\n",
       " 'isspace',\n",
       " 'istitle',\n",
       " 'isupper',\n",
       " 'join',\n",
       " 'ljust',\n",
       " 'lower',\n",
       " 'lstrip',\n",
       " 'maketrans',\n",
       " 'partition',\n",
       " 'removeprefix',\n",
       " 'removesuffix',\n",
       " 'replace',\n",
       " 'rfind',\n",
       " 'rindex',\n",
       " 'rjust',\n",
       " 'rpartition',\n",
       " 'rsplit',\n",
       " 'rstrip',\n",
       " 'split',\n",
       " 'splitlines',\n",
       " 'startswith',\n",
       " 'strip',\n",
       " 'swapcase',\n",
       " 'title',\n",
       " 'translate',\n",
       " 'upper',\n",
       " 'zfill']"
      ]
     },
     "execution_count": 49,
     "metadata": {},
     "output_type": "execute_result"
    }
   ],
   "source": [
    "dir(str)"
   ]
  },
  {
   "cell_type": "code",
   "execution_count": 50,
   "id": "0e888f60-b205-4f8a-a301-4cc6beb33273",
   "metadata": {},
   "outputs": [
    {
     "data": {
      "text/plain": [
       "['__add__',\n",
       " '__class__',\n",
       " '__class_getitem__',\n",
       " '__contains__',\n",
       " '__delattr__',\n",
       " '__delitem__',\n",
       " '__dir__',\n",
       " '__doc__',\n",
       " '__eq__',\n",
       " '__format__',\n",
       " '__ge__',\n",
       " '__getattribute__',\n",
       " '__getitem__',\n",
       " '__gt__',\n",
       " '__hash__',\n",
       " '__iadd__',\n",
       " '__imul__',\n",
       " '__init__',\n",
       " '__init_subclass__',\n",
       " '__iter__',\n",
       " '__le__',\n",
       " '__len__',\n",
       " '__lt__',\n",
       " '__mul__',\n",
       " '__ne__',\n",
       " '__new__',\n",
       " '__reduce__',\n",
       " '__reduce_ex__',\n",
       " '__repr__',\n",
       " '__reversed__',\n",
       " '__rmul__',\n",
       " '__setattr__',\n",
       " '__setitem__',\n",
       " '__sizeof__',\n",
       " '__str__',\n",
       " '__subclasshook__',\n",
       " 'append',\n",
       " 'clear',\n",
       " 'copy',\n",
       " 'count',\n",
       " 'extend',\n",
       " 'index',\n",
       " 'insert',\n",
       " 'pop',\n",
       " 'remove',\n",
       " 'reverse',\n",
       " 'sort']"
      ]
     },
     "execution_count": 50,
     "metadata": {},
     "output_type": "execute_result"
    }
   ],
   "source": [
    "dir(list)"
   ]
  },
  {
   "cell_type": "code",
   "execution_count": 51,
   "id": "c5605dd8-55d3-4be1-b077-c70ae8a0b2df",
   "metadata": {},
   "outputs": [
    {
     "data": {
      "text/plain": [
       "['__and__',\n",
       " '__class__',\n",
       " '__class_getitem__',\n",
       " '__contains__',\n",
       " '__delattr__',\n",
       " '__dir__',\n",
       " '__doc__',\n",
       " '__eq__',\n",
       " '__format__',\n",
       " '__ge__',\n",
       " '__getattribute__',\n",
       " '__gt__',\n",
       " '__hash__',\n",
       " '__iand__',\n",
       " '__init__',\n",
       " '__init_subclass__',\n",
       " '__ior__',\n",
       " '__isub__',\n",
       " '__iter__',\n",
       " '__ixor__',\n",
       " '__le__',\n",
       " '__len__',\n",
       " '__lt__',\n",
       " '__ne__',\n",
       " '__new__',\n",
       " '__or__',\n",
       " '__rand__',\n",
       " '__reduce__',\n",
       " '__reduce_ex__',\n",
       " '__repr__',\n",
       " '__ror__',\n",
       " '__rsub__',\n",
       " '__rxor__',\n",
       " '__setattr__',\n",
       " '__sizeof__',\n",
       " '__str__',\n",
       " '__sub__',\n",
       " '__subclasshook__',\n",
       " '__xor__',\n",
       " 'add',\n",
       " 'clear',\n",
       " 'copy',\n",
       " 'difference',\n",
       " 'difference_update',\n",
       " 'discard',\n",
       " 'intersection',\n",
       " 'intersection_update',\n",
       " 'isdisjoint',\n",
       " 'issubset',\n",
       " 'issuperset',\n",
       " 'pop',\n",
       " 'remove',\n",
       " 'symmetric_difference',\n",
       " 'symmetric_difference_update',\n",
       " 'union',\n",
       " 'update']"
      ]
     },
     "execution_count": 51,
     "metadata": {},
     "output_type": "execute_result"
    }
   ],
   "source": [
    "dir(set)"
   ]
  },
  {
   "cell_type": "code",
   "execution_count": null,
   "id": "3af3a0b7-b708-43d7-be1a-3579dafee34c",
   "metadata": {},
   "outputs": [],
   "source": []
  },
  {
   "cell_type": "markdown",
   "id": "ebc3bbed-e70d-4c76-805b-d68555b8bddf",
   "metadata": {},
   "source": [
    "## Property Decorator"
   ]
  },
  {
   "cell_type": "code",
   "execution_count": 52,
   "id": "a61b2a7b-a2e7-4cf4-b7cd-55589bcc13c5",
   "metadata": {},
   "outputs": [],
   "source": [
    "## @property is used to expose the protected and private variable of class to external useer.\n",
    "## __ is private and _ is protected\n",
    "## setter is used to allow the user to set the value of attrribute which is allowed because of property decorator.\n",
    "## deleter is used to allow the user to delet the attribute that is private or protected which is allowed because of property decorator.\n"
   ]
  },
  {
   "cell_type": "code",
   "execution_count": 100,
   "id": "fa8dd52f-2bd1-4683-97b1-f4410da68fba",
   "metadata": {},
   "outputs": [],
   "source": [
    "class property_deco_ex_1:\n",
    "    \n",
    "    def __init__(self,number,email_id,password):\n",
    "        \n",
    "        self._number = number            ## protected\n",
    "        self.email_id = email_id         ## public\n",
    "        self.__password = password       ## private\n",
    "        \n",
    "    \n",
    "    @property\n",
    "    def acess_password(self):      ## it will make password accesible to user\n",
    "        return self.__password\n",
    "    \n",
    "    @acess_password.setter            ## it will allow user to change password\n",
    "    def set_password(self, password):\n",
    "        self.__password = password\n",
    "        \n",
    "    @acess_password.deleter\n",
    "    def del_password(self):        ## it will allow user to delet password atrribute\n",
    "        del self.__password\n",
    "    \n",
    "    "
   ]
  },
  {
   "cell_type": "code",
   "execution_count": 92,
   "id": "25099170-1f0d-49fa-8edd-2968f0c4a1c9",
   "metadata": {},
   "outputs": [
    {
     "ename": "AttributeError",
     "evalue": "'property_deco_ex_1' object has no attribute 'number'",
     "output_type": "error",
     "traceback": [
      "\u001b[0;31m---------------------------------------------------------------------------\u001b[0m",
      "\u001b[0;31mAttributeError\u001b[0m                            Traceback (most recent call last)",
      "Cell \u001b[0;32mIn[92], line 4\u001b[0m\n\u001b[1;32m      1\u001b[0m user_1 \u001b[38;5;241m=\u001b[39m property_deco_ex_1(\u001b[38;5;241m1234567890\u001b[39m,\u001b[38;5;124m\"\u001b[39m\u001b[38;5;124mxyz@gmail.com\u001b[39m\u001b[38;5;124m\"\u001b[39m,\u001b[38;5;124m\"\u001b[39m\u001b[38;5;124mPassword@123\u001b[39m\u001b[38;5;124m\"\u001b[39m)\n\u001b[1;32m      3\u001b[0m \u001b[38;5;66;03m## user will not able to get number as it is protected \u001b[39;00m\n\u001b[0;32m----> 4\u001b[0m \u001b[43muser_1\u001b[49m\u001b[38;5;241;43m.\u001b[39;49m\u001b[43mnumber\u001b[49m\n",
      "\u001b[0;31mAttributeError\u001b[0m: 'property_deco_ex_1' object has no attribute 'number'"
     ]
    }
   ],
   "source": [
    "user_1 = property_deco_ex_1(1234567890,\"xyz@gmail.com\",\"Password@123\")\n",
    "\n",
    "## user will not able to get number as it is protected \n",
    "user_1.number"
   ]
  },
  {
   "cell_type": "code",
   "execution_count": 74,
   "id": "fe0a417f-7e72-492e-bb20-5548392514d5",
   "metadata": {},
   "outputs": [
    {
     "data": {
      "text/plain": [
       "'xyz@gmail.com'"
      ]
     },
     "execution_count": 74,
     "metadata": {},
     "output_type": "execute_result"
    }
   ],
   "source": [
    "## user is able to acess email_id as it is public\n",
    "user_1.email_id"
   ]
  },
  {
   "cell_type": "code",
   "execution_count": 93,
   "id": "235e0ad2-2c8f-4853-b9f6-576ecde1bb08",
   "metadata": {},
   "outputs": [
    {
     "ename": "AttributeError",
     "evalue": "'property_deco_ex_1' object has no attribute '__password'",
     "output_type": "error",
     "traceback": [
      "\u001b[0;31m---------------------------------------------------------------------------\u001b[0m",
      "\u001b[0;31mAttributeError\u001b[0m                            Traceback (most recent call last)",
      "Cell \u001b[0;32mIn[93], line 3\u001b[0m\n\u001b[1;32m      1\u001b[0m \u001b[38;5;66;03m## user will not able to acess password as it is private\u001b[39;00m\n\u001b[0;32m----> 3\u001b[0m \u001b[43muser_1\u001b[49m\u001b[38;5;241;43m.\u001b[39;49m\u001b[43m__password\u001b[49m\n",
      "\u001b[0;31mAttributeError\u001b[0m: 'property_deco_ex_1' object has no attribute '__password'"
     ]
    }
   ],
   "source": [
    "## user will not able to acess password as it is private\n",
    "\n",
    "user_1.__password"
   ]
  },
  {
   "cell_type": "code",
   "execution_count": 94,
   "id": "42c03559-092c-4c01-b829-bb82063e136a",
   "metadata": {},
   "outputs": [
    {
     "data": {
      "text/plain": [
       "'Password@123'"
      ]
     },
     "execution_count": 94,
     "metadata": {},
     "output_type": "execute_result"
    }
   ],
   "source": [
    "## User will now able to acess password because of @property decorator\n",
    "## It is accessable by function name in @property decorator not by actual atrribute name.\n",
    "user_1.acess_password"
   ]
  },
  {
   "cell_type": "code",
   "execution_count": 98,
   "id": "4b8d5cb6-3d35-42bb-ab37-5175daf05c95",
   "metadata": {},
   "outputs": [
    {
     "ename": "TypeError",
     "evalue": "'str' object is not callable",
     "output_type": "error",
     "traceback": [
      "\u001b[0;31m---------------------------------------------------------------------------\u001b[0m",
      "\u001b[0;31mTypeError\u001b[0m                                 Traceback (most recent call last)",
      "Cell \u001b[0;32mIn[98], line 1\u001b[0m\n\u001b[0;32m----> 1\u001b[0m \u001b[43muser_1\u001b[49m\u001b[38;5;241;43m.\u001b[39;49m\u001b[43mset_password\u001b[49m\u001b[43m(\u001b[49m\u001b[38;5;124;43m\"\u001b[39;49m\u001b[38;5;124;43mNo_password\u001b[39;49m\u001b[38;5;124;43m\"\u001b[39;49m\u001b[43m)\u001b[49m\n",
      "\u001b[0;31mTypeError\u001b[0m: 'str' object is not callable"
     ]
    }
   ],
   "source": [
    "user_1.set_password(\"No_password\")"
   ]
  },
  {
   "cell_type": "code",
   "execution_count": null,
   "id": "bd61378f-d1b2-492a-a43b-edd63dd2f1ee",
   "metadata": {},
   "outputs": [],
   "source": []
  },
  {
   "cell_type": "code",
   "execution_count": null,
   "id": "fdbff045-484a-4006-8bad-6784aff4f1f0",
   "metadata": {},
   "outputs": [],
   "source": []
  },
  {
   "cell_type": "code",
   "execution_count": null,
   "id": "c53efaf4-91df-4702-862d-70d823749329",
   "metadata": {},
   "outputs": [],
   "source": []
  },
  {
   "cell_type": "code",
   "execution_count": null,
   "id": "0114ca2b-be95-4204-86f1-9d55cdef2a98",
   "metadata": {},
   "outputs": [],
   "source": []
  },
  {
   "cell_type": "code",
   "execution_count": null,
   "id": "fc4f6911-0859-4c8f-b99d-92267516bf43",
   "metadata": {},
   "outputs": [],
   "source": []
  },
  {
   "cell_type": "code",
   "execution_count": null,
   "id": "763d4476-07be-4966-9b74-c22678f063a1",
   "metadata": {},
   "outputs": [],
   "source": []
  }
 ],
 "metadata": {
  "kernelspec": {
   "display_name": "Python 3 (ipykernel)",
   "language": "python",
   "name": "python3"
  },
  "language_info": {
   "codemirror_mode": {
    "name": "ipython",
    "version": 3
   },
   "file_extension": ".py",
   "mimetype": "text/x-python",
   "name": "python",
   "nbconvert_exporter": "python",
   "pygments_lexer": "ipython3",
   "version": "3.10.8"
  }
 },
 "nbformat": 4,
 "nbformat_minor": 5
}
