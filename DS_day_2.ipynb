{
 "cells": [
  {
   "cell_type": "markdown",
   "id": "de90f7e1-d2e6-4b08-94b6-416aef112f72",
   "metadata": {},
   "source": [
    "# This is second day of learning PYTHON."
   ]
  },
  {
   "cell_type": "markdown",
   "id": "1d12eee3-0e96-4176-9cbd-95c3afb1b069",
   "metadata": {},
   "source": [
    "## Print Statement"
   ]
  },
  {
   "cell_type": "code",
   "execution_count": 1,
   "id": "e7f31b9d-318b-4cd9-9897-95034e8abf17",
   "metadata": {},
   "outputs": [
    {
     "name": "stdout",
     "output_type": "stream",
     "text": [
      "Hi this is aman\n"
     ]
    }
   ],
   "source": [
    "#print\n",
    "print(\"Hi this is aman\")"
   ]
  },
  {
   "cell_type": "code",
   "execution_count": 6,
   "id": "1cb6d939-0833-46fb-b951-3c2c1e712475",
   "metadata": {},
   "outputs": [
    {
     "name": "stdout",
     "output_type": "stream",
     "text": [
      "My age is: 21\n"
     ]
    }
   ],
   "source": [
    "## print with varibale format 1\n",
    "age=21\n",
    "print(\"My age is:\",age)"
   ]
  },
  {
   "cell_type": "code",
   "execution_count": 7,
   "id": "13b53b4d-6432-41be-9a52-cb4215349f4f",
   "metadata": {},
   "outputs": [
    {
     "name": "stdout",
     "output_type": "stream",
     "text": [
      "My age is: 21\n"
     ]
    }
   ],
   "source": [
    "## print with varibale format 2 (f string)\n",
    "print(f\"My age is: {age}\")"
   ]
  },
  {
   "cell_type": "code",
   "execution_count": 8,
   "id": "b99220f2-c9c9-49b6-92d0-581713a09b0d",
   "metadata": {},
   "outputs": [
    {
     "name": "stdout",
     "output_type": "stream",
     "text": [
      "My name is Aman Vishwakarma and my age is 21\n"
     ]
    }
   ],
   "source": [
    "## print with variables format 3 (format())\n",
    "name = \"Aman\"\n",
    "Surname = \"Vishwakarma\"\n",
    "age = 21\n",
    "print(\"My name is {} {} and my age is {}\".format(name,Surname,age))\n",
    "\n",
    "## Here oder is important in format \n"
   ]
  },
  {
   "cell_type": "code",
   "execution_count": 9,
   "id": "37d48e8b-3085-487d-9cfa-900dd8be531d",
   "metadata": {},
   "outputs": [
    {
     "name": "stdout",
     "output_type": "stream",
     "text": [
      "My name is Aman Vishwakarma and my age is 21\n"
     ]
    }
   ],
   "source": [
    "## print with variables format 4 (format()) with placeholder\n",
    "name = \"Aman\"\n",
    "Surname = \"Vishwakarma\"\n",
    "age = 21\n",
    "print(\"My name is {firstname} {Lastname} and my age is {Firstage}\".format(Firstage=age,Lastname=Surname,firstname=name))\n",
    "\n",
    "## Here order is not important because of placeholder"
   ]
  },
  {
   "cell_type": "code",
   "execution_count": 10,
   "id": "a3747224-ce93-438a-922a-db96b3550835",
   "metadata": {},
   "outputs": [
    {
     "name": "stdout",
     "output_type": "stream",
     "text": [
      "My age is 21 , I had completed my degree of BSc Maths with name Aman Vishwakarma on it\n"
     ]
    }
   ],
   "source": [
    "## print practice question attempt1\n",
    "\n",
    "age = 21\n",
    "name = \"Aman Vishwakarma\"\n",
    "degree = \"BSc Maths\"\n",
    "print(\"My age is {Myage} , I had completed my degree of {Mydegree} with name {Myname} on it\".format(Myname=name,Myage=age,Mydegree=degree))"
   ]
  },
  {
   "cell_type": "code",
   "execution_count": 11,
   "id": "9ae24b95-d54e-4a7e-86bb-3c466d284da1",
   "metadata": {},
   "outputs": [
    {
     "name": "stdout",
     "output_type": "stream",
     "text": [
      "My age is 21 , I had completed my degree of BSc Maths with name Aman Vishwakarma on it\n"
     ]
    }
   ],
   "source": [
    "## print practice question attempt2\n",
    "\n",
    "print(f\"My age is {age} , I had completed my degree of {degree} with name {name} on it\")"
   ]
  },
  {
   "cell_type": "markdown",
   "id": "cdcc6176-e7c1-48ae-ac78-201ce4536acb",
   "metadata": {},
   "source": [
    "## if statement"
   ]
  },
  {
   "cell_type": "code",
   "execution_count": 15,
   "id": "95b98667-951b-44f2-a98c-ed929520dd00",
   "metadata": {},
   "outputs": [
    {
     "name": "stdin",
     "output_type": "stream",
     "text": [
      "Enter your age 30\n"
     ]
    },
    {
     "name": "stdout",
     "output_type": "stream",
     "text": [
      "you are eligible to vote\n"
     ]
    }
   ],
   "source": [
    "age =int(input(\"Enter your age\"))        \n",
    "if age >= 18 :\n",
    "    print(\"you are eligible to vote\")\n",
    "     \n",
    "    \"\"\" \n",
    "    By default the data type of input() is string.\n",
    "    To use is for age we had used typecasting.\n",
    "    \"\"\""
   ]
  },
  {
   "cell_type": "code",
   "execution_count": 29,
   "id": "15102c1b-b2c0-46ff-8b5b-c2f0f1a82d37",
   "metadata": {},
   "outputs": [
    {
     "name": "stdin",
     "output_type": "stream",
     "text": [
      "Enter your age 46\n"
     ]
    }
   ],
   "source": [
    "## Practice quesion on if statement\n",
    "\n",
    "age = int(input(\"Enter your age\"))\n",
    "if age >= 18 and age <= 45 :\n",
    "    print(\"You are young blood\")"
   ]
  },
  {
   "cell_type": "markdown",
   "id": "e054e700-df5a-4987-aece-480dfcb17f3b",
   "metadata": {},
   "source": [
    "## If else statement"
   ]
  },
  {
   "cell_type": "code",
   "execution_count": 20,
   "id": "c3046c77-a9a1-467f-b940-cbd2694c04be",
   "metadata": {},
   "outputs": [
    {
     "name": "stdin",
     "output_type": "stream",
     "text": [
      "Enter youe age 12\n"
     ]
    },
    {
     "name": "stdout",
     "output_type": "stream",
     "text": [
      "You are not eligible to vote\n"
     ]
    }
   ],
   "source": [
    "age = int(input(\"Enter youe age\"))\n",
    "if age >= 18 :\n",
    "    print('You are eligible to vote')\n",
    "else :\n",
    "    print('You are not eligible to vote')\n",
    "             "
   ]
  },
  {
   "cell_type": "code",
   "execution_count": 36,
   "id": "4b7d4df9-96d3-48bb-99dd-d2cb3f7de040",
   "metadata": {},
   "outputs": [
    {
     "name": "stdin",
     "output_type": "stream",
     "text": [
      "Enter the price of product 1000\n"
     ]
    },
    {
     "name": "stdout",
     "output_type": "stream",
     "text": [
      "You have to pay 700.0 after 30% Discount\n"
     ]
    }
   ],
   "source": [
    "## Practice question 1 on if else statement\n",
    "\n",
    "PP = int(input(\"Enter the price of product\"))    # PP is Product Price\n",
    "if PP > 1000 :\n",
    "                                     \n",
    "        print(f\"You have to pay {PP-(0.2*PP)} after 20% Discount\")\n",
    "else:  \n",
    "      \n",
    "        print(f\"You have to pay {PP-(0.3*PP)} after 30% Discount\")"
   ]
  },
  {
   "cell_type": "markdown",
   "id": "9a91a7bc-00e3-46e8-a346-613d569d0bdd",
   "metadata": {},
   "source": [
    "## elif statement"
   ]
  },
  {
   "cell_type": "code",
   "execution_count": 42,
   "id": "cbfe2b4b-6a51-4356-8b7e-504ec75573f9",
   "metadata": {},
   "outputs": [
    {
     "name": "stdin",
     "output_type": "stream",
     "text": [
      "Enter the price of product 455667\n"
     ]
    },
    {
     "name": "stdout",
     "output_type": "stream",
     "text": [
      "You have to pay 364533.6 after 20% Discount\n"
     ]
    }
   ],
   "source": [
    "## Practice question 2 on if else statement\n",
    "\n",
    "PP = int(input(\"Enter the price of product\"))    # PP is Product Price\n",
    "if PP > 3000 :\n",
    "                                     \n",
    "        print(\"You have to pay {} after 20% Discount\".format(PP-(0.2*PP)))\n",
    "        \n",
    "elif PP >= 2000 and PP <= 3000 :  \n",
    "      \n",
    "        print(\"You have to pay {} after 30% Discount\".format(PP-(0.3*PP)))\n",
    "        \n",
    "elif PP >= 1000 and PP < 2000 :  \n",
    "      \n",
    "        print(\"You have to pay {} after 40% Discount\".format(PP-(0.4*PP)))\n",
    "        \n",
    "else:\n",
    "        print(\"You have to pay {} after 50% Discount\".format(PP-(0.5*PP)))"
   ]
  },
  {
   "cell_type": "code",
   "execution_count": 50,
   "id": "e4558516-c18f-437a-b488-81a2395cd98d",
   "metadata": {},
   "outputs": [
    {
     "name": "stdin",
     "output_type": "stream",
     "text": [
      "Enter the price of product 2999\n"
     ]
    },
    {
     "name": "stdout",
     "output_type": "stream",
     "text": [
      "You have to pay 2099.3 after 30% Discount\n",
      "You won a suitecase\n"
     ]
    }
   ],
   "source": [
    "## Practice question 3 on elif and nested if statement.\n",
    "\n",
    "PP = int(input(\"Enter the price of product\"))    # PP is Product Price\n",
    "if PP > 3000 :\n",
    "                                     \n",
    "        print(\"You have to pay {} after 20% Discount\".format(PP-(0.2*PP)))\n",
    "if PP > 4000 :\n",
    "        print(\"Congratulation you won a trip to GOA\")\n",
    "        \n",
    "elif PP >= 2000 and PP <= 3000 :  \n",
    "      \n",
    "        print(\"You have to pay {} after 30% Discount\".format(PP-(0.3*PP)))\n",
    "        \n",
    "if PP == 2999 :\n",
    "        print(\"You won a suitecase\")\n",
    "        \n",
    "elif PP >= 1000 and PP < 2000 :  \n",
    "      \n",
    "        print(\"You have to pay {} after 40% Discount\".format(PP-(0.4*PP)))\n",
    "        \n",
    "else:\n",
    "        print(\"You have to pay {} after 50% Discount\".format(PP-(0.5*PP)))"
   ]
  },
  {
   "cell_type": "markdown",
   "id": "1d0be6b9-00ab-47c2-bd34-9437bdd333a8",
   "metadata": {},
   "source": [
    "# Loops\n"
   ]
  },
  {
   "cell_type": "markdown",
   "id": "0afe768c-cb5a-4356-a7f2-5a90548006fe",
   "metadata": {},
   "source": [
    "## While loop"
   ]
  },
  {
   "cell_type": "code",
   "execution_count": 12,
   "id": "d6227c99-9670-48a2-b4d4-f09acba44e03",
   "metadata": {},
   "outputs": [
    {
     "name": "stdout",
     "output_type": "stream",
     "text": [
      "25\n",
      "26\n",
      "27\n",
      "28\n",
      "29\n",
      "30\n",
      "31\n",
      "32\n",
      "33\n",
      "34\n",
      "35\n",
      "36\n",
      "37\n",
      "38\n",
      "39\n",
      "40\n",
      "41\n",
      "42\n",
      "43\n",
      "44\n",
      "45\n",
      "46\n",
      "47\n",
      "48\n",
      "49\n",
      "50\n",
      "51\n",
      "52\n",
      "53\n",
      "54\n",
      "55\n",
      "56\n",
      "57\n",
      "58\n",
      "59\n",
      "60\n",
      "61\n"
     ]
    }
   ],
   "source": [
    "## while loop\n",
    "\n",
    "joining_age = 24\n",
    "while joining_age < 60 :\n",
    "    joining_age = joining_age+1\n",
    "    print(joining_age)"
   ]
  },
  {
   "cell_type": "code",
   "execution_count": 13,
   "id": "c81ce7e8-7cea-431d-b9db-727fc8a8764d",
   "metadata": {},
   "outputs": [
    {
     "name": "stdout",
     "output_type": "stream",
     "text": [
      "25\n",
      "26\n",
      "27\n",
      "28\n",
      "29\n",
      "30\n",
      "31\n",
      "32\n",
      "33\n",
      "34\n",
      "35\n",
      "36\n",
      "37\n",
      "38\n",
      "39\n",
      "40\n",
      "41\n",
      "42\n",
      "43\n",
      "44\n",
      "45\n",
      "46\n",
      "47\n",
      "48\n",
      "49\n",
      "50\n",
      "51\n",
      "52\n",
      "53\n",
      "54\n",
      "55\n",
      "56\n",
      "57\n",
      "58\n",
      "59\n",
      "60\n",
      "61\n",
      "It's the time to retire\n"
     ]
    }
   ],
   "source": [
    "# While loop with else satetement\n",
    "\n",
    "joining_age = 24\n",
    "while joining_age <= 60 :\n",
    "    joining_age = joining_age+1\n",
    "    print(joining_age)\n",
    "else :\n",
    "    print(\"It's the time to retire\")"
   ]
  },
  {
   "cell_type": "code",
   "execution_count": 15,
   "id": "b4148b03-901b-4a1b-86ca-4fbda2aa7033",
   "metadata": {},
   "outputs": [
    {
     "name": "stdout",
     "output_type": "stream",
     "text": [
      "2000\n",
      "1900\n",
      "1800\n",
      "1700\n",
      "1600\n",
      "1500\n",
      "1400\n",
      "1300\n",
      "1200\n",
      "1100\n",
      "1000\n",
      "900\n",
      "800\n",
      "700\n",
      "600\n",
      "500\n",
      "400\n",
      "300\n",
      "200\n",
      "100\n",
      "Money Exhausted\n"
     ]
    }
   ],
   "source": [
    "# While loop practice question 1\n",
    "\n",
    "total_amount = 2000\n",
    "while total_amount != 0 :\n",
    "    print(total_amount)\n",
    "    total_amount = total_amount - 100\n",
    "else:\n",
    "    print(\"Money Exhausted\")"
   ]
  },
  {
   "cell_type": "markdown",
   "id": "52d5401f-514a-477a-9804-321ba265ddda",
   "metadata": {},
   "source": [
    "## for Loop"
   ]
  },
  {
   "cell_type": "code",
   "execution_count": 22,
   "id": "858905ee-3e92-484f-bb74-0cfeb2b614e3",
   "metadata": {},
   "outputs": [
    {
     "name": "stdout",
     "output_type": "stream",
     "text": [
      "1\n",
      "2\n",
      "3\n",
      "Aman\n",
      "Vijay\n",
      "4\n",
      "5\n"
     ]
    }
   ],
   "source": [
    "# for loop with list\n",
    "\n",
    "L = [1,2,3,\"Aman\",\"Vijay\",4,5]\n",
    "for x in L:\n",
    "    print(x)"
   ]
  },
  {
   "cell_type": "code",
   "execution_count": 23,
   "id": "ad92c3f2-a95e-4b7f-9c50-733374a5aeb5",
   "metadata": {},
   "outputs": [
    {
     "name": "stdout",
     "output_type": "stream",
     "text": [
      "M\n",
      "a\n",
      "n\n",
      "g\n",
      "o\n"
     ]
    }
   ],
   "source": [
    "# for loop example 2\n",
    "\n",
    "fruit = 'Mango'\n",
    "for x in fruit :\n",
    "    print(x)"
   ]
  },
  {
   "cell_type": "code",
   "execution_count": 24,
   "id": "0ad09c61-3819-4bd8-bd0a-08c81cb48966",
   "metadata": {},
   "outputs": [
    {
     "data": {
      "text/plain": [
       "'o'"
      ]
     },
     "execution_count": 24,
     "metadata": {},
     "output_type": "execute_result"
    }
   ],
   "source": [
    "fruit[4]"
   ]
  },
  {
   "cell_type": "code",
   "execution_count": 35,
   "id": "fc48c060-9594-4e88-8031-a6c599a72a55",
   "metadata": {},
   "outputs": [
    {
     "name": "stdout",
     "output_type": "stream",
     "text": [
      "1\n",
      "3\n",
      "5\n",
      "7\n",
      "9\n"
     ]
    }
   ],
   "source": [
    "\"\"\"\n",
    "range\n",
    "range(start,stop,step)\n",
    "step is determine the gap between consecutive terms\n",
    "by ddefault it is 1.\n",
    "\"\"\"\n",
    "for i in range(1,10,2):\n",
    "     print(i)"
   ]
  },
  {
   "cell_type": "markdown",
   "id": "3779096d-ce86-4132-997e-73e8621a44a6",
   "metadata": {},
   "source": [
    "## Nested Loop"
   ]
  },
  {
   "cell_type": "code",
   "execution_count": 66,
   "id": "8fb47337-60ab-48dc-bfe7-d52b2c38a066",
   "metadata": {},
   "outputs": [
    {
     "name": "stdout",
     "output_type": "stream",
     "text": [
      "* * * * * * * * \n",
      "* * * * * * * * \n",
      "* * * * * * * * \n",
      "* * * * * * * * \n",
      "* * * * * * * * \n",
      "* * * * * * * * \n",
      "* * * * * * * * \n",
      "* * * * * * * * \n"
     ]
    }
   ],
   "source": [
    "# Patterns (Square) using nested loop 1\n",
    "\n",
    "n=8\n",
    "for i in range(0,n):\n",
    "     for j in range(0,n):\n",
    "            print(\"*\",end=\" \")\n",
    "     print(\"\\r\")\n",
    "        "
   ]
  },
  {
   "cell_type": "markdown",
   "id": "813cd2c3-f24f-49f8-a884-fdb017ad69c8",
   "metadata": {},
   "source": [
    "# Break and Continue statements\n"
   ]
  },
  {
   "cell_type": "markdown",
   "id": "5a8644f8-8eb5-4051-83e8-c542294cc175",
   "metadata": {},
   "source": [
    "## Break Statement"
   ]
  },
  {
   "cell_type": "code",
   "execution_count": 98,
   "id": "edd98d46-2e1a-457d-ab8f-d3a9a86b26e1",
   "metadata": {},
   "outputs": [
    {
     "name": "stdout",
     "output_type": "stream",
     "text": [
      "Arrinera\n",
      "Aston Martin\n",
      "Bugatti\n",
      "This is Bugatti\n"
     ]
    }
   ],
   "source": [
    "# Break statement is used to stop the loop after certain condition is satisfied.\n",
    "\n",
    "cars_list = [\"Arrinera\",\"Aston Martin\",\"Bugatti\",\"Ferrari\",\"Hennessey\",\"Koenigsegg\"]\n",
    "for car in cars_list:\n",
    "    print(car)\n",
    "    if car == \"Bugatti\":\n",
    "        print(\"This is Bugatti\")\n",
    "        break"
   ]
  },
  {
   "cell_type": "code",
   "execution_count": 107,
   "id": "932abdef-dfce-489a-b752-4b25f0c10979",
   "metadata": {},
   "outputs": [
    {
     "name": "stdout",
     "output_type": "stream",
     "text": [
      "Arrinera\n",
      "Aston Martin\n",
      "Ferrari\n",
      "Hennessey\n",
      "Koenigsegg\n"
     ]
    }
   ],
   "source": [
    "# Continue statement skips the iteration when certain condition is satisfied.\n",
    "\n",
    "cars_list = [\"Arrinera\",\"Aston Martin\",\"Bugatti\",\"Ferrari\",\"Hennessey\",\"Koenigsegg\"]\n",
    "for car in cars_list:\n",
    "    if car == \"Bugatti\":\n",
    "        continue\n",
    "    print(car)"
   ]
  },
  {
   "cell_type": "code",
   "execution_count": null,
   "id": "f813f52d-d6b9-4970-970a-6271ebb46e2d",
   "metadata": {},
   "outputs": [],
   "source": [
    " "
   ]
  }
 ],
 "metadata": {
  "kernelspec": {
   "display_name": "Python 3 (ipykernel)",
   "language": "python",
   "name": "python3"
  },
  "language_info": {
   "codemirror_mode": {
    "name": "ipython",
    "version": 3
   },
   "file_extension": ".py",
   "mimetype": "text/x-python",
   "name": "python",
   "nbconvert_exporter": "python",
   "pygments_lexer": "ipython3",
   "version": "3.10.8"
  }
 },
 "nbformat": 4,
 "nbformat_minor": 5
}
