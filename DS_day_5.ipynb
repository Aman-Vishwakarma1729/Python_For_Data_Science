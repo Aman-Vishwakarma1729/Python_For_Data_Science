{
 "cells": [
  {
   "cell_type": "markdown",
   "id": "b91c686c-3b6a-4bed-842b-4564710a8413",
   "metadata": {},
   "source": [
    "## Tuples"
   ]
  },
  {
   "cell_type": "code",
   "execution_count": 1,
   "id": "36f33e9c-f894-49b5-9157-bb2fdc7ecdb4",
   "metadata": {},
   "outputs": [
    {
     "data": {
      "text/plain": [
       "tuple"
      ]
     },
     "execution_count": 1,
     "metadata": {},
     "output_type": "execute_result"
    }
   ],
   "source": [
    "# tuple is defined by\n",
    "\n",
    "t = ()\n",
    "type(t)"
   ]
  },
  {
   "cell_type": "code",
   "execution_count": 2,
   "id": "349af660-8682-4495-8303-400c66bdf984",
   "metadata": {},
   "outputs": [
    {
     "data": {
      "text/plain": [
       "tuple"
      ]
     },
     "execution_count": 2,
     "metadata": {},
     "output_type": "execute_result"
    }
   ],
   "source": [
    "#example of tuple\n",
    "\n",
    "t_1 = (21,-21,21.11,\"Aman\",False, 2+3j)\n",
    "type(t_1)"
   ]
  },
  {
   "cell_type": "code",
   "execution_count": 4,
   "id": "c2b23e7b-136d-4695-a921-ffcb85543c44",
   "metadata": {},
   "outputs": [
    {
     "data": {
      "text/plain": [
       "list"
      ]
     },
     "execution_count": 4,
     "metadata": {},
     "output_type": "execute_result"
    }
   ],
   "source": [
    "# We can similarly do for list\n",
    "\n",
    "l_1 = [21,-21,21.11,\"Aman\",False, 2+3j]\n",
    "type(l_1)"
   ]
  },
  {
   "cell_type": "code",
   "execution_count": 7,
   "id": "6c6b1af2-a79b-46d0-833c-4a03ce1c7c6a",
   "metadata": {},
   "outputs": [
    {
     "name": "stdout",
     "output_type": "stream",
     "text": [
      "(21, -21, 21.11, 'Aman', False, (2+3j))\n",
      "21\n",
      "(2+3j)\n"
     ]
    }
   ],
   "source": [
    "# extraction from tuple : Similar like string and list\n",
    "\n",
    "print(t_1)\n",
    "print(t_1[0])\n",
    "print(t_1[5])\n"
   ]
  },
  {
   "cell_type": "code",
   "execution_count": 21,
   "id": "b25c73b3-ebb3-48af-a9c6-825558ebeb8f",
   "metadata": {},
   "outputs": [
    {
     "name": "stdout",
     "output_type": "stream",
     "text": [
      "(21, -21, 21.11, 'Aman')\n",
      "(False, (2+3j))\n",
      "(-21, 21.11)\n",
      "(2+3j)\n",
      "(False,)\n",
      "(-21, 21)\n",
      "(21.11, -21, 21)\n",
      "(21.11, 'Aman', False, (2+3j))\n",
      "(21.11, False)\n"
     ]
    }
   ],
   "source": [
    "# Sliced operation in tuple : Similar like string and list\n",
    "\n",
    "print(t_1[:4])\n",
    "print(t_1[4:])\n",
    "print(t_1[1:3])\n",
    "print(t_1[-1])\n",
    "print(t_1[-2:-1])\n",
    "print(t_1[1::-1])\n",
    "print(t_1[-4::-1])\n",
    "print(t_1[-4::1])\n",
    "print(t_1[-4::2])"
   ]
  },
  {
   "cell_type": "code",
   "execution_count": 15,
   "id": "73138462-92c1-4036-843b-0d0b5a17f56b",
   "metadata": {},
   "outputs": [
    {
     "name": "stdout",
     "output_type": "stream",
     "text": [
      "((2+3j), False, 'Aman', 21.11, -21, 21)\n"
     ]
    }
   ],
   "source": [
    "# reversing tuple with sliced operation\n",
    "print(t_1[::-1])"
   ]
  },
  {
   "cell_type": "code",
   "execution_count": 22,
   "id": "72f7a5ad-07dc-4f6c-a0b7-87813a84b77d",
   "metadata": {},
   "outputs": [
    {
     "ename": "TypeError",
     "evalue": "'tuple' object does not support item assignment",
     "output_type": "error",
     "traceback": [
      "\u001b[0;31m---------------------------------------------------------------------------\u001b[0m",
      "\u001b[0;31mTypeError\u001b[0m                                 Traceback (most recent call last)",
      "Cell \u001b[0;32mIn[22], line 3\u001b[0m\n\u001b[1;32m      1\u001b[0m \u001b[38;5;66;03m#\u001b[39;00m\n\u001b[0;32m----> 3\u001b[0m \u001b[43mt_1\u001b[49m\u001b[43m[\u001b[49m\u001b[38;5;241;43m5\u001b[39;49m\u001b[43m]\u001b[49m\u001b[38;5;241m=\u001b[39m \u001b[38;5;241m3\u001b[39m\u001b[38;5;241m-\u001b[39m\u001b[38;5;241m2\u001b[39mj\n",
      "\u001b[0;31mTypeError\u001b[0m: 'tuple' object does not support item assignment"
     ]
    }
   ],
   "source": [
    "#tuple is immutable\n",
    "t_1[5]= 3-2j"
   ]
  },
  {
   "cell_type": "code",
   "execution_count": 23,
   "id": "8e9c8cf1-2a37-427d-b859-641368ee550a",
   "metadata": {},
   "outputs": [
    {
     "data": {
      "text/plain": [
       "complex"
      ]
     },
     "execution_count": 23,
     "metadata": {},
     "output_type": "execute_result"
    }
   ],
   "source": [
    "type(t_1[5])"
   ]
  },
  {
   "cell_type": "code",
   "execution_count": null,
   "id": "eb22a9b1-2d2b-41c5-9434-4790fc9ab9c0",
   "metadata": {},
   "outputs": [],
   "source": [
    "# inbuilt functions for tuples"
   ]
  },
  {
   "cell_type": "code",
   "execution_count": 26,
   "id": "74084c0a-1645-4b0c-9572-bac1ef0fdb34",
   "metadata": {},
   "outputs": [
    {
     "data": {
      "text/plain": [
       "1"
      ]
     },
     "execution_count": 26,
     "metadata": {},
     "output_type": "execute_result"
    }
   ],
   "source": [
    "t_1.count(\"Aman\")"
   ]
  },
  {
   "cell_type": "code",
   "execution_count": 28,
   "id": "a722ebbd-0b1b-4eff-bd20-017582b66ec2",
   "metadata": {},
   "outputs": [
    {
     "data": {
      "text/plain": [
       "3"
      ]
     },
     "execution_count": 28,
     "metadata": {},
     "output_type": "execute_result"
    }
   ],
   "source": [
    "t_1.index(\"Aman\")"
   ]
  },
  {
   "cell_type": "code",
   "execution_count": null,
   "id": "213c43d7-beee-4efe-84bc-af7daa383de0",
   "metadata": {},
   "outputs": [],
   "source": [
    "# Iteration through tuple is possible as in list and string"
   ]
  },
  {
   "cell_type": "code",
   "execution_count": 29,
   "id": "dce05263-b90c-4668-b7e3-353ae85f5ef4",
   "metadata": {},
   "outputs": [
    {
     "data": {
      "text/plain": [
       "(21, -21, 21.11, 'Aman', False, (2+3j))"
      ]
     },
     "execution_count": 29,
     "metadata": {},
     "output_type": "execute_result"
    }
   ],
   "source": [
    "t_1"
   ]
  },
  {
   "cell_type": "code",
   "execution_count": 30,
   "id": "18d97178-808b-4c22-a311-e0ee296b899e",
   "metadata": {},
   "outputs": [
    {
     "name": "stdout",
     "output_type": "stream",
     "text": [
      "21\n",
      "-21\n",
      "21.11\n",
      "Aman\n",
      "False\n",
      "(2+3j)\n"
     ]
    }
   ],
   "source": [
    "for i in t_1:\n",
    "    print(i)"
   ]
  },
  {
   "cell_type": "code",
   "execution_count": 42,
   "id": "c1a87d1a-3492-46fc-bd1b-56557bcb008e",
   "metadata": {},
   "outputs": [
    {
     "name": "stdout",
     "output_type": "stream",
     "text": [
      "[(2+3j), False, 'Aman', 21.11, -21, 21]\n"
     ]
    }
   ],
   "source": [
    "# Reversing tupple using loop and converting it as list.\n",
    "l_2 = []\n",
    "for i in t_1:\n",
    "    #print(t_1.index(i) , \"=\", i)\n",
    "    l_2.append(t_1[5 - t_1.index(i)])\n",
    "print(l_2)    \n",
    "    \n",
    "    \n",
    "    \n"
   ]
  },
  {
   "cell_type": "code",
   "execution_count": 43,
   "id": "91e756ed-78c3-45d4-8985-5b5cb6ca023e",
   "metadata": {},
   "outputs": [
    {
     "ename": "TypeError",
     "evalue": "'>' not supported between instances of 'str' and 'float'",
     "output_type": "error",
     "traceback": [
      "\u001b[0;31m---------------------------------------------------------------------------\u001b[0m",
      "\u001b[0;31mTypeError\u001b[0m                                 Traceback (most recent call last)",
      "Cell \u001b[0;32mIn[43], line 1\u001b[0m\n\u001b[0;32m----> 1\u001b[0m \u001b[38;5;28;43mmax\u001b[39;49m\u001b[43m(\u001b[49m\u001b[43mt_1\u001b[49m\u001b[43m)\u001b[49m\n",
      "\u001b[0;31mTypeError\u001b[0m: '>' not supported between instances of 'str' and 'float'"
     ]
    }
   ],
   "source": []
  },
  {
   "cell_type": "code",
   "execution_count": null,
   "id": "571d4abc-de17-4166-adc6-866d65e0f335",
   "metadata": {},
   "outputs": [],
   "source": [
    "# nested tuple"
   ]
  },
  {
   "cell_type": "code",
   "execution_count": 45,
   "id": "bf98fa1a-634c-4159-8034-a8f115d3e33a",
   "metadata": {},
   "outputs": [
    {
     "data": {
      "text/plain": [
       "((1, 2, 3, 4), (5, 6, 7, 8, 9))"
      ]
     },
     "execution_count": 45,
     "metadata": {},
     "output_type": "execute_result"
    }
   ],
   "source": [
    "t_2 = (1,2,3,4)\n",
    "t_3 = (5,6,7,8,9)\n",
    "t_4 = (t_2,t_3)\n",
    "t_4"
   ]
  },
  {
   "cell_type": "code",
   "execution_count": null,
   "id": "3412c1c4-c59c-4af2-9c36-f27c01e021b8",
   "metadata": {},
   "outputs": [],
   "source": [
    "# Nesting of tuples inside list and list inside tuple is also possible."
   ]
  },
  {
   "cell_type": "code",
   "execution_count": 46,
   "id": "3e75446d-3f9e-4d21-9124-fb9c26b9316c",
   "metadata": {},
   "outputs": [],
   "source": [
    "# deleting tuple\n",
    "\n",
    "del t_4"
   ]
  },
  {
   "cell_type": "code",
   "execution_count": 47,
   "id": "6f1480e5-70c4-4bb4-bbfe-8b62db3006f2",
   "metadata": {},
   "outputs": [
    {
     "ename": "NameError",
     "evalue": "name 't_4' is not defined",
     "output_type": "error",
     "traceback": [
      "\u001b[0;31m---------------------------------------------------------------------------\u001b[0m",
      "\u001b[0;31mNameError\u001b[0m                                 Traceback (most recent call last)",
      "Cell \u001b[0;32mIn[47], line 1\u001b[0m\n\u001b[0;32m----> 1\u001b[0m \u001b[43mt_4\u001b[49m\n",
      "\u001b[0;31mNameError\u001b[0m: name 't_4' is not defined"
     ]
    }
   ],
   "source": [
    "t_4"
   ]
  },
  {
   "cell_type": "code",
   "execution_count": 48,
   "id": "d6c2a632-af8a-4f0b-9b0d-18d0928bbbdb",
   "metadata": {},
   "outputs": [
    {
     "data": {
      "text/plain": [
       "5"
      ]
     },
     "execution_count": 48,
     "metadata": {},
     "output_type": "execute_result"
    }
   ],
   "source": [
    "len(t_3)"
   ]
  },
  {
   "cell_type": "markdown",
   "id": "8a72b37a-ba65-4897-888f-d5b4d81bba43",
   "metadata": {},
   "source": [
    "## Sets"
   ]
  },
  {
   "cell_type": "markdown",
   "id": "59dda41a-8e83-4b21-aeed-21deba8c0667",
   "metadata": {},
   "source": [
    "### It is type of collection as list, tuple"
   ]
  },
  {
   "cell_type": "code",
   "execution_count": 50,
   "id": "57a7227c-65d8-4ef2-9951-5ae39504c598",
   "metadata": {},
   "outputs": [
    {
     "data": {
      "text/plain": [
       "dict"
      ]
     },
     "execution_count": 50,
     "metadata": {},
     "output_type": "execute_result"
    }
   ],
   "source": [
    "# list is defined by {}\n",
    "S = {}\n",
    "type(S)"
   ]
  },
  {
   "cell_type": "code",
   "execution_count": 49,
   "id": "609e496d-386d-4950-90b2-88d650ad2e9a",
   "metadata": {},
   "outputs": [
    {
     "data": {
      "text/plain": [
       "{(7-3j), 21, 21.11, 'Aman', False, 'Vishwakarma'}"
      ]
     },
     "execution_count": 49,
     "metadata": {},
     "output_type": "execute_result"
    }
   ],
   "source": [
    "S_1 = {\"Aman\",\"Vishwakarma\",21,21.11,7-3j,False}\n",
    "S_1"
   ]
  },
  {
   "cell_type": "code",
   "execution_count": 51,
   "id": "dbf494c5-043a-474d-8aab-604a11ccf1f7",
   "metadata": {},
   "outputs": [
    {
     "data": {
      "text/plain": [
       "set"
      ]
     },
     "execution_count": 51,
     "metadata": {},
     "output_type": "execute_result"
    }
   ],
   "source": [
    "type(S_1)"
   ]
  },
  {
   "cell_type": "code",
   "execution_count": 53,
   "id": "c0d8c5f2-3fad-4683-abb7-42c4b101da4d",
   "metadata": {},
   "outputs": [
    {
     "data": {
      "text/plain": [
       "{(7-3j), 21, 21.11, 'Aman', False, 'Vishwakarma'}"
      ]
     },
     "execution_count": 53,
     "metadata": {},
     "output_type": "execute_result"
    }
   ],
   "source": [
    "# set has distinct object\n",
    "S_2 = {\"Aman\",\"Vishwakarma\",21,21.11,7-3j,False,21}\n",
    "S_2"
   ]
  },
  {
   "cell_type": "code",
   "execution_count": 56,
   "id": "7e99aec9-70e6-4a6a-ba4e-e23e06b7ea8d",
   "metadata": {},
   "outputs": [
    {
     "ename": "TypeError",
     "evalue": "'set' object does not support item assignment",
     "output_type": "error",
     "traceback": [
      "\u001b[0;31m---------------------------------------------------------------------------\u001b[0m",
      "\u001b[0;31mTypeError\u001b[0m                                 Traceback (most recent call last)",
      "Cell \u001b[0;32mIn[56], line 3\u001b[0m\n\u001b[1;32m      1\u001b[0m \u001b[38;5;66;03m# Indexing in SET\u001b[39;00m\n\u001b[0;32m----> 3\u001b[0m \u001b[43mS_2\u001b[49m\u001b[43m[\u001b[49m\u001b[38;5;241;43m2\u001b[39;49m\u001b[43m]\u001b[49m \u001b[38;5;241m=\u001b[39m \u001b[38;5;241m32\u001b[39m\n",
      "\u001b[0;31mTypeError\u001b[0m: 'set' object does not support item assignment"
     ]
    }
   ],
   "source": [
    "# Indexing in SET is not allowed\n",
    "\n",
    "S_2[2] = 32"
   ]
  },
  {
   "cell_type": "code",
   "execution_count": 58,
   "id": "e43c5256-fae7-41f6-9441-79722dcada3d",
   "metadata": {},
   "outputs": [
    {
     "name": "stdout",
     "output_type": "stream",
     "text": [
      "{False, 'Aman', 21.11, 21, 'Vishwakarma', (7-3j)}\n"
     ]
    },
    {
     "ename": "TypeError",
     "evalue": "'set' object does not support item assignment",
     "output_type": "error",
     "traceback": [
      "\u001b[0;31m---------------------------------------------------------------------------\u001b[0m",
      "\u001b[0;31mTypeError\u001b[0m                                 Traceback (most recent call last)",
      "Cell \u001b[0;32mIn[58], line 4\u001b[0m\n\u001b[1;32m      1\u001b[0m \u001b[38;5;66;03m# SET is not immutable as tuple and string\u001b[39;00m\n\u001b[1;32m      3\u001b[0m \u001b[38;5;28mprint\u001b[39m(S_2)\n\u001b[0;32m----> 4\u001b[0m \u001b[43mS_2\u001b[49m\u001b[43m[\u001b[49m\u001b[38;5;241;43m1\u001b[39;49m\u001b[43m]\u001b[49m \u001b[38;5;241m=\u001b[39m \u001b[38;5;124m\"\u001b[39m\u001b[38;5;124mVijay\u001b[39m\u001b[38;5;124m\"\u001b[39m\n",
      "\u001b[0;31mTypeError\u001b[0m: 'set' object does not support item assignment"
     ]
    }
   ],
   "source": [
    "# SET is not immutable as tuple and string\n",
    "\n",
    "print(S_2)\n",
    "S_2[1] = \"Vijay\""
   ]
  },
  {
   "cell_type": "code",
   "execution_count": 59,
   "id": "4f90df85-fcd7-4537-9a24-74a3643f4ab1",
   "metadata": {},
   "outputs": [
    {
     "data": {
      "text/plain": [
       "6"
      ]
     },
     "execution_count": 59,
     "metadata": {},
     "output_type": "execute_result"
    }
   ],
   "source": [
    "len(S_2)"
   ]
  },
  {
   "cell_type": "code",
   "execution_count": 60,
   "id": "c09bea88-b3ad-4290-b014-009eb9e369e4",
   "metadata": {},
   "outputs": [
    {
     "ename": "TypeError",
     "evalue": "'>' not supported between instances of 'str' and 'bool'",
     "output_type": "error",
     "traceback": [
      "\u001b[0;31m---------------------------------------------------------------------------\u001b[0m",
      "\u001b[0;31mTypeError\u001b[0m                                 Traceback (most recent call last)",
      "Cell \u001b[0;32mIn[60], line 1\u001b[0m\n\u001b[0;32m----> 1\u001b[0m \u001b[38;5;28;43mmax\u001b[39;49m\u001b[43m(\u001b[49m\u001b[43mS_2\u001b[49m\u001b[43m)\u001b[49m\n",
      "\u001b[0;31mTypeError\u001b[0m: '>' not supported between instances of 'str' and 'bool'"
     ]
    }
   ],
   "source": [
    "max(S_2)"
   ]
  },
  {
   "cell_type": "code",
   "execution_count": 61,
   "id": "a4fb4c64-3aab-4fdb-b9bc-0bf051811290",
   "metadata": {},
   "outputs": [
    {
     "name": "stdout",
     "output_type": "stream",
     "text": [
      "False\n",
      "Aman\n",
      "21.11\n",
      "21\n",
      "Vishwakarma\n",
      "(7-3j)\n"
     ]
    }
   ],
   "source": [
    "# Iterating through SETS is possible\n",
    "for i in S_2:\n",
    "    print(i)"
   ]
  },
  {
   "cell_type": "code",
   "execution_count": 63,
   "id": "625d3611-8743-48e2-803a-bcd29dfb0251",
   "metadata": {},
   "outputs": [
    {
     "name": "stdout",
     "output_type": "stream",
     "text": [
      "{False, 'Aman', 21.11, 21, 'Vishwakarma', 'Vijay', (7-3j)}\n"
     ]
    }
   ],
   "source": [
    "# fucntions in SET\n",
    "\n",
    "S_2.add(\"Vijay\")\n",
    "print(S_2)"
   ]
  },
  {
   "cell_type": "code",
   "execution_count": 65,
   "id": "d746106f-b374-46ad-85f2-f401d525a87d",
   "metadata": {},
   "outputs": [
    {
     "name": "stdout",
     "output_type": "stream",
     "text": [
      "set()\n"
     ]
    }
   ],
   "source": [
    "S_2.clear()\n",
    "print(S_2)"
   ]
  },
  {
   "cell_type": "code",
   "execution_count": 70,
   "id": "4d02e8e5-9a3a-41a8-9cec-2caa865e0bfd",
   "metadata": {},
   "outputs": [
    {
     "data": {
      "text/plain": [
       "[False, 'Aman', 21.11, 21, 'Vishwakarma', (7-3j)]"
      ]
     },
     "execution_count": 70,
     "metadata": {},
     "output_type": "execute_result"
    }
   ],
   "source": [
    "# Conversion of sets to list\n",
    "\n",
    "list(S_1)"
   ]
  },
  {
   "cell_type": "code",
   "execution_count": 71,
   "id": "7b2f4844-abd2-4ef7-bc47-28482eb3e3a5",
   "metadata": {},
   "outputs": [
    {
     "data": {
      "text/plain": [
       "(False, 'Aman', 21.11, 21, 'Vishwakarma', (7-3j))"
      ]
     },
     "execution_count": 71,
     "metadata": {},
     "output_type": "execute_result"
    }
   ],
   "source": [
    "# Conversion of sets to tuple\n",
    "\n",
    "tuple(S_1)"
   ]
  },
  {
   "cell_type": "code",
   "execution_count": null,
   "id": "5ee6aafb-73df-4677-8bfe-42d8ca2e6545",
   "metadata": {},
   "outputs": [],
   "source": [
    "# nesting of list inside set is not allowed\n",
    "# nesting of tuple inside set is possible"
   ]
  },
  {
   "cell_type": "code",
   "execution_count": null,
   "id": "0ad45b62-359c-423e-af99-8a4f2b4ac2a5",
   "metadata": {},
   "outputs": [],
   "source": [
    "# Functions in set"
   ]
  },
  {
   "cell_type": "code",
   "execution_count": 72,
   "id": "89a04bfe-8fcb-4376-9121-57f45058131b",
   "metadata": {},
   "outputs": [
    {
     "name": "stdout",
     "output_type": "stream",
     "text": [
      "{False, 'Aman', 21.11, 21, 'Vishwakarma', (7-3j)}\n"
     ]
    }
   ],
   "source": [
    "print(S_1)"
   ]
  },
  {
   "cell_type": "code",
   "execution_count": 75,
   "id": "a3e20c56-4191-4659-9627-a20cbae3ddb8",
   "metadata": {},
   "outputs": [
    {
     "name": "stdout",
     "output_type": "stream",
     "text": [
      "{False, 'Ajay', 'Aman', 21.11, 21, 'Vishwakarma', (7-3j)}\n"
     ]
    }
   ],
   "source": [
    "S_1.add(\"Ajay\")\n",
    "print(S_1)"
   ]
  },
  {
   "cell_type": "code",
   "execution_count": 77,
   "id": "e18ff66a-e0c1-430f-a713-cb1a44fc4fcf",
   "metadata": {},
   "outputs": [
    {
     "data": {
      "text/plain": [
       "False"
      ]
     },
     "execution_count": 77,
     "metadata": {},
     "output_type": "execute_result"
    }
   ],
   "source": [
    "S_1.pop()"
   ]
  },
  {
   "cell_type": "code",
   "execution_count": 80,
   "id": "b09afb61-e7b3-446a-bb32-28882de281e5",
   "metadata": {},
   "outputs": [
    {
     "name": "stdout",
     "output_type": "stream",
     "text": [
      "{1, 2, 4, 5, 23, 7}\n",
      "{34, 3, 4, 5, 6, 7, 7443}\n",
      "set()\n"
     ]
    }
   ],
   "source": [
    "Set_1 = {1,23,4,5,4,5,2,7}\n",
    "Set_2 = {5,4,3,7,34,6,7443,34,3}\n",
    "print(Set_1.difference(S_2))           # Set_A - Set_B\n",
    "print(Set_2.difference(S_1))           # Set_B - Set_A\n",
    "print(Set_1.intersection(S_2))\n",
    "print(Set_2.)"
   ]
  },
  {
   "cell_type": "markdown",
   "id": "7c6f7684-e7e7-4e11-9f57-e4abfc5d7448",
   "metadata": {},
   "source": [
    "## Dictionary"
   ]
  },
  {
   "cell_type": "code",
   "execution_count": 81,
   "id": "9002d3ca-e863-46df-929f-3d579c9acfc5",
   "metadata": {},
   "outputs": [
    {
     "data": {
      "text/plain": [
       "dict"
      ]
     },
     "execution_count": 81,
     "metadata": {},
     "output_type": "execute_result"
    }
   ],
   "source": [
    "d = {}\n",
    "type(d)"
   ]
  },
  {
   "cell_type": "code",
   "execution_count": null,
   "id": "233b8c6e-3907-4abb-8f0d-29e9667f2693",
   "metadata": {},
   "outputs": [],
   "source": [
    "## in dictionary we work with key and value pair as like in real dictionary word and its meaning."
   ]
  },
  {
   "cell_type": "code",
   "execution_count": 85,
   "id": "970e61c3-f83d-4ffd-80ce-da1285ef6b96",
   "metadata": {},
   "outputs": [
    {
     "data": {
      "text/plain": [
       "dict"
      ]
     },
     "execution_count": 85,
     "metadata": {},
     "output_type": "execute_result"
    }
   ],
   "source": [
    "## Example of dictionary\n",
    "\n",
    "D_1 = {\"Name\":\"Aman\" , \"Surname\":\"Vishwakarma\" , \"Email-Id\":\"amansharma@gmail.com\" , 'Number':1234567890}\n",
    "## so it is a key:value pairs \n",
    "\n",
    "type(D_1)"
   ]
  },
  {
   "cell_type": "code",
   "execution_count": 86,
   "id": "d286ff0b-9e4d-402d-87fa-c3a9f848ec8d",
   "metadata": {},
   "outputs": [
    {
     "name": "stdout",
     "output_type": "stream",
     "text": [
      "{'Name': 'Aman', 'Surname': 'Vishwakarma', 'Email-Id': 'amansharma@gmail.com', 'Number': 1234567890}\n"
     ]
    }
   ],
   "source": [
    "print(D_1)"
   ]
  },
  {
   "cell_type": "code",
   "execution_count": 96,
   "id": "c8244e7c-4315-4b47-869f-831ef0b95047",
   "metadata": {},
   "outputs": [],
   "source": [
    "D2 = {\"Name\":\"Rohan\" , \"Surname\":\"Chauhan\" , \"Email-Id\":\"rohanchauhan@gmail.com\" , 'Number':1231231231}"
   ]
  },
  {
   "cell_type": "code",
   "execution_count": 97,
   "id": "41532bfb-e2cc-4dd8-8073-35f628c9ec51",
   "metadata": {},
   "outputs": [
    {
     "name": "stdout",
     "output_type": "stream",
     "text": [
      "{'Name': 'Aman', 'Surname': 'Vishwakarma', 'Email-Id': 'amansharma@gmail.com', 'Number': 1234567890}\n",
      "{'Name': 'Rohan', 'Surname': 'Chauhan', 'Email-Id': 'rohanchauhan@gmail.com', 'Number': 1231231231}\n"
     ]
    }
   ],
   "source": [
    "print(D_1)\n",
    "print(D2)\n"
   ]
  },
  {
   "cell_type": "code",
   "execution_count": null,
   "id": "65ccb4a9-2feb-4366-bca4-85f159dbc18a",
   "metadata": {},
   "outputs": [],
   "source": [
    "## Key should be uniqe in dictionary\n",
    "## Key can be string or numeric value or boolean value but key cannot be special character.\n",
    "## Key can be tuple but not be a list\n",
    "## Key cannot be set\n",
    "## Key cannot be dictionary\n"
   ]
  },
  {
   "cell_type": "code",
   "execution_count": null,
   "id": "279445cf-334b-429f-ad14-bcc88b7387e1",
   "metadata": {},
   "outputs": [],
   "source": [
    "## Value as a list is allowed\n",
    "## Value as a tuple is allowed\n",
    "## Value as a set is allowed\n",
    "## Value as a dictionary is allowed which is called as nested dictionary\n"
   ]
  },
  {
   "cell_type": "code",
   "execution_count": 100,
   "id": "7c02859b-32bd-410c-a1b1-ae5f14aae3b9",
   "metadata": {},
   "outputs": [
    {
     "data": {
      "text/plain": [
       "{'pure_maths': ['Real Analysis',\n",
       "  'Group Theory',\n",
       "  'Linear Algebra',\n",
       "  'Differential Calculus'],\n",
       " 'applied_maths': ('M.I', 'O.D.E', 'P.D.E', 'V.C'),\n",
       " 'books_name': {'Friedberg', 'J.A Gallian', 'S.K Mappa', 'Thomas calculus'},\n",
       " ('fav_sub', 'not_fav_sub'): {'fav_sub': 'Linear Algebra',\n",
       "  'not_fav_sub': 'Group Theory'}}"
      ]
     },
     "execution_count": 100,
     "metadata": {},
     "output_type": "execute_result"
    }
   ],
   "source": [
    "## Example\n",
    "\n",
    "dic_1 = {\"pure_maths\":[\"Real Analysis\",\"Group Theory\",\"Linear Algebra\",\"Differential Calculus\"] , \"applied_maths\":(\"M.I\",\"O.D.E\",\"P.D.E\",\"V.C\") , \"books_name\":{\"S.K Mappa\",\"J.A Gallian\",\"Thomas calculus\",\"Friedberg\"} , (\"fav_sub\",\"not_fav_sub\"):{\"fav_sub\":\"Linear Algebra\",\"not_fav_sub\":\"Group Theory\"} }\n",
    "dic_1\n"
   ]
  },
  {
   "cell_type": "code",
   "execution_count": 102,
   "id": "a5928bd4-5b75-45f5-a516-3055147e838c",
   "metadata": {},
   "outputs": [],
   "source": [
    "## Adding new members in dictionary"
   ]
  },
  {
   "cell_type": "code",
   "execution_count": 103,
   "id": "75486b4e-d924-4133-85bd-1586297b029e",
   "metadata": {},
   "outputs": [],
   "source": [
    "dic_1[\"1729\",\"1.68\"] = (\"Ramanujan Number\",\"Golden Number\")"
   ]
  },
  {
   "cell_type": "code",
   "execution_count": 104,
   "id": "c4d0213a-d4f1-46cf-ab50-2c69e0eb7faf",
   "metadata": {},
   "outputs": [
    {
     "data": {
      "text/plain": [
       "{'pure_maths': ['Real Analysis',\n",
       "  'Group Theory',\n",
       "  'Linear Algebra',\n",
       "  'Differential Calculus'],\n",
       " 'applied_maths': ('M.I', 'O.D.E', 'P.D.E', 'V.C'),\n",
       " 'books_name': {'Friedberg', 'J.A Gallian', 'S.K Mappa', 'Thomas calculus'},\n",
       " ('fav_sub', 'not_fav_sub'): {'fav_sub': 'Linear Algebra',\n",
       "  'not_fav_sub': 'Group Theory'},\n",
       " ('1729', '1.68'): ('Ramanujan Number', 'Golden Number')}"
      ]
     },
     "execution_count": 104,
     "metadata": {},
     "output_type": "execute_result"
    }
   ],
   "source": [
    "dic_1"
   ]
  },
  {
   "cell_type": "code",
   "execution_count": null,
   "id": "06cd015b-a01e-4d21-a5d1-c0c385e37dbb",
   "metadata": {},
   "outputs": [],
   "source": [
    "## locating members of dictionay is done throug key name as it is done is list through indexing"
   ]
  },
  {
   "cell_type": "code",
   "execution_count": 105,
   "id": "abba20e6-7083-47cd-bcf5-9d411919f5b4",
   "metadata": {},
   "outputs": [
    {
     "data": {
      "text/plain": [
       "['Real Analysis', 'Group Theory', 'Linear Algebra', 'Differential Calculus']"
      ]
     },
     "execution_count": 105,
     "metadata": {},
     "output_type": "execute_result"
    }
   ],
   "source": [
    "dic_1[\"pure_maths\"]"
   ]
  },
  {
   "cell_type": "code",
   "execution_count": 106,
   "id": "9cc2190d-bcbc-4491-b6b4-91ea4b120b3e",
   "metadata": {},
   "outputs": [
    {
     "data": {
      "text/plain": [
       "list"
      ]
     },
     "execution_count": 106,
     "metadata": {},
     "output_type": "execute_result"
    }
   ],
   "source": [
    "type(dic_1[\"pure_maths\"])"
   ]
  },
  {
   "cell_type": "code",
   "execution_count": 107,
   "id": "44d55cd6-449e-490a-9502-223667d34933",
   "metadata": {},
   "outputs": [
    {
     "data": {
      "text/plain": [
       "'Linear Algebra'"
      ]
     },
     "execution_count": 107,
     "metadata": {},
     "output_type": "execute_result"
    }
   ],
   "source": [
    "dic_1[('fav_sub', 'not_fav_sub')]['fav_sub']"
   ]
  },
  {
   "cell_type": "code",
   "execution_count": null,
   "id": "e5f14536-6ce3-4f25-ab96-910e398e661f",
   "metadata": {},
   "outputs": [],
   "source": [
    "## Extracting all the keys in dictionary"
   ]
  },
  {
   "cell_type": "code",
   "execution_count": 108,
   "id": "30e91c4c-58dc-4476-a2a7-07988b656953",
   "metadata": {},
   "outputs": [
    {
     "data": {
      "text/plain": [
       "dict_keys(['pure_maths', 'applied_maths', 'books_name', ('fav_sub', 'not_fav_sub'), ('1729', '1.68')])"
      ]
     },
     "execution_count": 108,
     "metadata": {},
     "output_type": "execute_result"
    }
   ],
   "source": [
    "dic_1.keys()"
   ]
  },
  {
   "cell_type": "code",
   "execution_count": null,
   "id": "a8762049-8432-4083-af01-e1ef70ccf475",
   "metadata": {},
   "outputs": [],
   "source": [
    "## Extracting all the values in dictionary"
   ]
  },
  {
   "cell_type": "code",
   "execution_count": 109,
   "id": "4c80912d-908a-4280-b3d4-6652595468cc",
   "metadata": {},
   "outputs": [
    {
     "data": {
      "text/plain": [
       "dict_values([['Real Analysis', 'Group Theory', 'Linear Algebra', 'Differential Calculus'], ('M.I', 'O.D.E', 'P.D.E', 'V.C'), {'Friedberg', 'J.A Gallian', 'Thomas calculus', 'S.K Mappa'}, {'fav_sub': 'Linear Algebra', 'not_fav_sub': 'Group Theory'}, ('Ramanujan Number', 'Golden Number')])"
      ]
     },
     "execution_count": 109,
     "metadata": {},
     "output_type": "execute_result"
    }
   ],
   "source": [
    "dic_1.values()"
   ]
  },
  {
   "cell_type": "code",
   "execution_count": null,
   "id": "f1202ae3-203b-450e-a36a-63995d5fd308",
   "metadata": {},
   "outputs": [],
   "source": [
    "## conversion to list"
   ]
  },
  {
   "cell_type": "code",
   "execution_count": 114,
   "id": "7ca25779-1ca8-4b5f-b079-6232ec29d054",
   "metadata": {},
   "outputs": [
    {
     "data": {
      "text/plain": [
       "[['Real Analysis', 'Group Theory', 'Linear Algebra', 'Differential Calculus'],\n",
       " ('M.I', 'O.D.E', 'P.D.E', 'V.C'),\n",
       " {'Friedberg', 'J.A Gallian', 'S.K Mappa', 'Thomas calculus'},\n",
       " {'fav_sub': 'Linear Algebra', 'not_fav_sub': 'Group Theory'},\n",
       " ('Ramanujan Number', 'Golden Number')]"
      ]
     },
     "execution_count": 114,
     "metadata": {},
     "output_type": "execute_result"
    }
   ],
   "source": [
    "list(dic_1.values())"
   ]
  },
  {
   "cell_type": "code",
   "execution_count": null,
   "id": "58a9d1cc-2481-4c19-8af5-1eb4cc72c657",
   "metadata": {},
   "outputs": [],
   "source": [
    "## conversion of entire dictionary to list\n",
    "\n",
    "list(dic_1.items())"
   ]
  },
  {
   "cell_type": "code",
   "execution_count": null,
   "id": "419e9e84-0927-4095-93c0-3ecd51427c82",
   "metadata": {},
   "outputs": [],
   "source": [
    "## If we use copy() fucntion it will do deep copy that is copied item is alloted to a different memory location and change in copied one does not affect to original and vice versa.\n",
    "## If we copied as dic_1 = dic_2 it is swallow cpying and change in one let change in another to as it replaced to same memory location.\n"
   ]
  },
  {
   "cell_type": "markdown",
   "id": "95e63724-b290-4441-8733-664293c45713",
   "metadata": {},
   "source": [
    "### Dictionary Comprehension"
   ]
  },
  {
   "cell_type": "code",
   "execution_count": 117,
   "id": "972b5d28-8373-4f20-9daa-01e12888871c",
   "metadata": {},
   "outputs": [
    {
     "data": {
      "text/plain": [
       "{1: 1, 2: 4, 3: 9, 4: 16, 5: 25, 6: 36, 7: 49, 8: 64, 9: 81, 10: 100}"
      ]
     },
     "execution_count": 117,
     "metadata": {},
     "output_type": "execute_result"
    }
   ],
   "source": [
    "## Example_1\n",
    "\n",
    "{i:i**2 for i in range(1,11)}"
   ]
  },
  {
   "cell_type": "code",
   "execution_count": 119,
   "id": "bce14954-2184-4a4e-9039-c6c0e848e928",
   "metadata": {},
   "outputs": [
    {
     "data": {
      "text/plain": [
       "{1: 0.0,\n",
       " 2: 0.6931471805599453,\n",
       " 3: 1.0986122886681098,\n",
       " 4: 1.3862943611198906,\n",
       " 5: 1.6094379124341003,\n",
       " 6: 1.791759469228055,\n",
       " 7: 1.9459101490553132,\n",
       " 8: 2.0794415416798357,\n",
       " 9: 2.1972245773362196,\n",
       " 10: 2.302585092994046}"
      ]
     },
     "execution_count": 119,
     "metadata": {},
     "output_type": "execute_result"
    }
   ],
   "source": [
    "## Example_2\n",
    "import math\n",
    "{i : math.log(i) for i in range(1,11)}"
   ]
  },
  {
   "cell_type": "code",
   "execution_count": null,
   "id": "7827b9a2-ba3d-411c-bb01-d284ba5ed70f",
   "metadata": {},
   "outputs": [],
   "source": []
  },
  {
   "cell_type": "code",
   "execution_count": null,
   "id": "ffdcf3ae-416d-43a1-b971-4b1d7de6db21",
   "metadata": {},
   "outputs": [],
   "source": []
  },
  {
   "cell_type": "code",
   "execution_count": null,
   "id": "f0cb1c28-4430-4b46-b708-75e9229632bc",
   "metadata": {},
   "outputs": [],
   "source": []
  },
  {
   "cell_type": "code",
   "execution_count": null,
   "id": "c157ec7e-8b08-4017-a10e-d3f677c2b5c3",
   "metadata": {},
   "outputs": [],
   "source": []
  },
  {
   "cell_type": "code",
   "execution_count": null,
   "id": "b2692039-d2d2-4df6-ba91-4357dba20f4b",
   "metadata": {},
   "outputs": [],
   "source": []
  },
  {
   "cell_type": "code",
   "execution_count": null,
   "id": "9653be4f-afb5-46b5-b5f5-c196034310dd",
   "metadata": {},
   "outputs": [],
   "source": []
  },
  {
   "cell_type": "code",
   "execution_count": null,
   "id": "7ee39404-2915-48c8-b7ca-81a1c1323854",
   "metadata": {},
   "outputs": [],
   "source": []
  },
  {
   "cell_type": "code",
   "execution_count": null,
   "id": "913d2e09-fac2-426f-8a04-d4b76eac65b8",
   "metadata": {},
   "outputs": [],
   "source": []
  }
 ],
 "metadata": {
  "kernelspec": {
   "display_name": "Python 3 (ipykernel)",
   "language": "python",
   "name": "python3"
  },
  "language_info": {
   "codemirror_mode": {
    "name": "ipython",
    "version": 3
   },
   "file_extension": ".py",
   "mimetype": "text/x-python",
   "name": "python",
   "nbconvert_exporter": "python",
   "pygments_lexer": "ipython3",
   "version": "3.10.8"
  }
 },
 "nbformat": 4,
 "nbformat_minor": 5
}
