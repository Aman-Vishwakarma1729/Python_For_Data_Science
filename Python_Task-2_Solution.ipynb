{
 "cells": [
  {
   "cell_type": "markdown",
   "id": "b69429d4-aad4-4c48-91cf-846acb3daa3c",
   "metadata": {},
   "source": [
    "#### Answer_1"
   ]
  },
  {
   "cell_type": "code",
   "execution_count": null,
   "id": "b5654c40-d937-4d3d-aea6-2adfc424d2d3",
   "metadata": {},
   "outputs": [],
   "source": [
    "def check_password():\n",
    "        uppercase = lowercase = number = special_character = 0\n",
    "        password = input(\"Enter The Password\")\n",
    "    \n",
    "        if len(password) == 10:\n",
    "           \n",
    "            for i in password:\n",
    "                if i.isupper():\n",
    "                    uppercase = uppercase + 1\n",
    "                elif i.islower():\n",
    "                    lowercase = lowercase + 1\n",
    "                elif i in ['1','2','3','4','5','6','7','8','9','0']:\n",
    "                    number = number + 1\n",
    "                elif i.isalnum() == False:\n",
    "                    special_character = special_character + 1\n",
    "            if uppercase < 2:\n",
    "                print(\"Invalid Password\")\n",
    "                print(\"*Password must have atleast two uppercase letter\")\n",
    "            elif lowercase < 2:\n",
    "                print(\"Invalid Password\")\n",
    "                print(\"*Password must have atleast two lowecase letter\")\n",
    "            elif number < 1:\n",
    "                print(\"Invalid Password\")\n",
    "                print(\"*Password must have atleast one number\")\n",
    "            elif special_character != 3:\n",
    "                print(\"Invalid Password\")\n",
    "                print(\"*Password must have 3 special characters\")\n",
    "            else:\n",
    "                print(\"Valid Password\")\n",
    "           \n",
    "        else:\n",
    "            print(\"Invalid Password\")\n",
    "            print(\"*Lenght of password must be 10 characters long\")"
   ]
  },
  {
   "cell_type": "markdown",
   "id": "8e09133c-3fd4-4db9-88dc-85a8bef7f852",
   "metadata": {},
   "source": [
    "#### Answer_2"
   ]
  },
  {
   "cell_type": "code",
   "execution_count": null,
   "id": "06edcd36-4dff-4536-9fc6-27972488e176",
   "metadata": {},
   "outputs": [],
   "source": [
    "## 1: Checking if the string starts with 'A'\n",
    "\n",
    "string = input(\"Enter the string\")\n",
    "list_of_string = list(string)\n",
    "\n",
    "result_list = ([\"It start with A\" if list_of_string[0] == 'A' else \"It do not start with A\"])\n",
    "for i in result_list:\n",
    "    print(i)"
   ]
  },
  {
   "cell_type": "code",
   "execution_count": null,
   "id": "5fc62177-3702-40ef-bae3-542c4d397a90",
   "metadata": {},
   "outputs": [],
   "source": [
    "## 2: Checking if string is numeric\n",
    "\n",
    "check = lambda strng : \"is numeric\" if strng.isnumeric() == True else \"is not numeric\""
   ]
  },
  {
   "cell_type": "code",
   "execution_count": null,
   "id": "0449117d-0ad5-42cc-801a-6cfff042ebc6",
   "metadata": {},
   "outputs": [],
   "source": [
    "## 3 sorting a list of tuple having fruit names on base of their quantity\n",
    "\n",
    "fruit_list = [(\"mango\",99),(\"orange\",80),(\"grapes\",100)]\n",
    "fruit_list.sort(key = lambda x : x[-1])\n",
    "fruit_list"
   ]
  },
  {
   "cell_type": "code",
   "execution_count": null,
   "id": "5bc47477-bc1e-466e-87fd-971d365dd0f7",
   "metadata": {},
   "outputs": [],
   "source": [
    "## 4 Sqauare of number from 1 to 10\n",
    "\n",
    "[i**2 for i in range(1,11)]"
   ]
  },
  {
   "cell_type": "code",
   "execution_count": null,
   "id": "61a0df52-1cae-4238-ab32-bfba3f6d95e2",
   "metadata": {},
   "outputs": [],
   "source": [
    "## 5 cube root of number from 1 t 10\n",
    "\n",
    "[i**(1/3) for i in range (1,11)]"
   ]
  },
  {
   "cell_type": "code",
   "execution_count": null,
   "id": "2201ac37-d522-4755-b1da-fd9fa8a8acf8",
   "metadata": {},
   "outputs": [],
   "source": [
    "## 6 check if given number is even\n",
    "\n",
    "even = lambda x : \"even\" if x%2 == 0 else \"odd\""
   ]
  },
  {
   "cell_type": "code",
   "execution_count": null,
   "id": "dc1dddaf-8832-41dc-9a77-662e1275ffd3",
   "metadata": {},
   "outputs": [],
   "source": [
    "## 7 Filter odd number from list\n",
    "\n",
    "lst = [1,2,3,4,5,6,7,8,9,10]\n",
    "list(filter(lambda x : x%2 != 0 , lst))"
   ]
  },
  {
   "cell_type": "code",
   "execution_count": null,
   "id": "d6b516b0-2b40-44fd-bbc2-8030faefd06a",
   "metadata": {},
   "outputs": [],
   "source": [
    "## 8 sort list integers in positive int and negative int lists\n",
    "\n",
    "int_list = [1,2,3,4,5,6,-1,-2,-3,-4,-5,0]\n",
    "\n",
    "positive_int = list(filter(lambda x : x > 0 ,int_list ))\n",
    "print(positive_int)\n",
    "\n",
    "negative_int = list(filter(lambda x : x < 0 ,int_list ))\n",
    "print(negative_int)"
   ]
  }
 ],
 "metadata": {
  "kernelspec": {
   "display_name": "Python 3 (ipykernel)",
   "language": "python",
   "name": "python3"
  },
  "language_info": {
   "codemirror_mode": {
    "name": "ipython",
    "version": 3
   },
   "file_extension": ".py",
   "mimetype": "text/x-python",
   "name": "python",
   "nbconvert_exporter": "python",
   "pygments_lexer": "ipython3",
   "version": "3.10.8"
  }
 },
 "nbformat": 4,
 "nbformat_minor": 5
}
