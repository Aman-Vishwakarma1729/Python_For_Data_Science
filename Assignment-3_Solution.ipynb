{
 "cells": [
  {
   "cell_type": "markdown",
   "id": "19500d97-288e-4d0c-a0ac-66e51641e3ef",
   "metadata": {},
   "source": [
    "#### Answer_1"
   ]
  },
  {
   "cell_type": "markdown",
   "id": "510d1a95-de84-42bc-a4c8-1139c887cce2",
   "metadata": {},
   "source": [
    "##### > Tuples are used to store multiple items in a single variable\n",
    "##### > It is used to store collection of data as list, set, dictionary.\n",
    "##### > A tupple is collection which is ordered and unchangeable.\n",
    "##### > It is written in round brackets.\n",
    "##### > Indexing is there in tuples.\n",
    "##### > Since tuples are indexed it allowes duplicate.\n",
    "##### > Tuple is immutable.\n"
   ]
  },
  {
   "cell_type": "markdown",
   "id": "58f908c4-ba5c-48c1-adb2-fe0f7db8d115",
   "metadata": {},
   "source": [
    "#### Answer_2"
   ]
  },
  {
   "cell_type": "markdown",
   "id": "34e8600c-3d62-4888-8bc1-197c82f83f55",
   "metadata": {},
   "source": [
    "##### > There are only two inbuilt methods for tuple in python they are:\n",
    "###### >>> count()\n",
    "###### >>> index() "
   ]
  },
  {
   "cell_type": "code",
   "execution_count": 13,
   "id": "c6c3b2bd-22ec-4057-b5fb-209c4657a4d1",
   "metadata": {},
   "outputs": [
    {
     "name": "stdout",
     "output_type": "stream",
     "text": [
      "<class 'tuple'>\n",
      "4\n",
      "0\n",
      "5\n"
     ]
    }
   ],
   "source": [
    "# Example \n",
    "\n",
    "t_1 = (3,4,5,6,7,\"Aman\",3-4j,4.656,4,64,3,4,4) \n",
    "print(type(t_1))\n",
    "print(t_1.count(4))          ## Counts how many times the 4 is repeated.\n",
    "print(t_1.count(9))          ## There is no such element in collection hence count is 0.\n",
    "print(t_1.index(\"Aman\"))     ## Returns the index of element."
   ]
  },
  {
   "cell_type": "markdown",
   "id": "d07006ce-29f1-4479-bd6a-e66ecb976a70",
   "metadata": {},
   "source": [
    "##### > Tuple is a collection which is unchangeable and tuple is immutable.\n",
    "##### > There is no such methods that can change the tuple.\n",
    "##### > Bu list is mutable and it can be modified so it has various inbuilt               functions for the same."
   ]
  },
  {
   "cell_type": "markdown",
   "id": "93490604-578b-4721-bcf8-181437d3fde7",
   "metadata": {},
   "source": [
    "#### Answer_3"
   ]
  },
  {
   "cell_type": "markdown",
   "id": "3aac2be8-9419-4be8-9230-54f89d64ca87",
   "metadata": {},
   "source": [
    "##### > set is collection data type in python that do not allow duplicates as set         is collection of distinct elements."
   ]
  },
  {
   "cell_type": "code",
   "execution_count": 17,
   "id": "a27596f5-8885-48cc-afcd-a8f9eed9d5b7",
   "metadata": {},
   "outputs": [
    {
     "data": {
      "text/plain": [
       "[1, 2, 3, 4]"
      ]
     },
     "execution_count": 17,
     "metadata": {},
     "output_type": "execute_result"
    }
   ],
   "source": [
    "list_1 = [1,1,1,2,1,3,1,4,2,1,2,2,2,3,2,4,3,1,3,2,3,3,3,4,4,1,4,2,4,3,4,4]\n",
    "set_1 = set(list_1)\n",
    "updated_list = list(set_1)\n",
    "updated_list"
   ]
  },
  {
   "cell_type": "markdown",
   "id": "09e78f36-f69a-4fa0-b7ab-30a4a313040e",
   "metadata": {},
   "source": [
    "#### Answer_4"
   ]
  },
  {
   "cell_type": "markdown",
   "id": "3558f30b-ee25-429c-b45e-3bc66b7cf461",
   "metadata": {},
   "source": [
    "##### > union() it creates a new set with element from both set on which the               method is applied.\n",
    "##### > update() do not create new set it updates an existing set."
   ]
  },
  {
   "cell_type": "code",
   "execution_count": 26,
   "id": "1c1d656d-6b7c-421d-8c1f-01979f29a237",
   "metadata": {},
   "outputs": [
    {
     "name": "stdout",
     "output_type": "stream",
     "text": [
      "{1, 2, 3, 4, 5, 6, 7, 8}\n",
      "{1, 2, 3, 4, 5}\n"
     ]
    }
   ],
   "source": [
    "## union() example\n",
    "set_1 = {1,2,3,4,5}\n",
    "set_2 = {4,5,6,7,8}\n",
    "set_1.union(set_2)        ## A new set is formed having elements of both sets.\n",
    "print(set_1.union(set_2))\n",
    "print(set_1)              "
   ]
  },
  {
   "cell_type": "code",
   "execution_count": 27,
   "id": "bbb9645b-706c-4f40-9384-c7fb44a0deda",
   "metadata": {},
   "outputs": [
    {
     "name": "stdout",
     "output_type": "stream",
     "text": [
      "None\n",
      "{1, 2, 3, 4, 5, 6, 7, 8}\n"
     ]
    }
   ],
   "source": [
    "## update() example\n",
    "set_1 = {1,2,3,4,5}\n",
    "set_2 = {4,5,6,7,8}\n",
    "set_1.update(set_2)\n",
    "print(set_1.update(set_2))    ## set_1 is updated with all elements that where in set_2 which where not in set_1. no new set is formed here.\n",
    "print(set_1)"
   ]
  },
  {
   "cell_type": "markdown",
   "id": "bc650aa8-0ed5-47fb-ae9f-124a0ae60dd0",
   "metadata": {},
   "source": [
    "#### Answer_5"
   ]
  },
  {
   "cell_type": "markdown",
   "id": "4d1741a6-6e46-43b1-b7da-4df418f76c24",
   "metadata": {},
   "source": [
    "##### > A dictionary is a collection which is ordered, changeable and do not allow         duplicates.\n",
    "##### > Dictionaries are used to store data in key:value pair.\n",
    "##### > It is written with curley brackets."
   ]
  },
  {
   "cell_type": "code",
   "execution_count": 28,
   "id": "b5406c6a-3957-490e-a50f-c91bdf0d6b50",
   "metadata": {},
   "outputs": [
    {
     "data": {
      "text/plain": [
       "dict"
      ]
     },
     "execution_count": 28,
     "metadata": {},
     "output_type": "execute_result"
    }
   ],
   "source": [
    "## Example \n",
    "\n",
    "D_1 = {\"Name\":\"Aman\" , \"Surname\":\"Vishwakarma\" , \"Email-Id\":\"amansharma@gmail.com\" , 'Number':1234567890}\n",
    "type(D_1)"
   ]
  },
  {
   "cell_type": "markdown",
   "id": "3c264fff-bbea-41cc-804c-0babdf4b7fc2",
   "metadata": {},
   "source": [
    "##### > As a python versiom 3.7, dictionaries are ordered. In python 3.6 and earlier , dictionary are unordered."
   ]
  },
  {
   "cell_type": "markdown",
   "id": "2f4096c5-28fc-45c6-9a32-497b0d7b6de8",
   "metadata": {},
   "source": [
    "#### Answer_6"
   ]
  },
  {
   "cell_type": "markdown",
   "id": "cd55673d-d4ce-4b37-9ae2-3b6cecaa4579",
   "metadata": {},
   "source": [
    "##### > We can create nested dictionary.\n",
    "##### > In a key:value pair in dictionary, value can be of dictionary data type           and such dictionary are known to be nested dictionary."
   ]
  },
  {
   "cell_type": "code",
   "execution_count": null,
   "id": "6d56b26c-13d5-4090-adcb-56306053b8c4",
   "metadata": {},
   "outputs": [],
   "source": [
    "## Example\n",
    "\n",
    "## Example\n",
    "\n",
    "Dic_2 = {\"pure_maths\":[\"Real Analysis\",\"Group Theory\",\"Linear Algebra\",\"Differential Calculus\"] , \"applied_maths\":(\"M.I\",\"O.D.E\",\"P.D.E\",\"V.C\") , \"books_name\":{\"S.K Mappa\",\"J.A Gallian\",\"Thomas calculus\",\"Friedberg\"} , (\"fav_sub\",\"not_fav_sub\"):{\"fav_sub\":\"Linear Algebra\",\"not_fav_sub\":\"Group Theory\"} }\n"
   ]
  },
  {
   "cell_type": "markdown",
   "id": "bc99cfed-cf2d-4bf1-b564-e16cb10d203f",
   "metadata": {},
   "source": [
    "#### Answer_7"
   ]
  },
  {
   "cell_type": "code",
   "execution_count": 36,
   "id": "7820891e-79ee-477c-b05f-07834b467499",
   "metadata": {},
   "outputs": [
    {
     "name": "stdout",
     "output_type": "stream",
     "text": [
      "{'language': 'Python', 'course': 'Data Science Masters'}\n",
      "{'language': 'Python', 'course': 'Data Science Masters', 'topics': ['Pthon', 'Machine Learning', 'Deep Learning']}\n"
     ]
    }
   ],
   "source": [
    "dic1 = {\"language\":\"Python\", \"course\":\"Data Science Masters\"}\n",
    "print(dic1)\n",
    "\n",
    "dic1.setdefault(\"topics\",[\"Pthon\",\"Machine Learning\",\"Deep Learning\"])\n",
    "print(dic1)\n"
   ]
  },
  {
   "cell_type": "markdown",
   "id": "049bfe8b-fb06-4310-93ca-0645d3406909",
   "metadata": {},
   "source": [
    "#### Answer_8"
   ]
  },
  {
   "cell_type": "markdown",
   "id": "9f4fd0c8-27e9-4aa7-a1e8-55ffbb11a710",
   "metadata": {},
   "source": [
    "##### > In the python dictionaries, some of the method returns view objects.\n",
    "##### > This view objects are dynamic view objects, meaning that when we nade some         changes in the dictionary then view reflects all these changes.\n",
    "##### > The three main view object in dictionary in pyhton are,\n",
    "###### >>> key\n",
    "###### >>> values\n",
    "###### >>> items\n",
    "##### > The provide non-constant view of the dictionary entries.\n"
   ]
  },
  {
   "cell_type": "code",
   "execution_count": 42,
   "id": "f7733f04-d825-4aab-83fb-95053f349ce1",
   "metadata": {},
   "outputs": [
    {
     "name": "stdout",
     "output_type": "stream",
     "text": [
      "dict_keys(['Sport', 'Team'])\n",
      "dict_values(['Cricket', ['India', 'Australia', 'England', 'South Africa', 'Sri lanka', 'New Zealand']])\n",
      "dict_items([('Sport', 'Cricket'), ('Team', ['India', 'Australia', 'England', 'South Africa', 'Sri lanka', 'New Zealand'])])\n"
     ]
    }
   ],
   "source": [
    "## Example\n",
    "\n",
    "dic2 = {\"Sport\":\"Cricket\", \"Team\":[\"India\",\"Australia\",\"England\",\"South Africa\",\"Sri lanka\",\"New Zealand\"]}\n",
    "\n",
    "print(dic2.keys())\n",
    "print(dic2.values())\n",
    "print(dic2.items())"
   ]
  },
  {
   "cell_type": "code",
   "execution_count": null,
   "id": "b198317e-d8c5-4cfc-abc2-c31e7e1ad325",
   "metadata": {},
   "outputs": [],
   "source": []
  }
 ],
 "metadata": {
  "kernelspec": {
   "display_name": "Python 3 (ipykernel)",
   "language": "python",
   "name": "python3"
  },
  "language_info": {
   "codemirror_mode": {
    "name": "ipython",
    "version": 3
   },
   "file_extension": ".py",
   "mimetype": "text/x-python",
   "name": "python",
   "nbconvert_exporter": "python",
   "pygments_lexer": "ipython3",
   "version": "3.10.8"
  }
 },
 "nbformat": 4,
 "nbformat_minor": 5
}
