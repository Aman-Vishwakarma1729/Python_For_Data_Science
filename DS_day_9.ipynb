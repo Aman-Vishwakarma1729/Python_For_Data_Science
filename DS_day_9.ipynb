{
 "cells": [
  {
   "cell_type": "markdown",
   "id": "302177f2-1519-4138-9398-d7014613cb72",
   "metadata": {},
   "source": [
    "## Exception Handling"
   ]
  },
  {
   "cell_type": "code",
   "execution_count": 1,
   "id": "a9e9116b-1af2-4d92-a244-7dfc1766f598",
   "metadata": {},
   "outputs": [
    {
     "ename": "ZeroDivisionError",
     "evalue": "division by zero",
     "output_type": "error",
     "traceback": [
      "\u001b[0;31m---------------------------------------------------------------------------\u001b[0m",
      "\u001b[0;31mZeroDivisionError\u001b[0m                         Traceback (most recent call last)",
      "Cell \u001b[0;32mIn[1], line 2\u001b[0m\n\u001b[1;32m      1\u001b[0m a \u001b[38;5;241m=\u001b[39m \u001b[38;5;241m19\u001b[39m\n\u001b[0;32m----> 2\u001b[0m \u001b[43ma\u001b[49m\u001b[38;5;241;43m/\u001b[39;49m\u001b[38;5;241;43m0\u001b[39;49m\n",
      "\u001b[0;31mZeroDivisionError\u001b[0m: division by zero"
     ]
    }
   ],
   "source": [
    "a = 19\n",
    "a/0"
   ]
  },
  {
   "cell_type": "code",
   "execution_count": 3,
   "id": "40afaefa-2bf7-4e51-aed3-03e3ce4b95de",
   "metadata": {},
   "outputs": [
    {
     "ename": "FileNotFoundError",
     "evalue": "[Errno 2] No such file or directory: 'example_daya_9.txt'",
     "output_type": "error",
     "traceback": [
      "\u001b[0;31m---------------------------------------------------------------------------\u001b[0m",
      "\u001b[0;31mFileNotFoundError\u001b[0m                         Traceback (most recent call last)",
      "Cell \u001b[0;32mIn[3], line 1\u001b[0m\n\u001b[0;32m----> 1\u001b[0m file \u001b[38;5;241m=\u001b[39m \u001b[38;5;28;43mopen\u001b[39;49m\u001b[43m(\u001b[49m\u001b[38;5;124;43m\"\u001b[39;49m\u001b[38;5;124;43mexample_daya_9.txt\u001b[39;49m\u001b[38;5;124;43m\"\u001b[39;49m\u001b[43m \u001b[49m\u001b[43m,\u001b[49m\u001b[43m \u001b[49m\u001b[38;5;124;43m'\u001b[39;49m\u001b[38;5;124;43mr\u001b[39;49m\u001b[38;5;124;43m'\u001b[39;49m\u001b[43m)\u001b[49m\n\u001b[1;32m      2\u001b[0m \u001b[38;5;28mprint\u001b[39m(\u001b[38;5;124m\"\u001b[39m\u001b[38;5;124mThere is issue in my code\u001b[39m\u001b[38;5;124m\"\u001b[39m)\n",
      "File \u001b[0;32m/opt/conda/lib/python3.10/site-packages/IPython/core/interactiveshell.py:282\u001b[0m, in \u001b[0;36m_modified_open\u001b[0;34m(file, *args, **kwargs)\u001b[0m\n\u001b[1;32m    275\u001b[0m \u001b[38;5;28;01mif\u001b[39;00m file \u001b[38;5;129;01min\u001b[39;00m {\u001b[38;5;241m0\u001b[39m, \u001b[38;5;241m1\u001b[39m, \u001b[38;5;241m2\u001b[39m}:\n\u001b[1;32m    276\u001b[0m     \u001b[38;5;28;01mraise\u001b[39;00m \u001b[38;5;167;01mValueError\u001b[39;00m(\n\u001b[1;32m    277\u001b[0m         \u001b[38;5;124mf\u001b[39m\u001b[38;5;124m\"\u001b[39m\u001b[38;5;124mIPython won\u001b[39m\u001b[38;5;124m'\u001b[39m\u001b[38;5;124mt let you open fd=\u001b[39m\u001b[38;5;132;01m{\u001b[39;00mfile\u001b[38;5;132;01m}\u001b[39;00m\u001b[38;5;124m by default \u001b[39m\u001b[38;5;124m\"\u001b[39m\n\u001b[1;32m    278\u001b[0m         \u001b[38;5;124m\"\u001b[39m\u001b[38;5;124mas it is likely to crash IPython. If you know what you are doing, \u001b[39m\u001b[38;5;124m\"\u001b[39m\n\u001b[1;32m    279\u001b[0m         \u001b[38;5;124m\"\u001b[39m\u001b[38;5;124myou can use builtins\u001b[39m\u001b[38;5;124m'\u001b[39m\u001b[38;5;124m open.\u001b[39m\u001b[38;5;124m\"\u001b[39m\n\u001b[1;32m    280\u001b[0m     )\n\u001b[0;32m--> 282\u001b[0m \u001b[38;5;28;01mreturn\u001b[39;00m \u001b[43mio_open\u001b[49m\u001b[43m(\u001b[49m\u001b[43mfile\u001b[49m\u001b[43m,\u001b[49m\u001b[43m \u001b[49m\u001b[38;5;241;43m*\u001b[39;49m\u001b[43margs\u001b[49m\u001b[43m,\u001b[49m\u001b[43m \u001b[49m\u001b[38;5;241;43m*\u001b[39;49m\u001b[38;5;241;43m*\u001b[39;49m\u001b[43mkwargs\u001b[49m\u001b[43m)\u001b[49m\n",
      "\u001b[0;31mFileNotFoundError\u001b[0m: [Errno 2] No such file or directory: 'example_daya_9.txt'"
     ]
    }
   ],
   "source": [
    "file = open(\"example_daya_9.txt\" , 'r')\n",
    "print(\"There is issue in my code\")"
   ]
  },
  {
   "cell_type": "code",
   "execution_count": null,
   "id": "6f05b8e6-778a-4c66-8734-681cd22d355b",
   "metadata": {},
   "outputs": [],
   "source": [
    "## Here there in error in first line of code, but second line have no error in it \n",
    "## still it is not executed because there was errror in first line."
   ]
  },
  {
   "cell_type": "code",
   "execution_count": 5,
   "id": "4ce1bf83-38a5-400f-942d-4c20885d2573",
   "metadata": {},
   "outputs": [
    {
     "name": "stdout",
     "output_type": "stream",
     "text": [
      "There is issue in my code [Errno 2] No such file or directory: 'example_daya_9.txt'\n",
      "Now it is allowing\n"
     ]
    }
   ],
   "source": [
    "try:\n",
    "    file = open(\"example_daya_9.txt\" , 'r')\n",
    "except Exception as e:\n",
    "    print(\"There is issue in my code\" , e)\n",
    "print(\"Now it is allowing\")"
   ]
  },
  {
   "cell_type": "code",
   "execution_count": null,
   "id": "e63b37a1-5546-4ddd-93f1-9433430efbeb",
   "metadata": {},
   "outputs": [],
   "source": [
    "## Here there is isuue in try block of code, it throws an error but still the next\n",
    "## line of code is executed. \n",
    "## And a message is thrown this is exception handling."
   ]
  },
  {
   "cell_type": "code",
   "execution_count": 7,
   "id": "ce55b08a-ab10-4bb0-b02e-0c0807855a4d",
   "metadata": {},
   "outputs": [
    {
     "name": "stdout",
     "output_type": "stream",
     "text": [
      "This else block will be excecuted when try block is totally executed without exception\n"
     ]
    }
   ],
   "source": [
    "try:\n",
    "    file = open(\"example_day_9.txt\" , 'w')\n",
    "    file.write(\"I am learning Exception Handling\")\n",
    "except Exception as e:\n",
    "    print(\"There is issue in my code\" , e)\n",
    "else:\n",
    "    file.close()\n",
    "    print(\"This else block will be excecuted when try block is totally executed without exception\")"
   ]
  },
  {
   "cell_type": "code",
   "execution_count": 8,
   "id": "c4cfe7f6-683e-42d9-ad3f-f3476bcba322",
   "metadata": {},
   "outputs": [
    {
     "name": "stdout",
     "output_type": "stream",
     "text": [
      "This block will be executed always\n"
     ]
    },
    {
     "ename": "UnsupportedOperation",
     "evalue": "not writable",
     "output_type": "error",
     "traceback": [
      "\u001b[0;31m---------------------------------------------------------------------------\u001b[0m",
      "\u001b[0;31mUnsupportedOperation\u001b[0m                      Traceback (most recent call last)",
      "Cell \u001b[0;32mIn[8], line 3\u001b[0m\n\u001b[1;32m      1\u001b[0m \u001b[38;5;28;01mtry\u001b[39;00m:\n\u001b[1;32m      2\u001b[0m     file \u001b[38;5;241m=\u001b[39m \u001b[38;5;28mopen\u001b[39m(\u001b[38;5;124m\"\u001b[39m\u001b[38;5;124mexample_day_9.txt\u001b[39m\u001b[38;5;124m\"\u001b[39m , \u001b[38;5;124m'\u001b[39m\u001b[38;5;124mr\u001b[39m\u001b[38;5;124m'\u001b[39m)\n\u001b[0;32m----> 3\u001b[0m     \u001b[43mfile\u001b[49m\u001b[38;5;241;43m.\u001b[39;49m\u001b[43mwrite\u001b[49m\u001b[43m(\u001b[49m\u001b[38;5;124;43m\"\u001b[39;49m\u001b[38;5;124;43mI am learning Exception Handling\u001b[39;49m\u001b[38;5;124;43m\"\u001b[39;49m\u001b[43m)\u001b[49m\n\u001b[1;32m      4\u001b[0m \u001b[38;5;28;01mfinally\u001b[39;00m:\n\u001b[1;32m      5\u001b[0m     \u001b[38;5;28mprint\u001b[39m(\u001b[38;5;124m\"\u001b[39m\u001b[38;5;124mThis block will be executed always\u001b[39m\u001b[38;5;124m\"\u001b[39m)\n",
      "\u001b[0;31mUnsupportedOperation\u001b[0m: not writable"
     ]
    }
   ],
   "source": [
    "try:\n",
    "    file = open(\"example_day_9.txt\" , 'r')\n",
    "    file.write(\"I am learning Exception Handling\")\n",
    "finally:\n",
    "    print(\"This block will be executed always\")"
   ]
  },
  {
   "cell_type": "code",
   "execution_count": null,
   "id": "2f38d8d3-6355-474a-8b07-c54a65581ce8",
   "metadata": {},
   "outputs": [],
   "source": [
    "## There are four blocks in exception handling\n",
    "## > try\n",
    "## > Except\n",
    "## > else\n",
    "## > finally\n",
    "## USing this combination of all these blocks exception handling is done."
   ]
  },
  {
   "cell_type": "markdown",
   "id": "efbc9d33-3de8-4c0a-bd94-df052c21f5d4",
   "metadata": {},
   "source": [
    "### Custom Exception Handling"
   ]
  },
  {
   "cell_type": "code",
   "execution_count": 10,
   "id": "36b610aa-1131-42cb-86fe-666a223c0a10",
   "metadata": {},
   "outputs": [
    {
     "name": "stdin",
     "output_type": "stream",
     "text": [
      "Enter The phone number 23\n"
     ]
    }
   ],
   "source": [
    "phone_num = int(input(\"Enter The phone number\"))"
   ]
  },
  {
   "cell_type": "code",
   "execution_count": null,
   "id": "e01f4638-26c3-4526-aad0-0bd4dc7c548d",
   "metadata": {},
   "outputs": [],
   "source": [
    "## Here above we know phone num is digit but it's not showing any error similarly there are many more codition for phone number being valid\n",
    "## But exception is not generated internally, so we can create a custom exception."
   ]
  },
  {
   "cell_type": "code",
   "execution_count": 14,
   "id": "7fc46fab-b576-4880-95d5-137b610458ab",
   "metadata": {},
   "outputs": [],
   "source": [
    "class valid_phone_num(Exception):   # Inheriting Exception class\n",
    "    \n",
    "    def __init__(self, msg): \n",
    "        \n",
    "        self.msg = msg              "
   ]
  },
  {
   "cell_type": "code",
   "execution_count": 42,
   "id": "83cd4f01-f0d9-497a-bc64-13ca45614119",
   "metadata": {},
   "outputs": [],
   "source": [
    "def validate_phone_number(phone_num):\n",
    "    if len(phone_num) == 10:\n",
    "        for i in phone_num:\n",
    "            if i not in ['1','2','3','4','5','6','7','8','9','0']:\n",
    "                raise valid_phone_num(\"Phone number must have only int and it should not be negative\")\n",
    "            else:\n",
    "                pass\n",
    "    else:\n",
    "        raise valid_phone_num(\"Lenght of phone number must be of 10 digit\")"
   ]
  },
  {
   "cell_type": "code",
   "execution_count": null,
   "id": "7c7d4050-e1b5-4440-b731-9504ef18c62e",
   "metadata": {},
   "outputs": [
    {
     "name": "stdin",
     "output_type": "stream",
     "text": [
      "Enter the phone number -123323454\n"
     ]
    },
    {
     "name": "stdout",
     "output_type": "stream",
     "text": [
      "Phone number must have only int and it should not be negative\n"
     ]
    }
   ],
   "source": [
    "try:\n",
    "    phone_num = input(\"Enter the phone number\")\n",
    "    validate_phone_number(phone_num)\n",
    "except valid_phone_num as e:\n",
    "    print(e)\n",
    "else:\n",
    "    print(\"The phone number is valid\")"
   ]
  },
  {
   "cell_type": "code",
   "execution_count": null,
   "id": "4d16589f-38eb-4915-81e0-b2e4dd6faa7d",
   "metadata": {},
   "outputs": [],
   "source": [
    "## This is how custom exception are generated."
   ]
  },
  {
   "cell_type": "markdown",
   "id": "0a661e63-f91e-4091-80a7-b09895516181",
   "metadata": {},
   "source": [
    "#### Best practice during exception handling"
   ]
  },
  {
   "cell_type": "code",
   "execution_count": 1,
   "id": "376856fe-9be5-4f00-8b7c-39caff8d27e2",
   "metadata": {},
   "outputs": [
    {
     "name": "stdout",
     "output_type": "stream",
     "text": [
      "division by zero\n"
     ]
    }
   ],
   "source": [
    "## 1) Use always specific exception not generic exception\n",
    "\n",
    "try:\n",
    "    a = 10/0\n",
    "except Exception as e:    ## This is generic exception handling it should not be done\n",
    "    print(e)"
   ]
  },
  {
   "cell_type": "code",
   "execution_count": 2,
   "id": "c61dbf6b-7253-44c3-bb58-a13c4384ad35",
   "metadata": {},
   "outputs": [
    {
     "name": "stdout",
     "output_type": "stream",
     "text": [
      "division by zero\n"
     ]
    }
   ],
   "source": [
    "try:\n",
    "    a = 3/0\n",
    "except ZeroDivisionError as e:  ## This is specific exception handling.\n",
    "    print(e)"
   ]
  },
  {
   "cell_type": "code",
   "execution_count": 4,
   "id": "5940682c-b73a-427c-8ca5-6b50ab2a0f78",
   "metadata": {},
   "outputs": [
    {
     "name": "stdout",
     "output_type": "stream",
     "text": [
      "This is zero division error:  division by zero\n"
     ]
    }
   ],
   "source": [
    "## 2) Print always valid msesage.\n",
    "\n",
    "try:\n",
    "    a = 4/0\n",
    "except ZeroDivisionError as e:\n",
    "    print(\"This is zero division error: \", e)"
   ]
  },
  {
   "cell_type": "code",
   "execution_count": 9,
   "id": "5f52dab7-f4b1-4d45-9830-c2181672392e",
   "metadata": {},
   "outputs": [],
   "source": [
    "## 3) Always try to log.\n",
    "import logging\n",
    "logging.basicConfig(filename = 'Day_9_logging_1.log' , level = logging.INFO , format = '%(asctime)s %(message)s')\n",
    "try:\n",
    "    logging.info(\"Division by zero is being performed\")\n",
    "    a = 5/0\n",
    "    \n",
    "except ZeroDivisionError as e:\n",
    "    logging.info(\"The ZeroDivisionError exception is being generated:{}\".format(e))\n",
    "\n"
   ]
  },
  {
   "cell_type": "code",
   "execution_count": null,
   "id": "8bb80a25-f031-4cf6-84bd-e3e8529b7806",
   "metadata": {},
   "outputs": [],
   "source": [
    "## 3) Always avoid to write a multiple exception handling"
   ]
  },
  {
   "cell_type": "code",
   "execution_count": null,
   "id": "57e1b1ea-ec3d-4a47-a735-90aef0934838",
   "metadata": {},
   "outputs": [],
   "source": [
    "## 4) Always prepare proper documenttation"
   ]
  },
  {
   "cell_type": "code",
   "execution_count": 10,
   "id": "4b4f8d9d-9c26-42b4-a9be-cd04f44eb787",
   "metadata": {},
   "outputs": [],
   "source": [
    "## 5) Cleanup all the resources.\n",
    "\n",
    "try:\n",
    "    with open(\"Day_9_2.txt\", 'w') as file:\n",
    "        file.write(\"I am learning practices to be done during exception handling\")\n",
    "except FileNotFoundError as e:\n",
    "    print(\"Error is \",e)\n",
    "finally:\n",
    "    file.close()                              ## cleanup is done\n",
    "   \n"
   ]
  },
  {
   "cell_type": "code",
   "execution_count": null,
   "id": "5d870493-cf9d-41a2-b24a-f149c20700a1",
   "metadata": {},
   "outputs": [],
   "source": []
  },
  {
   "cell_type": "code",
   "execution_count": null,
   "id": "e41afcd4-e4d5-44df-8044-05063f7963ea",
   "metadata": {},
   "outputs": [],
   "source": []
  }
 ],
 "metadata": {
  "kernelspec": {
   "display_name": "Python 3 (ipykernel)",
   "language": "python",
   "name": "python3"
  },
  "language_info": {
   "codemirror_mode": {
    "name": "ipython",
    "version": 3
   },
   "file_extension": ".py",
   "mimetype": "text/x-python",
   "name": "python",
   "nbconvert_exporter": "python",
   "pygments_lexer": "ipython3",
   "version": "3.10.8"
  }
 },
 "nbformat": 4,
 "nbformat_minor": 5
}
