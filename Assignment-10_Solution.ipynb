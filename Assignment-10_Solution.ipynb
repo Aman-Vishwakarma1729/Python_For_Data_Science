{
 "cells": [
  {
   "cell_type": "markdown",
   "id": "13630ce1-0591-4994-94e5-6f34a2c6e7ba",
   "metadata": {},
   "source": [
    "#### Answer_1"
   ]
  },
  {
   "cell_type": "markdown",
   "id": "035fa33f-9a7d-41ec-88be-2ce9f17b9c9e",
   "metadata": {},
   "source": [
    "##### > Multithreading is a way of achieving multitasking.\n",
    "##### > The concept of threads are used to achieve multithreading.\n",
    "##### > Multi-threading is multiple thread can exist within thread.\n",
    "##### > Multithreading is defined as the ability of a processor to execute                 multiple threads concurrently.\n",
    "##### > \"threading\" module is used to handle threads in python."
   ]
  },
  {
   "cell_type": "markdown",
   "id": "5bcd1a4f-0421-454a-8722-4d504e0f3686",
   "metadata": {},
   "source": [
    "#### Answer_2"
   ]
  },
  {
   "cell_type": "markdown",
   "id": "e475c7c8-dd2b-4401-bcc6-606d9c8f6b37",
   "metadata": {},
   "source": [
    "##### > In Python, the threading module provides a very simple and intuitive API           for spawning multiple threads in a program.\n",
    "##### > threading.activecount() function is used to count currently active or             runnning threads.\n",
    "##### > threading.currentThread() method is used to return current thread object,         which corressponds to caller's thread of control.\n",
    "##### > enumerate()  Return a list of all Thread objects currently active. The             list includes daemonic threads and dummy thread objects created by                 current_thread(). It excludes terminated threads and threads that have not         yet been started. However, the main thread is always part of the result,           even when terminated."
   ]
  },
  {
   "cell_type": "markdown",
   "id": "ef49464e-28d6-4f70-abc5-1814da0569d4",
   "metadata": {},
   "source": [
    "#### Answer_3"
   ]
  },
  {
   "cell_type": "markdown",
   "id": "e12e7a1d-ff94-44b1-b218-1719b5997a4f",
   "metadata": {},
   "source": [
    "##### > Thread.run() method is an inbuilt method of the Thread class of the  threading module in Python. This method is used to represent a thread's activity. It calls the method expressed as the target argument in the Thread object along with the positional and keyword arguments taken from the args and kwargs arguments, respectively. This method can also be overridden in the subclass.\n",
    "##### > Thread.start() method starts a thread by calling the run method.\n",
    "##### > The join() waits for threads to terminate.\n",
    "##### > The isAlive() method checks whether a thread is still executing."
   ]
  },
  {
   "cell_type": "markdown",
   "id": "b88c3d20-9d22-409f-9bcc-0608f9f63467",
   "metadata": {},
   "source": [
    "#### Answer_4"
   ]
  },
  {
   "cell_type": "code",
   "execution_count": null,
   "id": "d46d041a-2b03-4832-8d56-b630b22860c7",
   "metadata": {},
   "outputs": [],
   "source": [
    "import threading\n",
    "\n",
    "sqr_list = []\n",
    "def squares_thread(x):\n",
    "    sqr_list.append(x**2)\n",
    "\n",
    "cube_list = []\n",
    "def cubes_thread(x):\n",
    "    cube_list.append(x**3)"
   ]
  },
  {
   "cell_type": "code",
   "execution_count": null,
   "id": "cc86bc91-2afe-4ce7-91d9-7cfc4dac7c78",
   "metadata": {},
   "outputs": [],
   "source": [
    "Thread_1 = [threading.Thread(target = squares_thread, args = (i,)) for i in [1,2,3,4,5,6,7] ]\n",
    "Thread_2 = [threading.Thread(target = cubes_thread, args = (j,)) for j in [1,2,3,4,5,6,7] ]"
   ]
  },
  {
   "cell_type": "code",
   "execution_count": null,
   "id": "4d72ed4e-4c9e-42fa-8647-171bfba01148",
   "metadata": {},
   "outputs": [],
   "source": [
    "for t in Thread_1:\n",
    "    t.start()\n",
    "print(sqr_list)"
   ]
  },
  {
   "cell_type": "code",
   "execution_count": null,
   "id": "03541229-2346-4544-a562-8429c02f65f7",
   "metadata": {},
   "outputs": [],
   "source": [
    "for t in Thread_2:\n",
    "    t.start()\n",
    "print(cube_list)"
   ]
  },
  {
   "cell_type": "markdown",
   "id": "f68145ed-43e1-43a3-8e1a-897e933b24d8",
   "metadata": {},
   "source": [
    "#### Answer_5"
   ]
  },
  {
   "cell_type": "markdown",
   "id": "fcdd018a-6440-46dd-81cd-d993c19b04e7",
   "metadata": {},
   "source": [
    "#### Advantages of multithreading:\n",
    "\n",
    "##### 1) Enhanced performance by decreased development time\n",
    "##### 2) Simplified and streamlined program coding\n",
    "##### 3) Improvised GUI responsiveness\n",
    "##### 4) Simultaneous and parallelized occurrence of tasks\n",
    "##### 5) Better use of cache storage by utilization of resources\n",
    "##### 6) Decreased cost of maintenance\n",
    "##### 7) Better use of CPU resource\n",
    "\n",
    "#### Disadvantages of multithreading:\n",
    "\n",
    "##### 1) Complex debugging and testing processes\n",
    "##### 2) Overhead switching of context\n",
    "##### 3) Increased potential for deadlock occurrence\n",
    "##### 4) Increased difficulty level in writing a program\n",
    "##### 5) Unpredictable results"
   ]
  },
  {
   "cell_type": "markdown",
   "id": "a4f267b8-2f33-4ff0-9134-ff45fbddec11",
   "metadata": {},
   "source": [
    "#### Answer_6"
   ]
  },
  {
   "cell_type": "markdown",
   "id": "487a01f1-475f-43e9-a44b-a1bf7b53c565",
   "metadata": {},
   "source": [
    "##### > When two processes are competing with each other causing data corruption is considered as Race Condition.\n",
    "##### > For example, if two processes/threads are trying to execute the following conditions simultaneously, they cause data corruption:\n",
    "##### > Thread 1:\n",
    "##### > total = num1 + num2\n",
    "\n",
    "##### > Thread 2:\n",
    "##### > total = num1 - num2\n",
    "\n",
    "##### > When two processes are waiting for each other directly or indirectly, it is called deadlock.\n",
    "##### > This usually occurs when two processes are waiting for shared resources acquired by others. For example, If thread T1 acquired resource R1 and it also needs resource R2 for it to accomplish its task. But the resource R2 is acquired by thread T2 which is waiting for resource R1(which is acquired by T1).. Neither of them will be able to accomplish its task, as they keep waiting for the other resources they need."
   ]
  },
  {
   "cell_type": "code",
   "execution_count": null,
   "id": "f3f82f1d-b64e-45d6-a22b-87e98f1f3825",
   "metadata": {},
   "outputs": [],
   "source": []
  }
 ],
 "metadata": {
  "kernelspec": {
   "display_name": "Python 3 (ipykernel)",
   "language": "python",
   "name": "python3"
  },
  "language_info": {
   "codemirror_mode": {
    "name": "ipython",
    "version": 3
   },
   "file_extension": ".py",
   "mimetype": "text/x-python",
   "name": "python",
   "nbconvert_exporter": "python",
   "pygments_lexer": "ipython3",
   "version": "3.10.8"
  }
 },
 "nbformat": 4,
 "nbformat_minor": 5
}
