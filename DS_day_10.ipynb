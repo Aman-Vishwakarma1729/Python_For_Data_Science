{
 "cells": [
  {
   "cell_type": "markdown",
   "id": "1dbdb663-56ff-4ae8-99a4-20e4e07eafcb",
   "metadata": {},
   "source": [
    "## Threading\n"
   ]
  },
  {
   "cell_type": "markdown",
   "id": "a7b0ea8a-91ab-45d3-8b20-a4b45da766dc",
   "metadata": {},
   "source": [
    "#### There are multiple cores in system, such as dual core i.e with 2 core, quad core i.e with 4 core or 4 processor or octacore with 8 processors. \n",
    "#### For example let us take quad core system with 4 processor in it.\n",
    "#### we can run different programs/application in all 4 processors differently.\n",
    "#### when i want to run multiple program in single processor the concenpt of threading comes in picture.\n",
    "#### This programs can be run in consecutavie orfer in same processor."
   ]
  },
  {
   "cell_type": "code",
   "execution_count": 2,
   "id": "5555a8bc-2515-4f19-8b52-44af5adc05f2",
   "metadata": {},
   "outputs": [],
   "source": [
    "## Example of threading\n",
    "\n",
    "import threading\n",
    "\n",
    "def example_threading_1(id):\n",
    "    print(\"This is my id %d\" % id)\n",
    "    \n"
   ]
  },
  {
   "cell_type": "code",
   "execution_count": 3,
   "id": "42b4fc0a-4929-4bf0-952f-8cde018134d2",
   "metadata": {},
   "outputs": [
    {
     "name": "stdout",
     "output_type": "stream",
     "text": [
      "This is my id 1\n"
     ]
    }
   ],
   "source": [
    "example_threading_1(1)"
   ]
  },
  {
   "cell_type": "code",
   "execution_count": 4,
   "id": "02a892c3-79bd-48d9-94ca-13f231de0174",
   "metadata": {},
   "outputs": [
    {
     "name": "stdout",
     "output_type": "stream",
     "text": [
      "This is my id 2\n"
     ]
    }
   ],
   "source": [
    "example_threading_1(2)"
   ]
  },
  {
   "cell_type": "code",
   "execution_count": 5,
   "id": "2500a7c2-56f0-4e3a-a7d2-d8f839e31205",
   "metadata": {},
   "outputs": [
    {
     "name": "stdout",
     "output_type": "stream",
     "text": [
      "This is my id 6\n"
     ]
    }
   ],
   "source": [
    "example_threading_1(6)"
   ]
  },
  {
   "cell_type": "code",
   "execution_count": null,
   "id": "017813b9-69fd-4932-b15a-bf6785101049",
   "metadata": {},
   "outputs": [],
   "source": [
    "## I have executed this program 3 times with different id each time.\n",
    "## I can execute this program 1 time only for 3 different ids using threading."
   ]
  },
  {
   "cell_type": "code",
   "execution_count": 6,
   "id": "0ea74f5b-2fd8-4b2d-a1eb-a33de8e27ff3",
   "metadata": {},
   "outputs": [],
   "source": [
    "thread_1 = [threading.Thread(target = example_threading_1 , args = (i,)) for i in (1,2,6)]"
   ]
  },
  {
   "cell_type": "code",
   "execution_count": 7,
   "id": "70cb84ab-2f3d-4e78-a432-50cc98d61e40",
   "metadata": {},
   "outputs": [
    {
     "data": {
      "text/plain": [
       "[<Thread(Thread-5 (example_threading_1), initial)>,\n",
       " <Thread(Thread-6 (example_threading_1), initial)>,\n",
       " <Thread(Thread-7 (example_threading_1), initial)>]"
      ]
     },
     "execution_count": 7,
     "metadata": {},
     "output_type": "execute_result"
    }
   ],
   "source": [
    "thread_1  ## Thread has been created"
   ]
  },
  {
   "cell_type": "code",
   "execution_count": 8,
   "id": "a51eab65-542c-478c-8945-1ca3ed7be6ab",
   "metadata": {},
   "outputs": [
    {
     "name": "stdout",
     "output_type": "stream",
     "text": [
      "This is my id 1\n",
      "This is my id 2\n",
      "This is my id 6\n"
     ]
    }
   ],
   "source": [
    "for t in thread_1:\n",
    "    t.start()"
   ]
  },
  {
   "cell_type": "code",
   "execution_count": null,
   "id": "e38ea3e9-70db-4a91-96ff-9718df3e4986",
   "metadata": {},
   "outputs": [],
   "source": [
    "## Example"
   ]
  },
  {
   "cell_type": "code",
   "execution_count": 9,
   "id": "ca41871e-44b2-4737-8a4d-e13eb2db6300",
   "metadata": {},
   "outputs": [],
   "source": [
    "## This is how we read data through URL.\n",
    "\n",
    "import urllib.request\n",
    "\n",
    "def file_download(url , filename):\n",
    "    urllib.request.urlretrieve(url, filename)"
   ]
  },
  {
   "cell_type": "code",
   "execution_count": 13,
   "id": "06d07b2f-d745-4c67-8161-364fbb08f8b1",
   "metadata": {},
   "outputs": [],
   "source": [
    "file_download(\"https://sherlock-holm.es/stories/plain-text/scan.txt\" , \"Day_10_A_scandal_in_Bohemia.txt\")"
   ]
  },
  {
   "cell_type": "code",
   "execution_count": null,
   "id": "5e7f2466-ec5b-40aa-b657-180a0a283899",
   "metadata": {},
   "outputs": [],
   "source": [
    "## Now if i want to copy multiple data from multiple URL's and write data from that URL's in our system we can acheive that and we can make it simple by threading concept."
   ]
  },
  {
   "cell_type": "code",
   "execution_count": 25,
   "id": "133a9350-b017-4238-aca7-caf34d07d0d0",
   "metadata": {},
   "outputs": [],
   "source": [
    "list_of_URLS = [\"https://sherlock-holm.es/stories/plain-text/scan.txt\",\"https://sherlock-holm.es/stories/plain-text/iden.txt\",\"https://sherlock-holm.es/stories/plain-text/five.txt\"]\n",
    "list_of_file_names = [\"Day_10_Story_file_1.txt\",\"Day_10_Story_file_2.txt\",\"Day_10_Story_file_3.txt\"]\n",
    "\n",
    "Thread_2 = [threading.Thread(target = file_download , args = (list_of_URLS[i],list_of_file_names[i])) for i in range(len(list_of_URLS))]"
   ]
  },
  {
   "cell_type": "code",
   "execution_count": 26,
   "id": "509116cc-e01b-4c0c-9249-e00636e8bb7c",
   "metadata": {},
   "outputs": [],
   "source": [
    "for t in Thread_2 :\n",
    "    t.start()"
   ]
  },
  {
   "cell_type": "markdown",
   "id": "3feb9979-2eec-4fa7-8750-c127bcd2df5f",
   "metadata": {},
   "source": [
    "## Multi-Processing"
   ]
  },
  {
   "cell_type": "markdown",
   "id": "3e21e3f5-bf5b-4fa5-a3ae-ec972c1fddd3",
   "metadata": {},
   "source": [
    "#### The system can have multiple processor and we can a run mutiple programs in each processor which reduces the latency in pogram."
   ]
  },
  {
   "cell_type": "code",
   "execution_count": 7,
   "id": "9abf8575-b35a-4d59-a7ee-41e3e0cebbbb",
   "metadata": {},
   "outputs": [],
   "source": [
    "## Example for multiprocessing\n",
    "\n",
    "import multiprocessing         \n",
    "\n",
    "def multiprocessing_ex_1():\n",
    "    print(\"This is my first multiprocessing program\")"
   ]
  },
  {
   "cell_type": "code",
   "execution_count": 3,
   "id": "1884bdae-b876-453c-9afa-c4083910dc8a",
   "metadata": {},
   "outputs": [
    {
     "name": "stdout",
     "output_type": "stream",
     "text": [
      "This is my first multiprocessing program\n"
     ]
    }
   ],
   "source": [
    "multiprocessing_ex_1()  ## I can call this function and execute this program."
   ]
  },
  {
   "cell_type": "code",
   "execution_count": null,
   "id": "77e5ebb0-1487-4e25-99f1-f0e6ead93d55",
   "metadata": {},
   "outputs": [],
   "source": [
    "## But if want to execute this program with some other program than.."
   ]
  },
  {
   "cell_type": "code",
   "execution_count": 9,
   "id": "a58eda8a-d3b3-4424-b400-051a648e0985",
   "metadata": {},
   "outputs": [
    {
     "name": "stdout",
     "output_type": "stream",
     "text": [
      "This is my child program\n",
      "This is my first multiprocessing program\n"
     ]
    }
   ],
   "source": [
    "if __name__ == \"__main__\": ## This main program is ressponsible for executing all the program in python compiler.\n",
    "## This will invoke python main module by default.\n",
    "## This is process in itself.\n",
    "    m = multiprocessing.Process(target = multiprocessing_ex_1)\n",
    "    print(\"This is my child program\")\n",
    "    m.start()\n",
    "    m.join()"
   ]
  },
  {
   "cell_type": "code",
   "execution_count": 22,
   "id": "f1f667ea-d23b-44d9-a87d-d51589349916",
   "metadata": {},
   "outputs": [
    {
     "name": "stdout",
     "output_type": "stream",
     "text": [
      "[1, 8, 27, 64, 125, 216, 343, 512, 729, 1000]\n"
     ]
    }
   ],
   "source": [
    "## Example for pool\n",
    "\n",
    "import multiprocessing\n",
    "\n",
    "def multiprocessing_ex_2(n):\n",
    "    return n**3\n",
    "\n",
    "if __name__ == \"__main__\":\n",
    "    with multiprocessing.Pool(processes=4) as pool:\n",
    "        outcome = pool.map(multiprocessing_ex_2,[1,2,3,4,5,6,7,8,9,10])\n",
    "        print(outcome)"
   ]
  },
  {
   "cell_type": "code",
   "execution_count": null,
   "id": "f8ca727b-59d1-440d-9304-23a42f85ed7e",
   "metadata": {},
   "outputs": [],
   "source": [
    "## Example for queue\n",
    "\n",
    "import multiprocessing\n",
    "\n",
    "def entry(peoples):\n",
    "    for i in [\"Aman\",\"Ajay\",\"Rishab\",\"Rohan\",\"Sohan\",\"Pravin\"]:\n",
    "        peoples.put(i)\n",
    "    \n",
    "def exit(peoples):\n",
    "    while True:\n",
    "        p = peoples.get()\n",
    "        if p is None:\n",
    "            break\n",
    "        print(p)\n",
    "            \n",
    "if __name__ == \"__main__\":\n",
    "    queue = multiprocessing.Queue()\n",
    "    m_1 = multiprocessing.Process(target = entry , args = (queue,))\n",
    "    m_2 = multiprocessing.Process(target = exit , args = (queue,))\n",
    "    m_1.start()\n",
    "    m_2.start()\n",
    "    m_1.join()\n",
    "    m_2.join()"
   ]
  },
  {
   "cell_type": "code",
   "execution_count": null,
   "id": "862d4a63-64ab-44ef-8fa6-a27c867dd232",
   "metadata": {},
   "outputs": [],
   "source": [
    "## Example array\n",
    "\n",
    "import multiprocessing\n",
    "\n",
    "def squares(index,value):\n",
    "    value[index] = value[index]**4\n",
    "    \n",
    "\n",
    "if __name__ == \"__main__\":\n",
    "    arr = multiprocessing.Array('i',[1,2,3,4,5,6,7,8,9])\n",
    "    process = []\n",
    "    for i in range(9):\n",
    "        m = multiprocessing.Process(target = squares , args = (i,arr))\n",
    "        process.append(m)\n",
    "        m.start()\n",
    "        \n",
    "    for m in process:\n",
    "        m.join\n",
    "    print(list(arr))"
   ]
  },
  {
   "cell_type": "code",
   "execution_count": null,
   "id": "662ae0ee-7d35-47b9-9e37-387ad2dbf290",
   "metadata": {},
   "outputs": [],
   "source": [
    "## Example pipe\n",
    "\n",
    "## Example pipe\n",
    "\n",
    "import multiprocessing\n",
    "\n",
    "def sender(connection,msg):\n",
    "    for i in msg:\n",
    "        connection.send(i)\n",
    "    connection.close()\n",
    "    \n",
    "def receiver(connection):\n",
    "    while True:\n",
    "        try:\n",
    "            msg = connection.recv()\n",
    "        except Exception as e:\n",
    "            print(e)\n",
    "            break\n",
    "        print(msg)\n",
    "\n",
    "        \n",
    "if __name__ == '__main__':\n",
    "    msg = [\"Hi\",\"Hello\",\"How are you\",\"I am fine\"]\n",
    "    parent_connection,child_connection = multiprocessing.Pipe()\n",
    "    m1 = multiprocessing.Process(target = sender , args = (child_connection , msg))\n",
    "    m2 = multiprocessing.Process(target = receiver , args = (parent_connection ,))\n",
    "    m1.start()\n",
    "    m2.start()\n",
    "    m1.join()\n",
    "    child_connection.close()\n",
    "    m2.join()\n",
    "    parent_connection.close()"
   ]
  },
  {
   "cell_type": "code",
   "execution_count": null,
   "id": "f7762fe9-86de-4876-a5a0-dcce5552c668",
   "metadata": {},
   "outputs": [],
   "source": []
  },
  {
   "cell_type": "code",
   "execution_count": null,
   "id": "76bb49bb-26dd-478e-aedd-67599cb14c0c",
   "metadata": {},
   "outputs": [],
   "source": []
  },
  {
   "cell_type": "code",
   "execution_count": null,
   "id": "42b42446-52e7-4431-91c8-5e670a551985",
   "metadata": {},
   "outputs": [],
   "source": []
  }
 ],
 "metadata": {
  "kernelspec": {
   "display_name": "Python 3 (ipykernel)",
   "language": "python",
   "name": "python3"
  },
  "language_info": {
   "codemirror_mode": {
    "name": "ipython",
    "version": 3
   },
   "file_extension": ".py",
   "mimetype": "text/x-python",
   "name": "python",
   "nbconvert_exporter": "python",
   "pygments_lexer": "ipython3",
   "version": "3.10.8"
  }
 },
 "nbformat": 4,
 "nbformat_minor": 5
}
