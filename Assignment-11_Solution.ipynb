{
 "cells": [
  {
   "cell_type": "markdown",
   "id": "768f3998-3b34-4a8e-8411-10699ea6fa68",
   "metadata": {},
   "source": [
    "#### Answer_1"
   ]
  },
  {
   "cell_type": "markdown",
   "id": "59836ddb-e769-4dec-8e9b-055e8443553b",
   "metadata": {},
   "source": [
    "##### Multiprocessing refers to the ability of a system to support more than one processor at the same time. Applications in a multiprocessing system are broken to smaller routines that run independently. The operating system allocates these threads to the processors improving performance of the system.\n",
    "##### Consider a computer system with a single processor. If it is assigned several processes at the same time, it will have to interrupt each task and switch briefly to another, to keep all of the processes going.\n",
    "##### During such conditions Multiprocessing is usefull."
   ]
  },
  {
   "cell_type": "markdown",
   "id": "4a415933-415a-40d1-ba13-a58c1da44807",
   "metadata": {},
   "source": [
    "#### Answer_2"
   ]
  },
  {
   "cell_type": "markdown",
   "id": "0cdc44fb-8742-4b24-bff3-37f51ad10255",
   "metadata": {},
   "source": [
    "##### Multithreading is a technique where multiple threads are spawned by a process to do different tasks, at about the same time, just one after the other. This gives you the illusion that the threads are running in parallel, but they are actually run in a concurrent manner. In Python, the Global Interpreter Lock (GIL) prevents the threads from running simultaneously.\n",
    "##### Multiprocessing is a technique where parallelism in its truest form is achieved. Multiple processes are run across multiple CPU cores, which do not share the resources among them. Each process can have many threads running in its own memory space. In Python, each process has its own instance of Python interpreter doing the job of executing the instructions."
   ]
  },
  {
   "cell_type": "markdown",
   "id": "90f186a0-4359-4e79-b846-7f2f5dd2d618",
   "metadata": {},
   "source": [
    "#### Answer_3"
   ]
  },
  {
   "cell_type": "code",
   "execution_count": 6,
   "id": "4df7ed0e-f755-48a3-ab3d-cdbc6a2d7e6c",
   "metadata": {},
   "outputs": [
    {
     "name": "stdout",
     "output_type": "stream",
     "text": [
      "[1, 16, 81, 256, 625, 1296, 2401, 4096, 9]\n"
     ]
    }
   ],
   "source": [
    "import multiprocessing\n",
    "\n",
    "def squares(index,value):\n",
    "    value[index] = value[index]**4\n",
    "    \n",
    "\n",
    "if __name__ == \"__main__\":\n",
    "    arr = multiprocessing.Array('i',[1,2,3,4,5,6,7,8,9])\n",
    "    process = []\n",
    "    for i in range(9):\n",
    "        m = multiprocessing.Process(target = squares , args = (i,arr))\n",
    "        process.append(m)\n",
    "        m.start()\n",
    "        \n",
    "    for m in process:\n",
    "        m.join\n",
    "    print(list(arr))"
   ]
  },
  {
   "cell_type": "markdown",
   "id": "895629f2-ddf0-4f4b-80aa-d1dee25b7e01",
   "metadata": {},
   "source": [
    "#### Answer_4"
   ]
  },
  {
   "cell_type": "markdown",
   "id": "152608ed-b675-4cf4-82f9-e09266318073",
   "metadata": {},
   "source": [
    "##### > When we creat a program it might happen that only one core is being used for program execution and it's quite possible that other core remains idle.\n",
    "##### > In order to utilize all the cores, multiprocessing module provides a Pool class. The Pool class represents a pool of worker processes. It has methods which allows tasks to be offloaded to the worker processes in a few different ways.\n",
    "##### >  the task is offloaded/distributed among the cores/processes automatically by Pool object. User doesn’t need to worry about creating processes explicitly. "
   ]
  },
  {
   "cell_type": "markdown",
   "id": "1b63592e-8544-48ed-b9da-649647eaedb6",
   "metadata": {},
   "source": [
    "#### Answer_5"
   ]
  },
  {
   "cell_type": "markdown",
   "id": "0d925e8e-1298-41cb-994e-59e854305168",
   "metadata": {},
   "source": [
    "##### > We create pool object using:   p = multiprocessing.Pool()\n",
    "##### > There are a few arguments for gaining more control over offloading of             task. These are:\n",
    "\n",
    "###### > processes: specify the number of worker processes.\n",
    "###### > maxtasksperchild: specify the maximum number of task to be assigned per            child.\n",
    "##### > All the processes in a pool can be made to perform some initialization             using these arguments:\n",
    "###### > initializer: specify an initialization function for worker processes.\n",
    "###### > initargs: arguments to be passed to initializer.\n",
    "\n",
    "##### > in order to perform some task, we have to map it to some function"
   ]
  },
  {
   "cell_type": "markdown",
   "id": "f459e200-16c3-4a9f-9ae7-f698125a2669",
   "metadata": {},
   "source": [
    "#### Answer_6"
   ]
  },
  {
   "cell_type": "code",
   "execution_count": 11,
   "id": "6756c2a4-e7cc-4977-9a8a-84c4346e5cc8",
   "metadata": {},
   "outputs": [
    {
     "name": "stdout",
     "output_type": "stream",
     "text": [
      "1\n",
      "2\n",
      "3\n",
      "4\n",
      "This is number 1\n",
      "This is number 2\n",
      "This is number 3\n",
      "This is number 4\n"
     ]
    }
   ],
   "source": [
    "def process_1():\n",
    "    print(\"This is number 1\")\n",
    "\n",
    "def process_2():\n",
    "    print(\"This is number 2\")\n",
    "    \n",
    "def process_3():\n",
    "    print(\"This is number 3\")\n",
    "\n",
    "def process_4():\n",
    "    print(\"This is number 4\")\n",
    "    \n",
    "if __name__ == '__main__' :\n",
    "    m1 = multiprocessing.Process(target = process_1 )\n",
    "    print(\"1\")\n",
    "    \n",
    "    m2 = multiprocessing.Process(target = process_2 )\n",
    "    print(\"2\")\n",
    "    \n",
    "    m3 = multiprocessing.Process(target = process_3 )\n",
    "    print(\"3\")\n",
    "    \n",
    "    m4 = multiprocessing.Process(target = process_4 )\n",
    "    print(\"4\")\n",
    "    \n",
    "    m1.start()\n",
    "    m1.join()\n",
    "    m2.start()\n",
    "    m2.join()\n",
    "    m3.start()\n",
    "    m3.join()\n",
    "    m4.start()\n",
    "    m4.join()   "
   ]
  },
  {
   "cell_type": "code",
   "execution_count": null,
   "id": "15ff3317-238b-4378-b311-c5dfe610f17b",
   "metadata": {},
   "outputs": [],
   "source": []
  }
 ],
 "metadata": {
  "kernelspec": {
   "display_name": "Python 3 (ipykernel)",
   "language": "python",
   "name": "python3"
  },
  "language_info": {
   "codemirror_mode": {
    "name": "ipython",
    "version": 3
   },
   "file_extension": ".py",
   "mimetype": "text/x-python",
   "name": "python",
   "nbconvert_exporter": "python",
   "pygments_lexer": "ipython3",
   "version": "3.10.8"
  }
 },
 "nbformat": 4,
 "nbformat_minor": 5
}
