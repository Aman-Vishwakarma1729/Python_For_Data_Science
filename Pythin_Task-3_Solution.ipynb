{
 "cells": [
  {
   "cell_type": "markdown",
   "id": "5343112f-1f05-4d4c-ad15-28eebaaef3bd",
   "metadata": {},
   "source": [
    "#### Answer_1"
   ]
  },
  {
   "cell_type": "code",
   "execution_count": 10,
   "id": "50e21e37-2abb-4864-b37d-7b8a363b1ca5",
   "metadata": {},
   "outputs": [],
   "source": [
    "class vehicle:\n",
    "    \n",
    "    def __init__(self, name_of_vehicle, max_speed, average_of_vehicle):\n",
    "        \n",
    "        self.name_of_vehicle = name_of_vehicle\n",
    "        self.max_speed = max_speed\n",
    "        self.average_of_vehicle = average_of_vehicle\n",
    "    \n",
    "    "
   ]
  },
  {
   "cell_type": "markdown",
   "id": "4b5ddbeb-f35c-4ae5-bcb2-7dc0b30e78f8",
   "metadata": {},
   "source": [
    "#### Answer_2"
   ]
  },
  {
   "cell_type": "code",
   "execution_count": 14,
   "id": "1d579532-9fae-49c1-a69c-48d90558a05b",
   "metadata": {},
   "outputs": [],
   "source": [
    "class car(vehicle):\n",
    "    \n",
    "    def seating_capacity(self, capacity):\n",
    "        \n",
    "        return self.name_of_vehicle, capacity"
   ]
  },
  {
   "cell_type": "code",
   "execution_count": 15,
   "id": "1d4771af-60b7-4694-8065-8a9c2ac2aa9e",
   "metadata": {},
   "outputs": [
    {
     "data": {
      "text/plain": [
       "('Mercedes', 4)"
      ]
     },
     "execution_count": 15,
     "metadata": {},
     "output_type": "execute_result"
    }
   ],
   "source": [
    "obj_1_car = car(\"Mercedes\", \"300 km/h\" , \"17km\")\n",
    "obj_1_car.seating_capacity(4)"
   ]
  },
  {
   "cell_type": "markdown",
   "id": "adbc7617-d247-4446-a957-61cd455e0043",
   "metadata": {},
   "source": [
    "#### Answer_3"
   ]
  },
  {
   "cell_type": "markdown",
   "id": "07dbc966-11a3-4f6e-a94e-a8441d576fcc",
   "metadata": {},
   "source": [
    "##### > When a class is derived from more than one base class it is called                 multiple Inheritance. The derived class inherits all the features of the           base case.\n",
    " "
   ]
  },
  {
   "cell_type": "code",
   "execution_count": 16,
   "id": "34e733a9-a4db-4496-aac6-4f12e06fbac5",
   "metadata": {},
   "outputs": [],
   "source": [
    "class class_1:\n",
    "    def test_class_1_f1(self):\n",
    "        print(\"This is class-1 first function\")\n",
    "    \n",
    "    def test_class_1_f2(self):\n",
    "        print(\"This is class-1 second function\")\n",
    "     \n",
    "    def test_class_1_f3(self):\n",
    "        print(\"This is class-1 third function\")"
   ]
  },
  {
   "cell_type": "code",
   "execution_count": 17,
   "id": "009638b6-c046-4eee-844e-08ddd197fd02",
   "metadata": {},
   "outputs": [],
   "source": [
    "class class_2:\n",
    "    def test_class_2_f1(self):\n",
    "        print(\"This is class-2 first function\")\n",
    "        \n",
    "    def test_class_2_f2(self):\n",
    "        print(\"This is class-2 second function\")"
   ]
  },
  {
   "cell_type": "code",
   "execution_count": 18,
   "id": "fdd844e6-6e20-4e0b-ad01-9fae8e0e1a2c",
   "metadata": {},
   "outputs": [],
   "source": [
    "class class_3(class_1,class_2):\n",
    "    pass"
   ]
  },
  {
   "cell_type": "code",
   "execution_count": 19,
   "id": "90d64182-0535-4dd1-a8c0-d5a99947ad9e",
   "metadata": {},
   "outputs": [
    {
     "name": "stdout",
     "output_type": "stream",
     "text": [
      "This is class-1 third function\n"
     ]
    }
   ],
   "source": [
    "obj_class_3 = class_3()\n",
    "obj_class_3.test_class_1_f3()"
   ]
  },
  {
   "cell_type": "code",
   "execution_count": 20,
   "id": "7f028f47-6086-49ed-888c-a42530664064",
   "metadata": {},
   "outputs": [
    {
     "name": "stdout",
     "output_type": "stream",
     "text": [
      "This is class-2 second function\n"
     ]
    }
   ],
   "source": [
    "obj_class_3.test_class_2_f2()"
   ]
  },
  {
   "cell_type": "markdown",
   "id": "e035d7d4-8969-451b-bdb0-904f890fefb6",
   "metadata": {},
   "source": [
    "#### Answer_4"
   ]
  },
  {
   "cell_type": "markdown",
   "id": "0b644603-3ff0-40e7-a384-122cb4a40cad",
   "metadata": {},
   "source": [
    "##### > The main fucntionality for getter and setter method in python is to               achieve encapsulation.\n",
    "##### > Private variables in python are not hidden feild. We use getter and setter         method to avoid direct access to class field.\n",
    "##### > getter method is used to get data that is private.\n",
    "##### > setter method is uded to set data that is to modify data that is private."
   ]
  },
  {
   "cell_type": "code",
   "execution_count": 21,
   "id": "68db0cb3-b478-4ba8-ba1e-f7820c884efc",
   "metadata": {},
   "outputs": [],
   "source": [
    "## Example of getter and setter.\n",
    "\n",
    "class bank_detail:             # created class named as bank_detail\n",
    "    def __init__(self,bank_name,branch_name,account_number,password): #created constructuctor that pass the following data to its variable\n",
    "        \n",
    "        self.__bank_name = bank_name    # Here we made the bank_name as private by giving __ as self.__bank_name and withpout __ it was public.\n",
    "        self.__branch_name = branch_name  # The users will not be able to acces or modify this data as it encapsulated\n",
    "        self.__account_number = account_number # Only the creator of the code will able to access and modify it.\n",
    "        self.__password = password #As only cretor know the data name and class name.\n",
    "        \n",
    "    # If i want that user must be able to acess the data but should able to modify it\n",
    "    \n",
    "    def get_account_number(self):       # getter method\n",
    "        return self.__account_number\n",
    "    \n",
    "    def get_password(self):\n",
    "        return self.__password \n",
    "    \n",
    "    # If i want that user must be able to modify the data \n",
    "    \n",
    "    def set_password(self, password):   # setter method\n",
    "        return 'invalid' if len(password) != 4 else password"
   ]
  },
  {
   "cell_type": "code",
   "execution_count": 22,
   "id": "78c92b8e-02e0-4cce-b2e5-e02da418b193",
   "metadata": {},
   "outputs": [],
   "source": [
    "obj_1 = bank_detail(\"Bank of India\",\"Amravati\",\"1234567890123456\",\"PASS\")"
   ]
  },
  {
   "cell_type": "code",
   "execution_count": 23,
   "id": "37248316-a39c-43c9-ac8f-14eb3a277558",
   "metadata": {},
   "outputs": [
    {
     "data": {
      "text/plain": [
       "'1234567890123456'"
      ]
     },
     "execution_count": 23,
     "metadata": {},
     "output_type": "execute_result"
    }
   ],
   "source": [
    "obj_1.get_account_number()"
   ]
  },
  {
   "cell_type": "code",
   "execution_count": 24,
   "id": "e81ab5a9-052d-49d9-b138-c455bf4943c2",
   "metadata": {},
   "outputs": [
    {
     "data": {
      "text/plain": [
       "'1234'"
      ]
     },
     "execution_count": 24,
     "metadata": {},
     "output_type": "execute_result"
    }
   ],
   "source": [
    "obj_1.set_password(\"1234\")"
   ]
  },
  {
   "cell_type": "code",
   "execution_count": 25,
   "id": "99e9c22e-1be4-48a9-b10e-5d2151efe5ee",
   "metadata": {},
   "outputs": [
    {
     "data": {
      "text/plain": [
       "'invalid'"
      ]
     },
     "execution_count": 25,
     "metadata": {},
     "output_type": "execute_result"
    }
   ],
   "source": [
    "obj_1.set_password(\"12345\")"
   ]
  },
  {
   "cell_type": "markdown",
   "id": "69fcac82-12e9-4343-9c25-d2045acb6400",
   "metadata": {},
   "source": [
    "#### Answer_5"
   ]
  },
  {
   "cell_type": "markdown",
   "id": "fe172de9-317f-4d2d-ba3a-988cf806b969",
   "metadata": {},
   "source": [
    "##### > Method overriding is an ability of any object-oriented programming                 language that allows a subclass or child class to provide a specific               implementation of a method that is already provided by one of its super-           classes or parent classes. \n",
    "##### > When a method in a subclass has the same name, same parameters or                 signature and same return type(or sub-type) as a method in its super-             class, then the method in the subclass is said to override the method in           the super-class.\n",
    "##### > The version of a method that is executed will be determined by the object         that is used to invoke it. If an object of a parent class is used to               invoke the method, then the version in the parent class will be executed,         but if an object of the subclass is used to invoke the method, then the           version in the child class will be executed."
   ]
  },
  {
   "cell_type": "code",
   "execution_count": 26,
   "id": "acdf6471-352e-44be-b576-ed33ba2cefc4",
   "metadata": {},
   "outputs": [],
   "source": [
    "# Example of method overriding"
   ]
  },
  {
   "cell_type": "code",
   "execution_count": 28,
   "id": "595b0a09-4afd-473e-9a00-a5fc86755ac5",
   "metadata": {},
   "outputs": [],
   "source": [
    "class class_1:\n",
    "    def test_class_f1(self):\n",
    "        print(\"This is class-1 first function\")\n",
    "    \n",
    "    def test_class_f2(self):\n",
    "        print(\"This is class-1 second function\")\n",
    "     \n",
    "    def test_class_f3(self):\n",
    "        print(\"This is class-1 third function\")"
   ]
  },
  {
   "cell_type": "code",
   "execution_count": 29,
   "id": "ea519a85-9197-4e79-aec8-1e0795faa6a2",
   "metadata": {},
   "outputs": [],
   "source": [
    "class class_2(class_1):\n",
    "    def test_class_f1(self):\n",
    "        print(\"This is class-2 first function\")\n",
    "        \n",
    "    def test_class_f2(self):\n",
    "        print(\"This is class-2 second function\")"
   ]
  },
  {
   "cell_type": "code",
   "execution_count": 32,
   "id": "dc3f395c-c14a-43c7-bf52-ef485bd07da0",
   "metadata": {},
   "outputs": [
    {
     "name": "stdout",
     "output_type": "stream",
     "text": [
      "This is class-2 second function\n"
     ]
    }
   ],
   "source": [
    "obj_class_2 = class_2()\n",
    "obj_class_2.test_class_f2()"
   ]
  },
  {
   "cell_type": "code",
   "execution_count": 35,
   "id": "5542ee9f-6b91-416f-8acf-a3e73b773fa2",
   "metadata": {},
   "outputs": [
    {
     "name": "stdout",
     "output_type": "stream",
     "text": [
      "This is class-1 second function\n"
     ]
    }
   ],
   "source": [
    "obj_class_1 = class_1()\n",
    "obj_class_1.test_class_f2()"
   ]
  },
  {
   "cell_type": "code",
   "execution_count": null,
   "id": "872d0d8f-8efe-436e-99de-33217a349d5b",
   "metadata": {},
   "outputs": [],
   "source": []
  }
 ],
 "metadata": {
  "kernelspec": {
   "display_name": "Python 3 (ipykernel)",
   "language": "python",
   "name": "python3"
  },
  "language_info": {
   "codemirror_mode": {
    "name": "ipython",
    "version": 3
   },
   "file_extension": ".py",
   "mimetype": "text/x-python",
   "name": "python",
   "nbconvert_exporter": "python",
   "pygments_lexer": "ipython3",
   "version": "3.10.8"
  }
 },
 "nbformat": 4,
 "nbformat_minor": 5
}
