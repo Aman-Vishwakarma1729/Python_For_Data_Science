{
 "cells": [
  {
   "cell_type": "markdown",
   "id": "776dd4ea-4282-4cee-aa04-100db07a4927",
   "metadata": {},
   "source": [
    "# Functions"
   ]
  },
  {
   "cell_type": "code",
   "execution_count": null,
   "id": "30501a84-48dc-4690-8084-353de39c1859",
   "metadata": {},
   "outputs": [],
   "source": [
    "def f_1():    # def is use to define function or to  make function.\n",
    "    pass      # f_1 is name of function\n",
    "              # while defining a function name () is necessar"
   ]
  },
  {
   "cell_type": "code",
   "execution_count": 5,
   "id": "68769881-6530-4592-a2bd-7adf4cc7f622",
   "metadata": {},
   "outputs": [
    {
     "name": "stdout",
     "output_type": "stream",
     "text": [
      "Hello robots\n"
     ]
    }
   ],
   "source": [
    "def f_2():\n",
    "    print(\"Hello robots\")\n",
    "f_2()"
   ]
  },
  {
   "cell_type": "code",
   "execution_count": 6,
   "id": "06f39647-9a35-4f66-95c0-51c16884d6c4",
   "metadata": {},
   "outputs": [
    {
     "name": "stdout",
     "output_type": "stream",
     "text": [
      "Hello robots\n"
     ]
    }
   ],
   "source": [
    "# we can call functions by its name\n",
    "\n",
    "f_2()\n"
   ]
  },
  {
   "cell_type": "code",
   "execution_count": 1,
   "id": "b5acf601-eca9-443d-be91-a3fe986a2af5",
   "metadata": {},
   "outputs": [
    {
     "name": "stdin",
     "output_type": "stream",
     "text": [
      "Enter the size 4\n"
     ]
    },
    {
     "name": "stdout",
     "output_type": "stream",
     "text": [
      "* * * *  \n",
      "* * * *  \n",
      "* * * *  \n",
      "* * * *  \n"
     ]
    }
   ],
   "source": [
    "def square_pattern():\n",
    "    size = int(input(\"Enter the size\"))\n",
    "    \n",
    "    i=0\n",
    "    while i < size:\n",
    "        \n",
    "        j=0\n",
    "        while j < size:\n",
    "            \n",
    "            print(\"*\" , end = \" \")\n",
    "            j = j + 1\n",
    "        print(\" \")\n",
    "        i = i + 1\n",
    "square_pattern()"
   ]
  },
  {
   "cell_type": "code",
   "execution_count": 7,
   "id": "b335c071-d0a9-4615-beea-e2be1a05d5cf",
   "metadata": {
    "tags": []
   },
   "outputs": [
    {
     "name": "stdout",
     "output_type": "stream",
     "text": [
      "Hello robots\n"
     ]
    },
    {
     "ename": "TypeError",
     "evalue": "unsupported operand type(s) for +: 'NoneType' and 'str'",
     "output_type": "error",
     "traceback": [
      "\u001b[0;31m---------------------------------------------------------------------------\u001b[0m",
      "\u001b[0;31mTypeError\u001b[0m                                 Traceback (most recent call last)",
      "Cell \u001b[0;32mIn[7], line 1\u001b[0m\n\u001b[0;32m----> 1\u001b[0m \u001b[43mf_2\u001b[49m\u001b[43m(\u001b[49m\u001b[43m)\u001b[49m\u001b[43m \u001b[49m\u001b[38;5;241;43m+\u001b[39;49m\u001b[43m \u001b[49m\u001b[38;5;124;43m\"\u001b[39;49m\u001b[38;5;124;43mWhats new updat\u001b[39;49m\u001b[38;5;124;43m\"\u001b[39;49m\n",
      "\u001b[0;31mTypeError\u001b[0m: unsupported operand type(s) for +: 'NoneType' and 'str'"
     ]
    }
   ],
   "source": [
    "f_2() + \"Whats new updat\"\n",
    "\n",
    "# Here the concatenation does not worked becuse return type print() in f_2() function is none type by default and we try to concactinate it with string type."
   ]
  },
  {
   "cell_type": "code",
   "execution_count": 14,
   "id": "4665bd59-e537-4561-a4a9-bd6eb622e5af",
   "metadata": {},
   "outputs": [
    {
     "data": {
      "text/plain": [
       "'Hello Robots Whats new update'"
      ]
     },
     "execution_count": 14,
     "metadata": {},
     "output_type": "execute_result"
    }
   ],
   "source": [
    "# to overcome above problem we use return\n",
    "\n",
    "def f_3():\n",
    "    return \"Hello Robots\"\n",
    "\n",
    "f_3() + \" Whats new update\""
   ]
  },
  {
   "cell_type": "code",
   "execution_count": 20,
   "id": "807e01a5-bda5-4699-a7b5-cd3ea0efb693",
   "metadata": {},
   "outputs": [
    {
     "data": {
      "text/plain": [
       "11"
      ]
     },
     "execution_count": 20,
     "metadata": {},
     "output_type": "execute_result"
    }
   ],
   "source": [
    "# fuction with parameters\n",
    "def f_4(a,b):\n",
    "    c = (a + b)\n",
    "    return c\n",
    "\n",
    "f_4(5,6)"
   ]
  },
  {
   "cell_type": "code",
   "execution_count": 22,
   "id": "49ca3839-e38b-476f-81d7-ade0e22065eb",
   "metadata": {},
   "outputs": [
    {
     "data": {
      "text/plain": [
       "'Aman Vishwakarma'"
      ]
     },
     "execution_count": 22,
     "metadata": {},
     "output_type": "execute_result"
    }
   ],
   "source": [
    "f_4(\"Aman\",\" Vishwakarma\")"
   ]
  },
  {
   "cell_type": "code",
   "execution_count": 23,
   "id": "964d6bd6-c3bb-41ff-8700-0034a5ec5b4e",
   "metadata": {},
   "outputs": [
    {
     "data": {
      "text/plain": [
       "[12, 34, 3, 5, 5, 45, 454, 9, 7, 6756, 6, 687, 86, 4]"
      ]
     },
     "execution_count": 23,
     "metadata": {},
     "output_type": "execute_result"
    }
   ],
   "source": [
    "f_4([12,34,3,5,5,45,454],[9,7,6756,6,687,86,4])"
   ]
  },
  {
   "cell_type": "code",
   "execution_count": 24,
   "id": "a9bac08e-5857-482e-8c67-26254bd5d710",
   "metadata": {},
   "outputs": [
    {
     "data": {
      "text/plain": [
       "[1, 2, 4, 5, 6, 3, 'Aman', True, False, 3.5453, 43, 523]"
      ]
     },
     "execution_count": 24,
     "metadata": {},
     "output_type": "execute_result"
    }
   ],
   "source": [
    "# create a function that extrct only int value from list\n",
    "\n",
    "l = [1,2,4,5,6,3,\"Aman\",True,False,3.5453,43,523]\n",
    "l"
   ]
  },
  {
   "cell_type": "code",
   "execution_count": 51,
   "id": "2743dcb5-b041-489d-81a5-6c98c2f72394",
   "metadata": {},
   "outputs": [
    {
     "data": {
      "text/plain": [
       "[1, 2, 4, 5, 6, 3, 43, 523]"
      ]
     },
     "execution_count": 51,
     "metadata": {},
     "output_type": "execute_result"
    }
   ],
   "source": [
    "def extract_int():\n",
    "    int_list = []\n",
    "    for i in l:\n",
    "        if type(i)==int:\n",
    "            \n",
    "            int_list.append(i)\n",
    "    return int_list\n",
    "extract_int()            "
   ]
  },
  {
   "cell_type": "code",
   "execution_count": 3,
   "id": "74960883-56da-4651-977e-63a02e350826",
   "metadata": {},
   "outputs": [
    {
     "ename": "TypeError",
     "evalue": "f_5() takes 3 positional arguments but 4 were given",
     "output_type": "error",
     "traceback": [
      "\u001b[0;31m---------------------------------------------------------------------------\u001b[0m",
      "\u001b[0;31mTypeError\u001b[0m                                 Traceback (most recent call last)",
      "Cell \u001b[0;32mIn[3], line 5\u001b[0m\n\u001b[1;32m      2\u001b[0m \u001b[38;5;28;01mdef\u001b[39;00m \u001b[38;5;21mf_5\u001b[39m(a,b,c):\n\u001b[1;32m      3\u001b[0m     \u001b[38;5;28;01mpass\u001b[39;00m\n\u001b[0;32m----> 5\u001b[0m \u001b[43mf_5\u001b[49m\u001b[43m(\u001b[49m\u001b[38;5;241;43m1\u001b[39;49m\u001b[43m,\u001b[49m\u001b[38;5;241;43m3\u001b[39;49m\u001b[43m,\u001b[49m\u001b[38;5;241;43m4\u001b[39;49m\u001b[43m,\u001b[49m\u001b[38;5;241;43m4\u001b[39;49m\u001b[43m)\u001b[49m\n",
      "\u001b[0;31mTypeError\u001b[0m: f_5() takes 3 positional arguments but 4 were given"
     ]
    }
   ],
   "source": [
    "# only 2 arguments i.e only 3 data can be operated with this fucntion\n",
    "def f_5(a,b,c):\n",
    "    pass\n",
    "\n",
    "f_5(1,3,4,4)"
   ]
  },
  {
   "cell_type": "code",
   "execution_count": 5,
   "id": "2d2f6b9b-da6f-4dc2-82b6-4dc02d70a8bd",
   "metadata": {},
   "outputs": [
    {
     "data": {
      "text/plain": [
       "(12, 1434, 43, 3, 5, 5, 2)"
      ]
     },
     "execution_count": 5,
     "metadata": {},
     "output_type": "execute_result"
    }
   ],
   "source": [
    "# any number of argument can be operated,\n",
    "\n",
    "def f_6(*args):\n",
    "    return args\n",
    "\n",
    "f_6(12,1434,43,3,5,5,2)"
   ]
  },
  {
   "cell_type": "code",
   "execution_count": 6,
   "id": "268241a9-5042-4321-becf-76a18e55f8d9",
   "metadata": {},
   "outputs": [
    {
     "data": {
      "text/plain": [
       "[[1, 35, 6, 6, 235, 3], [6, 'aman']]"
      ]
     },
     "execution_count": 6,
     "metadata": {},
     "output_type": "execute_result"
    }
   ],
   "source": [
    "## Example (return list)\n",
    "\n",
    "def f_7(*args):\n",
    "    l = []\n",
    "    for i in args:\n",
    "        if type(i) == list:\n",
    "            l.append(i)\n",
    "    return l\n",
    "        \n",
    "f_7(1,3,4,5,5,6,[1,35,6,6,235,3],(\"a\",3,4,'an'),[6,'aman'])"
   ]
  },
  {
   "cell_type": "code",
   "execution_count": 9,
   "id": "3359b25c-26ee-4fe5-bfb2-438b662b10ca",
   "metadata": {},
   "outputs": [
    {
     "data": {
      "text/plain": [
       "(['a', 3, 4, 'an'],)"
      ]
     },
     "execution_count": 9,
     "metadata": {},
     "output_type": "execute_result"
    }
   ],
   "source": [
    "## Example (return tuple)\n",
    "\n",
    "def f_8(*args):\n",
    "    lst_01 = []\n",
    "    for i in args:\n",
    "        if type(i) == tuple:\n",
    "            lst_02 = list(i)\n",
    "            lst_01.append(lst_02)\n",
    "    return tuple(lst_01)\n",
    "\n",
    "f_8(1,3,4,5,5,6,[1,35,6,6,235,3],(\"a\",3,4,'an'),[6,'aman'])\n"
   ]
  },
  {
   "cell_type": "code",
   "execution_count": 10,
   "id": "efe2e509-c5f0-401a-aa64-9ecb195d844b",
   "metadata": {},
   "outputs": [
    {
     "data": {
      "text/plain": [
       "{'a': 1, 'b': 2, 'c': 5, 'd': ['Aman', 'is', 'Data Scientist']}"
      ]
     },
     "execution_count": 10,
     "metadata": {},
     "output_type": "execute_result"
    }
   ],
   "source": [
    "## Example for key value as argument\n",
    "\n",
    "def f_9(**kvargs):      # kvargs is key value arguments\n",
    "    return kvargs\n",
    "\n",
    "f_9(a=1,b=2,c=5,d=[\"Aman\", \"is\", \"Data Scientist\"])"
   ]
  },
  {
   "cell_type": "code",
   "execution_count": 12,
   "id": "b515e8ab-9410-4cdf-bdf0-c23b1159ee6c",
   "metadata": {},
   "outputs": [
    {
     "data": {
      "text/plain": [
       "((1, 3, 4324, 54, 232, 452), {'a': 'aman', 'b': 'vishwakarma'})"
      ]
     },
     "execution_count": 12,
     "metadata": {},
     "output_type": "execute_result"
    }
   ],
   "source": [
    "## Example n numbers of arguments with n number of key value pair\n",
    "\n",
    "def f_10(*args,**kyargs):\n",
    "    return args,kyargs\n",
    "\n",
    "f_10(1,3,4324,54,232,452,a=\"aman\",b=\"vishwakarma\")"
   ]
  },
  {
   "cell_type": "code",
   "execution_count": null,
   "id": "7040b2ba-20e4-432b-acba-98e6b4a145c4",
   "metadata": {},
   "outputs": [],
   "source": []
  },
  {
   "cell_type": "markdown",
   "id": "5fadc886-d616-48d6-879f-c61d93831f4a",
   "metadata": {},
   "source": [
    "# Generator Functions"
   ]
  },
  {
   "cell_type": "code",
   "execution_count": null,
   "id": "a8900d0b-db5b-4cd9-a00c-121a6737a151",
   "metadata": {},
   "outputs": [],
   "source": [
    "## range() function is example of generator function"
   ]
  },
  {
   "cell_type": "code",
   "execution_count": null,
   "id": "3b57eee0-f069-421a-8923-bb60536a338f",
   "metadata": {},
   "outputs": [],
   "source": [
    "## we can create generator function using yield"
   ]
  },
  {
   "cell_type": "code",
   "execution_count": 20,
   "id": "838ea709-757b-4772-86ff-74beb08e3672",
   "metadata": {},
   "outputs": [
    {
     "data": {
      "text/plain": [
       "<generator object fib_generator at 0x7f5a4471a420>"
      ]
     },
     "execution_count": 20,
     "metadata": {},
     "output_type": "execute_result"
    }
   ],
   "source": [
    "def fib_generator(n):\n",
    "    a,b = 0 , 1\n",
    "    for i in range(n):\n",
    "        yield a\n",
    "        a,b = b,a+b\n",
    "\n",
    "fib_generator(10)"
   ]
  },
  {
   "cell_type": "code",
   "execution_count": 21,
   "id": "ea6078f4-bab6-4ad2-9bcf-20de930abbcc",
   "metadata": {},
   "outputs": [
    {
     "name": "stdout",
     "output_type": "stream",
     "text": [
      "0\n",
      "1\n",
      "1\n",
      "2\n",
      "3\n",
      "5\n",
      "8\n",
      "13\n",
      "21\n",
      "34\n"
     ]
    }
   ],
   "source": [
    "for i in fib_generator(10):\n",
    "    print(i)"
   ]
  },
  {
   "cell_type": "markdown",
   "id": "4e50aa6f-76d1-4ef8-8fcb-57a162cb2018",
   "metadata": {},
   "source": [
    "# Lambda Function"
   ]
  },
  {
   "cell_type": "code",
   "execution_count": null,
   "id": "87cc1890-0c84-4775-9301-13c21e11aad3",
   "metadata": {},
   "outputs": [],
   "source": [
    "## We can create a function which gives power as..."
   ]
  },
  {
   "cell_type": "code",
   "execution_count": 2,
   "id": "3e530260-3ab4-4f77-9bd6-5a9349356bd4",
   "metadata": {},
   "outputs": [
    {
     "data": {
      "text/plain": [
       "15625"
      ]
     },
     "execution_count": 2,
     "metadata": {},
     "output_type": "execute_result"
    }
   ],
   "source": [
    "def power(m,n):\n",
    "    pow = m**n\n",
    "    return pow\n",
    "\n",
    "power(5,6)"
   ]
  },
  {
   "cell_type": "code",
   "execution_count": null,
   "id": "525fd1a9-3098-4b58-8d2f-38125132fd6b",
   "metadata": {},
   "outputs": [],
   "source": [
    "## There is another way of doing this... \n",
    "## i.e lambda function or anonymous function ..."
   ]
  },
  {
   "cell_type": "code",
   "execution_count": 9,
   "id": "52caa2ae-91c0-434b-b2a1-ee1dab06e87f",
   "metadata": {},
   "outputs": [
    {
     "data": {
      "text/plain": [
       "61917364224"
      ]
     },
     "execution_count": 9,
     "metadata": {},
     "output_type": "execute_result"
    }
   ],
   "source": [
    "pow = lambda m,n:m**n\n",
    "\n",
    "pow(12,10)"
   ]
  },
  {
   "cell_type": "code",
   "execution_count": null,
   "id": "466f8a0a-63b4-4465-a8b7-00b89ac6fb3b",
   "metadata": {},
   "outputs": [],
   "source": [
    "## not only power we can create any arithmetic operation using lambda function"
   ]
  },
  {
   "cell_type": "code",
   "execution_count": 10,
   "id": "120e0d52-e8fa-480e-800b-8f7691d9089b",
   "metadata": {},
   "outputs": [
    {
     "data": {
      "text/plain": [
       "22"
      ]
     },
     "execution_count": 10,
     "metadata": {},
     "output_type": "execute_result"
    }
   ],
   "source": [
    "add = lambda m,n:m+n\n",
    "\n",
    "add(12,10)"
   ]
  },
  {
   "cell_type": "code",
   "execution_count": 11,
   "id": "bc82375e-2685-4648-a178-c68ef58ed1ef",
   "metadata": {},
   "outputs": [
    {
     "data": {
      "text/plain": [
       "250.0"
      ]
     },
     "execution_count": 11,
     "metadata": {},
     "output_type": "execute_result"
    }
   ],
   "source": [
    "num_to_percentage = lambda num,per:(per/100)*num\n",
    "\n",
    "num_to_percentage(500,50)"
   ]
  },
  {
   "cell_type": "code",
   "execution_count": 14,
   "id": "4266ce3a-c5bb-4977-8a90-c32f16887439",
   "metadata": {},
   "outputs": [
    {
     "data": {
      "text/plain": [
       "45345"
      ]
     },
     "execution_count": 14,
     "metadata": {},
     "output_type": "execute_result"
    }
   ],
   "source": [
    "max_num = lambda num_1,num_2 : num_1 if num_1 > num_2 else num_2\n",
    "\n",
    "max_num(453,45345)"
   ]
  },
  {
   "cell_type": "markdown",
   "id": "b6c9151f-1e88-4581-96f6-f1a70d83f8f2",
   "metadata": {},
   "source": [
    "# Map, Reduce, Filter function"
   ]
  },
  {
   "cell_type": "code",
   "execution_count": 4,
   "id": "de0a6054-9796-4d6c-8c4d-e3e0c6b4031e",
   "metadata": {},
   "outputs": [
    {
     "data": {
      "text/plain": [
       "[1, 4, 9, 16, 25, 36, 49, 64, 81, 100]"
      ]
     },
     "execution_count": 4,
     "metadata": {},
     "output_type": "execute_result"
    }
   ],
   "source": [
    "# function that returns square of numbers in list\n",
    "\n",
    "def sqr(l):\n",
    "    sqr_lst = []\n",
    "    for i in l:\n",
    "        sqr_lst.append(i**2)\n",
    "    return sqr_lst\n",
    "\n",
    "sqr([1,2,3,4,5,6,7,8,9,10])\n",
    "    "
   ]
  },
  {
   "cell_type": "code",
   "execution_count": null,
   "id": "0766d244-75f6-47d9-9b13-ac8d42f560a8",
   "metadata": {},
   "outputs": [],
   "source": [
    "# We can do this using short hand function map."
   ]
  },
  {
   "cell_type": "code",
   "execution_count": 11,
   "id": "6cc418fb-fc86-4e59-97a5-2dd09911a851",
   "metadata": {},
   "outputs": [
    {
     "data": {
      "text/plain": [
       "<map at 0x7f0c0418a2f0>"
      ]
     },
     "execution_count": 11,
     "metadata": {},
     "output_type": "execute_result"
    }
   ],
   "source": [
    "l = [34,34,656,34,656,76,765,6]\n",
    "def map_sqr(num):\n",
    "    return num**2\n",
    "\n",
    "map(map_sqr,l)"
   ]
  },
  {
   "cell_type": "code",
   "execution_count": 15,
   "id": "ff41d0a9-382e-4a0b-93f8-c6fa6d0db055",
   "metadata": {},
   "outputs": [
    {
     "name": "stdout",
     "output_type": "stream",
     "text": [
      "(1156, 1156, 430336, 1156, 430336, 5776, 585225, 36)\n",
      "{430336, 1156, 36, 585225, 5776}\n",
      "[1156, 1156, 430336, 1156, 430336, 5776, 585225, 36]\n"
     ]
    }
   ],
   "source": [
    "print(tuple(map(map_sqr,l)))\n",
    "print(set(map(map_sqr,l)))\n",
    "print(list(map(map_sqr,l)))"
   ]
  },
  {
   "cell_type": "code",
   "execution_count": 16,
   "id": "2eea8686-5fef-45d4-9308-f81d564993ea",
   "metadata": {},
   "outputs": [
    {
     "data": {
      "text/plain": [
       "[1156, 1156, 430336, 1156, 430336, 5776, 585225, 36]"
      ]
     },
     "execution_count": 16,
     "metadata": {},
     "output_type": "execute_result"
    }
   ],
   "source": [
    "## lambda and map function\n",
    "\n",
    "list(map(lambda i: i**2,l))"
   ]
  },
  {
   "cell_type": "code",
   "execution_count": 26,
   "id": "9a0e67cd-3f54-4fd2-b052-656034351e73",
   "metadata": {},
   "outputs": [
    {
     "name": "stdout",
     "output_type": "stream",
     "text": [
      "[2, 4, 6, 8, 10, 12]\n"
     ]
    }
   ],
   "source": [
    "l_1 = [1,2,3,4,5,6]\n",
    "l_2 = [1,2,3,4,5,6]\n",
    "sum_ = []\n",
    "for i in range(len(l_1)):\n",
    "    sum_.append(l_1[i]+l_2[i])\n",
    "print(sum_)"
   ]
  },
  {
   "cell_type": "code",
   "execution_count": 30,
   "id": "bfe2a11f-38b3-4192-8f41-7d2541177abc",
   "metadata": {},
   "outputs": [
    {
     "data": {
      "text/plain": [
       "[2, 4, 6, 8, 10, 12]"
      ]
     },
     "execution_count": 30,
     "metadata": {},
     "output_type": "execute_result"
    }
   ],
   "source": [
    "list(map(lambda x,y : x+y , l_1,l_2))"
   ]
  },
  {
   "cell_type": "code",
   "execution_count": null,
   "id": "0af1aa2a-0f03-4290-a319-3814d0f7bd7d",
   "metadata": {},
   "outputs": [],
   "source": [
    "# if we want sum of all numbers in list."
   ]
  },
  {
   "cell_type": "code",
   "execution_count": 31,
   "id": "408581dd-ea61-4707-8d82-8341b9a8019f",
   "metadata": {},
   "outputs": [
    {
     "data": {
      "text/plain": [
       "7332"
      ]
     },
     "execution_count": 31,
     "metadata": {},
     "output_type": "execute_result"
    }
   ],
   "source": [
    "# method 1\n",
    "lst = [345,56,5767,87,897,5,43,56,76]\n",
    "sum([345,56,5767,87,897,5,43,56,76])"
   ]
  },
  {
   "cell_type": "code",
   "execution_count": 42,
   "id": "8f98ff39-9bce-4b27-aa72-686d139b6db1",
   "metadata": {},
   "outputs": [
    {
     "data": {
      "text/plain": [
       "7332"
      ]
     },
     "execution_count": 42,
     "metadata": {},
     "output_type": "execute_result"
    }
   ],
   "source": [
    "# method 2\n",
    "add = 0\n",
    "for i in range(len(lst)):\n",
    "    add = add+ lst[i]\n",
    "add"
   ]
  },
  {
   "cell_type": "code",
   "execution_count": null,
   "id": "acee26f7-2ce6-4a37-8d45-afbb55b406b7",
   "metadata": {},
   "outputs": [],
   "source": [
    "# method 3 (reduce() function)\n",
    "## we need to import the reduce() function"
   ]
  },
  {
   "cell_type": "code",
   "execution_count": 43,
   "id": "55fe1107-9805-4589-bba7-a725c4c8d609",
   "metadata": {},
   "outputs": [
    {
     "data": {
      "text/plain": [
       "7332"
      ]
     },
     "execution_count": 43,
     "metadata": {},
     "output_type": "execute_result"
    }
   ],
   "source": [
    "from functools import reduce\n",
    "\n",
    "reduce(lambda x,y : x+y, lst)"
   ]
  },
  {
   "cell_type": "code",
   "execution_count": 45,
   "id": "e1008af0-ddb7-4a3b-8be1-5fc2e8e6294c",
   "metadata": {},
   "outputs": [
    {
     "data": {
      "text/plain": [
       "5767"
      ]
     },
     "execution_count": 45,
     "metadata": {},
     "output_type": "execute_result"
    }
   ],
   "source": [
    "reduce(lambda x,y : x if x>y else y , lst)"
   ]
  },
  {
   "cell_type": "code",
   "execution_count": 49,
   "id": "46e5c692-9762-4365-b708-44bc8608a420",
   "metadata": {},
   "outputs": [
    {
     "data": {
      "text/plain": [
       "[56, 56, 76]"
      ]
     },
     "execution_count": 49,
     "metadata": {},
     "output_type": "execute_result"
    }
   ],
   "source": [
    "list(filter(lambda x: x%2 == 0 , lst))"
   ]
  },
  {
   "cell_type": "code",
   "execution_count": null,
   "id": "83e06642-fb4a-4f36-84f6-94ead10b967d",
   "metadata": {},
   "outputs": [],
   "source": []
  },
  {
   "cell_type": "code",
   "execution_count": null,
   "id": "c5d75ff9-7d80-4a87-8708-18d56fcde0b7",
   "metadata": {},
   "outputs": [],
   "source": []
  },
  {
   "cell_type": "code",
   "execution_count": null,
   "id": "e5d9277b-f222-41c4-b629-d265f57edc8b",
   "metadata": {},
   "outputs": [],
   "source": []
  }
 ],
 "metadata": {
  "kernelspec": {
   "display_name": "Python 3 (ipykernel)",
   "language": "python",
   "name": "python3"
  },
  "language_info": {
   "codemirror_mode": {
    "name": "ipython",
    "version": 3
   },
   "file_extension": ".py",
   "mimetype": "text/x-python",
   "name": "python",
   "nbconvert_exporter": "python",
   "pygments_lexer": "ipython3",
   "version": "3.10.8"
  }
 },
 "nbformat": 4,
 "nbformat_minor": 5
}
