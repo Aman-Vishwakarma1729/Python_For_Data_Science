{
 "cells": [
  {
   "cell_type": "markdown",
   "id": "ab0f0531-de1b-440d-a6d7-a0f7f28ffc34",
   "metadata": {},
   "source": [
    "#### Answer_1"
   ]
  },
  {
   "cell_type": "code",
   "execution_count": 30,
   "id": "7ec87939-5468-456e-a3a7-a3eb67c40d1a",
   "metadata": {},
   "outputs": [
    {
     "data": {
      "text/plain": [
       "[('Virat Kohli', 24936),\n",
       " ('Jack Kallis', 25534),\n",
       " ('Ricky Pinting', 27483),\n",
       " ('Sachin Tendulkar', 34357)]"
      ]
     },
     "execution_count": 30,
     "metadata": {},
     "output_type": "execute_result"
    }
   ],
   "source": [
    "lst_1 = [(\"Sachin Tendulkar\",34357),(\"Ricky Pinting\",27483),(\"Jack Kallis\",25534),(\"Virat Kohli\",24936)]\n",
    "\n",
    "lst_1.sort(key = lambda x : x[-1])\n",
    "lst_1    "
   ]
  },
  {
   "cell_type": "markdown",
   "id": "29179c7c-bb2a-47f1-8108-38c0464c6b9f",
   "metadata": {},
   "source": [
    "#### Answer_2"
   ]
  },
  {
   "cell_type": "code",
   "execution_count": 31,
   "id": "eab8a607-3682-4510-987e-18bad898fcb6",
   "metadata": {},
   "outputs": [
    {
     "data": {
      "text/plain": [
       "[1, 4, 9, 16, 25, 36, 49, 64, 81, 100]"
      ]
     },
     "execution_count": 31,
     "metadata": {},
     "output_type": "execute_result"
    }
   ],
   "source": [
    "lst_2 = [1,2,3,4,5,6,7,8,9,10]\n",
    "\n",
    "list(map(lambda i : i**2 , lst_2))"
   ]
  },
  {
   "cell_type": "markdown",
   "id": "4cf31e7f-b82a-4742-8ba0-08054d6baae1",
   "metadata": {},
   "source": [
    "#### Answer_3"
   ]
  },
  {
   "cell_type": "code",
   "execution_count": 32,
   "id": "20fee477-d709-4392-83a0-1b7ba7fda08d",
   "metadata": {},
   "outputs": [
    {
     "data": {
      "text/plain": [
       "('1', '2', '3', '4', '5', '6', '7', '8', '9', '10')"
      ]
     },
     "execution_count": 32,
     "metadata": {},
     "output_type": "execute_result"
    }
   ],
   "source": [
    "lst_3 =  [1,2,3,4,5,6,7,8,9,10]\n",
    "\n",
    "tuple(map(lambda i : str(i) , lst_3))"
   ]
  },
  {
   "cell_type": "markdown",
   "id": "58e15538-ead8-445a-b639-9ef3c5e2b972",
   "metadata": {},
   "source": [
    "#### Answer_4"
   ]
  },
  {
   "cell_type": "code",
   "execution_count": 36,
   "id": "002123f3-f1bb-48a9-b689-05fa07576bc2",
   "metadata": {},
   "outputs": [
    {
     "data": {
      "text/plain": [
       "15511210043330985984000000"
      ]
     },
     "execution_count": 36,
     "metadata": {},
     "output_type": "execute_result"
    }
   ],
   "source": [
    "lst_4 = []\n",
    "for i in range(1,26):\n",
    "    lst_4.append(i)\n",
    "    \n",
    "lst_4\n",
    "from functools import reduce\n",
    "reduce(lambda x,y : x*y , lst_4)"
   ]
  },
  {
   "cell_type": "markdown",
   "id": "64d25be0-5dd1-444f-bcc7-3ef4be7bba77",
   "metadata": {},
   "source": [
    "#### Answer_5"
   ]
  },
  {
   "cell_type": "code",
   "execution_count": 38,
   "id": "0491eeaa-2b01-4118-96f5-58a1a9acd271",
   "metadata": {},
   "outputs": [
    {
     "data": {
      "text/plain": [
       "[6, 60, 90, 120]"
      ]
     },
     "execution_count": 38,
     "metadata": {},
     "output_type": "execute_result"
    }
   ],
   "source": [
    "lst_5 = [2,3,6,9,27,60,90,120,55,46]\n",
    "\n",
    "list(filter(lambda x : x%2 == 0 and x%3 == 0 , lst_5))"
   ]
  },
  {
   "cell_type": "markdown",
   "id": "5e4816e0-7d28-4691-9be8-bf2b5d392ed2",
   "metadata": {},
   "source": [
    "#### Answer_6"
   ]
  },
  {
   "cell_type": "code",
   "execution_count": 39,
   "id": "08bbd1ed-e9c3-4643-9370-41a2c78b5adf",
   "metadata": {},
   "outputs": [
    {
     "data": {
      "text/plain": [
       "['php', 'aba', 'radar', 'level']"
      ]
     },
     "execution_count": 39,
     "metadata": {},
     "output_type": "execute_result"
    }
   ],
   "source": [
    "lst_6 = ['python','php','aba','radar','level']\n",
    "\n",
    "list(filter(lambda words : words == words[::-1] , lst_6))"
   ]
  },
  {
   "cell_type": "code",
   "execution_count": null,
   "id": "a3bb587b-47e4-433a-b3a5-3c5b98a42889",
   "metadata": {},
   "outputs": [],
   "source": []
  },
  {
   "cell_type": "code",
   "execution_count": null,
   "id": "1ac60297-c4c0-4cf7-a3c3-a7733d6bdb5d",
   "metadata": {},
   "outputs": [],
   "source": []
  },
  {
   "cell_type": "code",
   "execution_count": null,
   "id": "aa062e3b-9a88-4421-a0b6-7cf1b8b4904b",
   "metadata": {},
   "outputs": [],
   "source": []
  },
  {
   "cell_type": "code",
   "execution_count": null,
   "id": "7f5df685-af11-4892-bcf7-d1a74e65b034",
   "metadata": {},
   "outputs": [],
   "source": []
  },
  {
   "cell_type": "code",
   "execution_count": null,
   "id": "955d2011-42c1-491f-a16c-0eeaf5eb9b97",
   "metadata": {},
   "outputs": [],
   "source": []
  },
  {
   "cell_type": "code",
   "execution_count": null,
   "id": "fc011067-0cd6-44b7-9a0a-ae412776b5bd",
   "metadata": {},
   "outputs": [],
   "source": []
  },
  {
   "cell_type": "code",
   "execution_count": null,
   "id": "7a9a176a-0e4f-41ee-bf3b-24855a119261",
   "metadata": {},
   "outputs": [],
   "source": []
  },
  {
   "cell_type": "code",
   "execution_count": null,
   "id": "c6f04cec-5b92-45dc-afdc-ad7097f06ae0",
   "metadata": {},
   "outputs": [],
   "source": []
  },
  {
   "cell_type": "code",
   "execution_count": null,
   "id": "8de4d976-ee77-4e78-8e9f-47a7942fbcc5",
   "metadata": {},
   "outputs": [],
   "source": []
  },
  {
   "cell_type": "code",
   "execution_count": null,
   "id": "8333ae25-5a04-427f-bc2a-eae36fc43753",
   "metadata": {},
   "outputs": [],
   "source": []
  },
  {
   "cell_type": "code",
   "execution_count": null,
   "id": "6438df52-eb69-42e4-885a-5dc2c7e15646",
   "metadata": {},
   "outputs": [],
   "source": []
  },
  {
   "cell_type": "code",
   "execution_count": null,
   "id": "34023f89-7a21-4c28-b929-c526939c8de2",
   "metadata": {},
   "outputs": [],
   "source": []
  },
  {
   "cell_type": "code",
   "execution_count": null,
   "id": "61a4facd-66f9-40a8-9329-4a81895cd80a",
   "metadata": {},
   "outputs": [],
   "source": []
  },
  {
   "cell_type": "code",
   "execution_count": null,
   "id": "23289490-b8d6-4f50-87a6-bbe09a62fdf5",
   "metadata": {},
   "outputs": [],
   "source": []
  }
 ],
 "metadata": {
  "kernelspec": {
   "display_name": "Python 3 (ipykernel)",
   "language": "python",
   "name": "python3"
  },
  "language_info": {
   "codemirror_mode": {
    "name": "ipython",
    "version": 3
   },
   "file_extension": ".py",
   "mimetype": "text/x-python",
   "name": "python",
   "nbconvert_exporter": "python",
   "pygments_lexer": "ipython3",
   "version": "3.10.8"
  }
 },
 "nbformat": 4,
 "nbformat_minor": 5
}
