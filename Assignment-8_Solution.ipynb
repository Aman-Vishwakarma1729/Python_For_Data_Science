{
 "cells": [
  {
   "cell_type": "markdown",
   "id": "e3b8e00f-abd4-4c57-b87b-e132d39de370",
   "metadata": {},
   "source": [
    "#### Answer_1"
   ]
  },
  {
   "cell_type": "markdown",
   "id": "3a0e7612-4cd1-4fdf-9964-612c6aae1ddd",
   "metadata": {},
   "source": [
    "##### > Exceptions are raised when some internal events occur which changes the           normal flow of the program.\n",
    "##### > Difference between syntax error and exception handling:\n",
    "\n",
    "###### >  As the name suggests this error is caused by the wrong syntax in the               code. It leads to the termination of the program.\n",
    "###### >  Exceptions are raised when the program is syntactically correct, but the           code resulted in an error. This error does not stop the execution of the           program, however, it changes the normal flow of the program."
   ]
  },
  {
   "cell_type": "markdown",
   "id": "52810713-c094-43a7-a519-e9fa76bb3745",
   "metadata": {},
   "source": [
    "#### Answer_2"
   ]
  },
  {
   "cell_type": "markdown",
   "id": "71a9709f-5c9c-462a-8510-3a1cb309ad4d",
   "metadata": {},
   "source": [
    "##### If the exception is not handleld it can lead in to crashing of code.\n",
    "##### If the is exception in any line of code and is not handeled the code will         not be excuted even if the futher code if error free."
   ]
  },
  {
   "cell_type": "code",
   "execution_count": 11,
   "id": "32326556-8a7c-4c1b-8e07-074f6b190cef",
   "metadata": {},
   "outputs": [
    {
     "name": "stdout",
     "output_type": "stream",
     "text": [
      "Before exception\n"
     ]
    },
    {
     "ename": "ZeroDivisionError",
     "evalue": "division by zero",
     "output_type": "error",
     "traceback": [
      "\u001b[0;31m---------------------------------------------------------------------------\u001b[0m",
      "\u001b[0;31mZeroDivisionError\u001b[0m                         Traceback (most recent call last)",
      "Cell \u001b[0;32mIn[11], line 5\u001b[0m\n\u001b[1;32m      3\u001b[0m a \u001b[38;5;241m=\u001b[39m \u001b[38;5;241m8\u001b[39m\n\u001b[1;32m      4\u001b[0m \u001b[38;5;28mprint\u001b[39m(\u001b[38;5;124m\"\u001b[39m\u001b[38;5;124mBefore exception\u001b[39m\u001b[38;5;124m\"\u001b[39m)\n\u001b[0;32m----> 5\u001b[0m \u001b[43ma\u001b[49m\u001b[38;5;241;43m/\u001b[39;49m\u001b[38;5;241;43m0\u001b[39;49m\n\u001b[1;32m      6\u001b[0m \u001b[38;5;28mprint\u001b[39m(\u001b[38;5;124m\"\u001b[39m\u001b[38;5;124mAftr exception\u001b[39m\u001b[38;5;124m\"\u001b[39m)\n",
      "\u001b[0;31mZeroDivisionError\u001b[0m: division by zero"
     ]
    }
   ],
   "source": [
    "## Example\n",
    "\n",
    "a = 8\n",
    "print(\"Before exception\")\n",
    "a/0\n",
    "print(\"Aftr exception\")"
   ]
  },
  {
   "cell_type": "markdown",
   "id": "3da5c3fd-aee3-453c-8542-8c038be6ce59",
   "metadata": {},
   "source": [
    "#### Answer_3"
   ]
  },
  {
   "cell_type": "markdown",
   "id": "71ee098c-38f5-4743-8f9c-477fdc079d18",
   "metadata": {},
   "source": [
    "##### Try and except statements are used to catch and handle exceptions in Python.\n",
    "##### Statements that can raise exceptions are kept inside the try clause and the       statements that handle the exception are written inside except clause."
   ]
  },
  {
   "cell_type": "code",
   "execution_count": 12,
   "id": "4fdf7c8a-ac3f-40f8-8ff5-9dbc997a9041",
   "metadata": {},
   "outputs": [
    {
     "name": "stdout",
     "output_type": "stream",
     "text": [
      "Number as 1st index 2\n",
      "Number as 2nd index 3\n",
      "There is error in code list index out of range\n"
     ]
    }
   ],
   "source": [
    "## Example\n",
    "\n",
    "num_lst = [1,2,3,4]\n",
    "\n",
    "try:\n",
    "    print(\"Number as 1st index {}\".format(num_lst[1]))\n",
    "    print(\"Number as 2nd index {}\".format(num_lst[2]))\n",
    "    print(\"Number as 4th index {}\".format(num_lst[4]))\n",
    "except Exception as e:\n",
    "    print(\"There is error in code\", e)"
   ]
  },
  {
   "cell_type": "markdown",
   "id": "1c948e03-4369-47c7-87ab-6948c0642423",
   "metadata": {},
   "source": [
    "#### Answer_4"
   ]
  },
  {
   "cell_type": "code",
   "execution_count": 20,
   "id": "ddf89bf3-6d07-40ed-93b3-c0dc5635cb72",
   "metadata": {},
   "outputs": [
    {
     "name": "stdout",
     "output_type": "stream",
     "text": [
      "Number as 1st index 2\n",
      "Number as 2nd index 3\n",
      "There is no exception\n",
      "There are these four blocks in exception Handling\n"
     ]
    }
   ],
   "source": [
    "num_lst = [1,2,3,4]\n",
    "\n",
    "try:     ## Statements that can raise exceptions are kept inside the try clause\n",
    "    print(\"Number as 1st index {}\".format(num_lst[1]))\n",
    "    print(\"Number as 2nd index {}\".format(num_lst[2]))\n",
    "    \n",
    "except Exception as e: ## The statements that handle the exception are written inside except clause.\n",
    "    print(\"There is error in code\", e)\n",
    "else: ##  The code enters the else block only if the try clause does not raise an exception.\n",
    "    print(\"There is no exception\")\n",
    "finally: ## The final block always executes after normal termination of try block or after try block terminates due to some exception.\n",
    "    print(\"There are these four blocks in exception Handling\")\n",
    "    \n",
    "## The raise statement allows the programmer to force a specific exception to occur.   "
   ]
  },
  {
   "cell_type": "markdown",
   "id": "572563fc-11e5-401b-a048-273f84d8da45",
   "metadata": {},
   "source": [
    "#### Answer_5"
   ]
  },
  {
   "cell_type": "markdown",
   "id": "9364ce87-bb4b-4372-8366-9458b3afdb83",
   "metadata": {},
   "source": [
    "##### Custom exception are the exception that are user generated i.e those are not       inbuilt.\n",
    "##### Sometimes there are some factors in code that are not exception according to       system but according to our use case it's exception so at thaat time we           create custom exception."
   ]
  },
  {
   "cell_type": "code",
   "execution_count": null,
   "id": "fd1d4450-fe17-4196-8fb0-30aa7d068b61",
   "metadata": {},
   "outputs": [],
   "source": [
    "## Example\n",
    "\n",
    "class custom_exception(Exception):\n",
    "    def __init__(self, msg):\n",
    "        self.msg = msg"
   ]
  },
  {
   "cell_type": "code",
   "execution_count": null,
   "id": "3ddaf5d8-b780-46df-91f9-7ed500778b1f",
   "metadata": {},
   "outputs": [],
   "source": [
    "def verifying_age(age):\n",
    "    if age < 0:\n",
    "        raise custom_exception(\"Age cannot be negative\")\n",
    "    elif age > 150:\n",
    "        raise custom_exception(\"Age cannot be more than 150\")"
   ]
  },
  {
   "cell_type": "code",
   "execution_count": null,
   "id": "f26000ca-3b8b-4d7c-8cc6-ecb96fe823ee",
   "metadata": {},
   "outputs": [],
   "source": [
    "try:\n",
    "    age = int(input(\"Enter the age\"))\n",
    "    verifying_age(age)\n",
    "except custom_exception as e:\n",
    "    print(e)\n",
    "else:\n",
    "    print(\"Age is :\" , age)\n",
    "    "
   ]
  },
  {
   "cell_type": "code",
   "execution_count": null,
   "id": "a6a47aa8-6eaf-47ac-85eb-658fb175abe3",
   "metadata": {},
   "outputs": [],
   "source": []
  },
  {
   "cell_type": "markdown",
   "id": "aac3864d-1251-4b95-bc01-27636966fc8d",
   "metadata": {},
   "source": [
    "#### Answer_6"
   ]
  },
  {
   "cell_type": "code",
   "execution_count": null,
   "id": "62e821dc-814e-4713-8677-6a73372a067f",
   "metadata": {},
   "outputs": [],
   "source": [
    "class valid_phone_num(Exception):   # Inheriting Exception class\n",
    "    \n",
    "    def __init__(self, msg): \n",
    "        \n",
    "        self.msg = msg "
   ]
  },
  {
   "cell_type": "code",
   "execution_count": null,
   "id": "5c25a39f-5f63-4151-82c4-7e1b599ebc3e",
   "metadata": {},
   "outputs": [],
   "source": [
    "def validate_phone_number(phone_num):\n",
    "    if len(phone_num) == 10:\n",
    "        for i in phone_num:\n",
    "            if i not in ['1','2','3','4','5','6','7','8','9','0']:\n",
    "                raise valid_phone_num(\"Phone number must have only int and it should not be negative\")\n",
    "            else:\n",
    "                pass\n",
    "    else:\n",
    "        raise valid_phone_num(\"Lenght of phone number must be of 10 digit\")"
   ]
  },
  {
   "cell_type": "code",
   "execution_count": null,
   "id": "aa2722f2-e39a-4020-8c27-7c3e6f460900",
   "metadata": {},
   "outputs": [],
   "source": [
    "try:\n",
    "    phone_num = input(\"Enter the phone number\")\n",
    "    validate_phone_number(phone_num)\n",
    "except valid_phone_num as e:\n",
    "    print(e)\n",
    "else:\n",
    "    print(\"The phone number is valid\")"
   ]
  },
  {
   "cell_type": "code",
   "execution_count": null,
   "id": "5c2e2404-6907-4663-8acb-44dba07a45ac",
   "metadata": {},
   "outputs": [],
   "source": []
  }
 ],
 "metadata": {
  "kernelspec": {
   "display_name": "Python 3 (ipykernel)",
   "language": "python",
   "name": "python3"
  },
  "language_info": {
   "codemirror_mode": {
    "name": "ipython",
    "version": 3
   },
   "file_extension": ".py",
   "mimetype": "text/x-python",
   "name": "python",
   "nbconvert_exporter": "python",
   "pygments_lexer": "ipython3",
   "version": "3.10.8"
  }
 },
 "nbformat": 4,
 "nbformat_minor": 5
}
