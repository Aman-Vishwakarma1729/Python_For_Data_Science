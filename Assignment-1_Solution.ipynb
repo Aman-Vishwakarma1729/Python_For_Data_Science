{
 "cells": [
  {
   "cell_type": "markdown",
   "id": "376c20c5-1670-443d-8c51-cf296908894f",
   "metadata": {},
   "source": [
    "#### Answer.1"
   ]
  },
  {
   "cell_type": "markdown",
   "id": "87fbbcc9-558a-4762-ba6d-7c544c3661f7",
   "metadata": {},
   "source": [
    "#### Python prograamming language was developed by Guido van Rossum."
   ]
  },
  {
   "cell_type": "markdown",
   "id": "411314b9-abc2-4ff9-9809-54466b19e3ff",
   "metadata": {},
   "source": [
    "#### Answer.2"
   ]
  },
  {
   "cell_type": "markdown",
   "id": "43ad3cd8-6253-4437-946b-759c91f0068f",
   "metadata": {},
   "source": [
    "#### Python is an interpreted programming language, supporting object-oriented, structured, and functional programming."
   ]
  },
  {
   "cell_type": "markdown",
   "id": "520bf6c2-f668-4c7a-92a5-c3cc14e15f50",
   "metadata": {},
   "source": [
    "#### Answer.3"
   ]
  },
  {
   "cell_type": "markdown",
   "id": "c2616196-5f39-432d-86d8-9fea8ecb77e7",
   "metadata": {},
   "source": [
    "#### Yes, Python is case sensitive while dealing with identifiers."
   ]
  },
  {
   "cell_type": "markdown",
   "id": "acfff511-36e9-476e-9639-d32e4b6878ec",
   "metadata": {},
   "source": [
    "#### Answer.4"
   ]
  },
  {
   "cell_type": "markdown",
   "id": "655d4f0c-5c4a-401e-b37f-93d641bdb944",
   "metadata": {},
   "source": [
    "#### The extenions of Python files are, .py, .pyi, .pyc, .pyd, .pyo, .pyw, .pyz"
   ]
  },
  {
   "cell_type": "markdown",
   "id": "85699b4a-3363-42ca-b6b4-ef4dbd42238d",
   "metadata": {},
   "source": [
    "#### Answer.5"
   ]
  },
  {
   "cell_type": "markdown",
   "id": "18db6d5b-25fc-44eb-a670-b8aa3f68cefa",
   "metadata": {},
   "source": [
    "#### Python code is interpreted."
   ]
  },
  {
   "cell_type": "markdown",
   "id": "6e9179e4-5f50-4cc6-a03e-7d6d81ab84da",
   "metadata": {},
   "source": [
    "#### Answer.6"
   ]
  },
  {
   "cell_type": "markdown",
   "id": "dccb431c-f7ba-421c-ac24-5e9f50def95d",
   "metadata": {},
   "source": [
    "#### A markdown, a function body, and a class definition."
   ]
  },
  {
   "cell_type": "markdown",
   "id": "193e0bde-5427-4af0-a347-ee58d301023d",
   "metadata": {},
   "source": [
    "#### Answer.7"
   ]
  },
  {
   "cell_type": "markdown",
   "id": "87003220-ef23-4501-810f-dafc591c084d",
   "metadata": {},
   "source": [
    "#### Hash character (#) is used to give single line comment in python"
   ]
  },
  {
   "cell_type": "markdown",
   "id": "47882043-ff8e-4949-9cb8-2ca3e4aac671",
   "metadata": {},
   "source": [
    "#### Answer.8"
   ]
  },
  {
   "cell_type": "markdown",
   "id": "bdf67078-44fb-4b24-b857-7ae899802675",
   "metadata": {},
   "source": [
    "#### The function sys.version can help us to find version of python that we are currently working on."
   ]
  },
  {
   "cell_type": "markdown",
   "id": "f697083d-5086-4dfa-81d1-cb3a9d8ae720",
   "metadata": {},
   "source": [
    "#### Answer.9"
   ]
  },
  {
   "cell_type": "markdown",
   "id": "1ef70133-399e-4dda-9641-55692f9afdbb",
   "metadata": {},
   "source": [
    "#### Python supports the creation of anonymous functions at runtime, using a constructor called as \"lambda\" ."
   ]
  },
  {
   "cell_type": "markdown",
   "id": "d1c30f21-0b21-4793-ba85-1e8b47482b73",
   "metadata": {},
   "source": [
    "#### Answer.10"
   ]
  },
  {
   "cell_type": "markdown",
   "id": "5155470c-741c-4113-9b53-0f4b4ebfa36f",
   "metadata": {},
   "source": [
    "#### pip is used to install additional packages in python it stands for \"preffered installer program\"."
   ]
  },
  {
   "cell_type": "markdown",
   "id": "734f87f1-a495-4a3c-b5a8-aa943a534e7d",
   "metadata": {},
   "source": [
    "#### Answer.11"
   ]
  },
  {
   "cell_type": "markdown",
   "id": "4072e9a8-7b91-47b5-b568-c0a5feddb805",
   "metadata": {},
   "source": [
    "#### Few built-in function in Python are,\n",
    "###### > abs() - Returns the absolute value of numbers\n",
    "###### > bin() - Returns the binary version of a numbers\n",
    "###### > boo() - Returns the boolean value of specified object\n",
    "###### > complex() - Returns the complex number\n",
    "###### > format() - Formats specified object\n"
   ]
  },
  {
   "cell_type": "markdown",
   "id": "26baa7e4-6181-4f0b-8027-7602a0a1b6f9",
   "metadata": {},
   "source": [
    "#### Answer.12"
   ]
  },
  {
   "cell_type": "markdown",
   "id": "907cd39f-5323-477a-9359-958db0339c77",
   "metadata": {},
   "source": [
    "#### Maximum possible length of identifier in python is \"79\" character."
   ]
  },
  {
   "cell_type": "markdown",
   "id": "739a0008-5c2e-4496-850c-e0911b08d119",
   "metadata": {},
   "source": [
    "#### Answer.13"
   ]
  },
  {
   "cell_type": "markdown",
   "id": "3a029413-75c2-479e-8a36-5f2c11870a6b",
   "metadata": {},
   "source": [
    "##### >> Simple to use and understand\n",
    "##### >> Free and open source\n",
    "##### >> It is intepreted language\n",
    "##### >> Extensive library\n",
    "##### >> Dynamically typed\n"
   ]
  },
  {
   "cell_type": "markdown",
   "id": "ed27b3b0-6990-43fc-9769-5639114d8264",
   "metadata": {},
   "source": [
    "#### Answer.14"
   ]
  },
  {
   "cell_type": "markdown",
   "id": "0f69ed04-c58f-45ad-91c0-1bd48674a816",
   "metadata": {},
   "source": [
    "#### Memory management in Python involves a private heap containing all python objects and data structures. The management of this private heap is ensured internally by the python memory manager. The python memory manager has different components which deals with various dynamic storage management aspects, like sharing, segmentation, preallocation or caching."
   ]
  },
  {
   "cell_type": "markdown",
   "id": "b4983c80-9fc1-4434-9b56-4d7344704224",
   "metadata": {},
   "source": [
    "#### Answer.15"
   ]
  },
  {
   "cell_type": "markdown",
   "id": "377b97ca-d5b6-4002-b41e-2495fb51a832",
   "metadata": {},
   "source": [
    "#### Install python from it's website After this, install it on your PC. Look for the location where PYTHON has been installed on your PC using tge following command on your command prompt: cmd python. Then go to advanced system settings and add new variable and name it as PYTHON_NAME and paste the copied path. Then look for the path variable, select it's value and select edit Add a semicolon towards the end of the value if it's not present and then type %PYTHON_HOME%"
   ]
  },
  {
   "cell_type": "markdown",
   "id": "c979a588-8e89-403b-9dfb-26c88c6a830f",
   "metadata": {},
   "source": [
    "#### Answer.16"
   ]
  },
  {
   "cell_type": "markdown",
   "id": "0a34eedc-9bdc-455f-9978-9f82128c0954",
   "metadata": {},
   "source": [
    "#### Yes indentation is very important in Python."
   ]
  },
  {
   "cell_type": "code",
   "execution_count": null,
   "id": "86106bfd-812b-492b-ab0c-a5c0f76b50ff",
   "metadata": {},
   "outputs": [],
   "source": []
  },
  {
   "cell_type": "code",
   "execution_count": null,
   "id": "47ec2f49-6a77-4741-ac6a-7d1b4a033059",
   "metadata": {},
   "outputs": [],
   "source": []
  }
 ],
 "metadata": {
  "kernelspec": {
   "display_name": "Python 3 (ipykernel)",
   "language": "python",
   "name": "python3"
  },
  "language_info": {
   "codemirror_mode": {
    "name": "ipython",
    "version": 3
   },
   "file_extension": ".py",
   "mimetype": "text/x-python",
   "name": "python",
   "nbconvert_exporter": "python",
   "pygments_lexer": "ipython3",
   "version": "3.10.8"
  }
 },
 "nbformat": 4,
 "nbformat_minor": 5
}
