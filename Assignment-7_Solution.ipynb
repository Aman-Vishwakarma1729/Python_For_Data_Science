{
 "cells": [
  {
   "cell_type": "markdown",
   "id": "7f789f49-d5d6-4b1b-b23b-5dc35c244851",
   "metadata": {},
   "source": [
    "#### Answer_1"
   ]
  },
  {
   "cell_type": "markdown",
   "id": "8e4593ea-183a-4727-ab38-43434866cc22",
   "metadata": {},
   "source": [
    "##### > open()  is used to open a file.\n",
    "##### > There are different access mode for file and they are as follows:\n",
    "##### > 'r'       open for reading (default)\n",
    "##### > 'w'       open for writing, truncating the file first\n",
    "##### > 'x'       create a new file and open it for writing\n",
    "##### > 'a'       open for writing, appending to the end of the file if it exists\n",
    "##### > 'b'       binary mode\n",
    "##### > 't'       text mode (default)\n",
    "##### > '+'       open a disk file for updating (reading and writing)\n",
    "##### > 'U'       universal newline mode (deprecated)"
   ]
  },
  {
   "cell_type": "markdown",
   "id": "200d1ed8-fa19-4c97-95d4-754bb261b95f",
   "metadata": {},
   "source": [
    "#### Answe_2"
   ]
  },
  {
   "cell_type": "markdown",
   "id": "37ad8d07-82aa-4558-80b8-bea3d34adf41",
   "metadata": {},
   "source": [
    "##### > The close() function closes the open file.\n",
    "##### > It is impotant to close file because, in some cases due to buffering the           change made in file may not show until we close the file."
   ]
  },
  {
   "cell_type": "markdown",
   "id": "5f949e27-2e52-4dc5-a170-bea64f920bef",
   "metadata": {},
   "source": [
    "#### Answer_3"
   ]
  },
  {
   "cell_type": "code",
   "execution_count": 21,
   "id": "8e1a3a75-0962-4183-b47b-8cfba0d3c4e0",
   "metadata": {},
   "outputs": [],
   "source": [
    "with open(\"Assign_7_answer_3.txt\" , 'w') as file:\n",
    "    file.write(\"I want to become a Data Scientist\")"
   ]
  },
  {
   "cell_type": "code",
   "execution_count": 2,
   "id": "910bd16f-6b02-42e2-94c8-3795ae88f1f5",
   "metadata": {},
   "outputs": [],
   "source": [
    "file.close()"
   ]
  },
  {
   "cell_type": "code",
   "execution_count": 20,
   "id": "d09020eb-9bbc-4efc-9b27-e084fd3772b5",
   "metadata": {},
   "outputs": [
    {
     "data": {
      "text/plain": [
       "'I want to become a Data Scientist'"
      ]
     },
     "execution_count": 20,
     "metadata": {},
     "output_type": "execute_result"
    }
   ],
   "source": [
    "file = open(\"Assign_7_answer_3.txt\" , 'r')\n",
    "file.read()"
   ]
  },
  {
   "cell_type": "markdown",
   "id": "bd081e3e-6c5e-4f04-ad40-80f88c6a12c0",
   "metadata": {},
   "source": [
    "#### Answer_4"
   ]
  },
  {
   "cell_type": "code",
   "execution_count": 48,
   "id": "ca0ad4af-a6ec-478e-b9c3-d29750fe220c",
   "metadata": {},
   "outputs": [],
   "source": [
    "with open(\"Assign_7_answer_4.txt\",\"w\") as file_2:\n",
    "    file_2.write(\"This is line 1 \\nThis is line 2 \\nThis is line 3 \\nThis is line 4 \\nThis is line 5 \\n\")\n",
    "    file_2.close"
   ]
  },
  {
   "cell_type": "code",
   "execution_count": 56,
   "id": "e8c8ed21-aa3b-407f-ba83-af551471c21d",
   "metadata": {},
   "outputs": [
    {
     "data": {
      "text/plain": [
       "'This is line 1 \\nThis is line 2 \\nThis is line 3 \\nThis is line 4 \\nThis is line 5 \\n'"
      ]
     },
     "execution_count": 56,
     "metadata": {},
     "output_type": "execute_result"
    }
   ],
   "source": [
    "## read() functions iterate through characters and read it.\n",
    "\n",
    "data = open(\"Assign_7_answer_4.txt\",\"r\")\n",
    "data.read()\n"
   ]
  },
  {
   "cell_type": "code",
   "execution_count": 57,
   "id": "62ffa1f9-e3d6-444a-98bf-a69de16b69fb",
   "metadata": {},
   "outputs": [
    {
     "data": {
      "text/plain": [
       "0"
      ]
     },
     "execution_count": 57,
     "metadata": {},
     "output_type": "execute_result"
    }
   ],
   "source": [
    "data.seek(0)"
   ]
  },
  {
   "cell_type": "code",
   "execution_count": 58,
   "id": "b4a7e9ad-fe7c-4132-b5c5-136c4257a92d",
   "metadata": {},
   "outputs": [
    {
     "data": {
      "text/plain": [
       "'This is line 1 \\n'"
      ]
     },
     "execution_count": 58,
     "metadata": {},
     "output_type": "execute_result"
    }
   ],
   "source": [
    "## readline() return the line from file when called\n",
    "\n",
    "data.readline()"
   ]
  },
  {
   "cell_type": "code",
   "execution_count": 59,
   "id": "f60bb484-56d3-4b2b-9733-d3a4b1b58efb",
   "metadata": {},
   "outputs": [
    {
     "data": {
      "text/plain": [
       "0"
      ]
     },
     "execution_count": 59,
     "metadata": {},
     "output_type": "execute_result"
    }
   ],
   "source": [
    "data.seek(0)"
   ]
  },
  {
   "cell_type": "code",
   "execution_count": 60,
   "id": "c3a18bcd-6628-4d40-b764-3d9fd6620230",
   "metadata": {},
   "outputs": [
    {
     "data": {
      "text/plain": [
       "['This is line 1 \\n',\n",
       " 'This is line 2 \\n',\n",
       " 'This is line 3 \\n',\n",
       " 'This is line 4 \\n',\n",
       " 'This is line 5 \\n']"
      ]
     },
     "execution_count": 60,
     "metadata": {},
     "output_type": "execute_result"
    }
   ],
   "source": [
    "## readlines() return lines in file in the form of set.\n",
    "\n",
    "data.readlines()"
   ]
  },
  {
   "cell_type": "markdown",
   "id": "db4285c3-4d20-4f0a-9f66-7c22596ad983",
   "metadata": {},
   "source": [
    "#### Answer_5"
   ]
  },
  {
   "cell_type": "markdown",
   "id": "d251476f-f0a4-4397-aa39-dbedba20c660",
   "metadata": {},
   "source": [
    "##### > In Python, with statement is used in exception handling to make the code           cleaner and much more readable.\n",
    "##### > Here is no need to call file.close() when using with statement with open()\n",
    "##### > The with statement itself ensures proper acquisition and release of               resources"
   ]
  },
  {
   "cell_type": "markdown",
   "id": "365cfe0b-38a3-499f-989c-c0fc4ca87c05",
   "metadata": {},
   "source": [
    "#### Answer_6"
   ]
  },
  {
   "cell_type": "code",
   "execution_count": 70,
   "id": "4f8c69cf-fcab-4ae5-a3f7-e976bf5b70bf",
   "metadata": {},
   "outputs": [],
   "source": [
    "## write() function is used to write data in file.\n",
    "## writelines() function is used to write the items of list to file.\n",
    "\n",
    "\n",
    "# Example\n",
    "\n",
    "with open(\"Assign_7_Answer_6\",\"w\") as file_6:\n",
    "    file_6.write(\"This is solution for question 6 of the assignment-7\")\n",
    "    file_6.writelines([\"\\nThis is line 1\",\"\\nThis is line 2\",\"\\nThis is line 3\"])"
   ]
  },
  {
   "cell_type": "code",
   "execution_count": 63,
   "id": "63799571-b8b6-4fce-a3da-97df0e43d9f5",
   "metadata": {},
   "outputs": [
    {
     "ename": "ValueError",
     "evalue": "I/O operation on closed file.",
     "output_type": "error",
     "traceback": [
      "\u001b[0;31m---------------------------------------------------------------------------\u001b[0m",
      "\u001b[0;31mValueError\u001b[0m                                Traceback (most recent call last)",
      "Cell \u001b[0;32mIn[63], line 1\u001b[0m\n\u001b[0;32m----> 1\u001b[0m \u001b[43mfile_6\u001b[49m\u001b[38;5;241;43m.\u001b[39;49m\u001b[43mwritelines\u001b[49m\u001b[43m(\u001b[49m\u001b[38;5;124;43m\"\u001b[39;49m\u001b[38;5;124;43mThis is line 1\u001b[39;49m\u001b[38;5;124;43m\"\u001b[39;49m\u001b[43m)\u001b[49m\n",
      "\u001b[0;31mValueError\u001b[0m: I/O operation on closed file."
     ]
    }
   ],
   "source": []
  },
  {
   "cell_type": "code",
   "execution_count": null,
   "id": "e1b0c3af-0034-4d9d-8dd1-72e91e407b43",
   "metadata": {},
   "outputs": [],
   "source": []
  }
 ],
 "metadata": {
  "kernelspec": {
   "display_name": "Python 3 (ipykernel)",
   "language": "python",
   "name": "python3"
  },
  "language_info": {
   "codemirror_mode": {
    "name": "ipython",
    "version": 3
   },
   "file_extension": ".py",
   "mimetype": "text/x-python",
   "name": "python",
   "nbconvert_exporter": "python",
   "pygments_lexer": "ipython3",
   "version": "3.10.8"
  }
 },
 "nbformat": 4,
 "nbformat_minor": 5
}
