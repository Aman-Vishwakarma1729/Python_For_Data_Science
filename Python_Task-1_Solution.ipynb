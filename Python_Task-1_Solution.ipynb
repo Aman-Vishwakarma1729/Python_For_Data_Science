{
 "cells": [
  {
   "cell_type": "markdown",
   "id": "593e4f2c-13a7-4b8e-956f-69c45d9e93a2",
   "metadata": {},
   "source": [
    "#### Answer_1"
   ]
  },
  {
   "cell_type": "code",
   "execution_count": 13,
   "id": "9c6ab2a3-2b67-40e2-8783-3d39827acd95",
   "metadata": {},
   "outputs": [],
   "source": [
    "def product(list1):\n",
    "    num_list = []\n",
    "    for i in list1:\n",
    "        if type(i) == int:\n",
    "            num_list.append(i)\n",
    "        elif type(i) == list:\n",
    "            list_in_list_1 = i\n",
    "            for j in list_in_list_1:\n",
    "                if type(j) == int:\n",
    "                    num_list.append(j)\n",
    "        elif type(i) == tuple:\n",
    "            tuple_in_list_1 = i\n",
    "            for k in tuple_in_list_1:\n",
    "                if type(k) == int:\n",
    "                    num_list.append(k)\n",
    "        elif type(i) == set:\n",
    "            set_in_list_1 = i\n",
    "            for l in set_in_list_1:\n",
    "                if type(l) == int:\n",
    "                    num_list.append(l)\n",
    "        elif type(i) == dict:\n",
    "            dict_in_list_1 = i\n",
    "            list_of_keys = list(i.keys())\n",
    "            list_of_values = list(i.values())\n",
    "            for m in list_of_keys:\n",
    "                if type(m) == int:\n",
    "                    num_list.append(m)\n",
    "            for n in list_of_values:\n",
    "                if type(n) == int:\n",
    "                    num_list.append(n)\n",
    "                elif type(n) == list:\n",
    "                    value_as_list_in_dict = n\n",
    "                    for o in n:\n",
    "                        if type(o) == int:\n",
    "                            num_list.append(o)\n",
    "                elif type(n) == tuple:\n",
    "                    value_as_tuple_in_dict = n\n",
    "                    for p in n:\n",
    "                        if type(p) == int:\n",
    "                            num_list.append(p)\n",
    "\n",
    "    from functools import reduce  \n",
    "    product_of_num = reduce(lambda x , y : x*y , num_list)\n",
    "    \n",
    "    return num_list, product_of_num\n",
    "\n",
    "\n",
    "\n"
   ]
  },
  {
   "cell_type": "code",
   "execution_count": 14,
   "id": "0f3f7b57-dffc-4525-bed8-51f2ee079cbb",
   "metadata": {},
   "outputs": [
    {
     "data": {
      "text/plain": [
       "([1,\n",
       "  2,\n",
       "  3,\n",
       "  4,\n",
       "  44,\n",
       "  55,\n",
       "  66,\n",
       "  34,\n",
       "  56,\n",
       "  78,\n",
       "  89,\n",
       "  34,\n",
       "  1,\n",
       "  2,\n",
       "  3,\n",
       "  1,\n",
       "  4,\n",
       "  34,\n",
       "  55,\n",
       "  67,\n",
       "  78,\n",
       "  89,\n",
       "  45,\n",
       "  22,\n",
       "  61,\n",
       "  34,\n",
       "  56],\n",
       " 4134711838987085478833841242112000)"
      ]
     },
     "execution_count": 14,
     "metadata": {},
     "output_type": "execute_result"
    }
   ],
   "source": [
    "product([1,2,3,4,[44,55,66,True],False,(34,56,78,89,34),{1,2,3,3,2,1},{1:34,\"Key2\":[55,67,78,89],4:(45,22,61,34)},[56,\"Data Science\"],\"Machine Learning\"])"
   ]
  },
  {
   "cell_type": "markdown",
   "id": "21564000-edca-4646-8d61-9d26ddc5ec79",
   "metadata": {},
   "source": [
    "#### Answer_2\n"
   ]
  },
  {
   "cell_type": "code",
   "execution_count": 39,
   "id": "808036bf-95a5-4260-a712-8acac3307b91",
   "metadata": {},
   "outputs": [
    {
     "name": "stdin",
     "output_type": "stream",
     "text": [
      "Please enter your message Hi, i am mathematician and biologist\n"
     ]
    },
    {
     "name": "stdout",
     "output_type": "stream",
     "text": [
      "The message is : hi, i am mathematician and biologist\n",
      "The encripted message is:  hi,$i$zm$mzthemztixizn$znd$yiologist\n"
     ]
    }
   ],
   "source": [
    "message = input(\"Please enter your message\")\n",
    "message_low = message.lower()\n",
    "print(f\"The message is : {message_low}\")\n",
    "for i in message_low:\n",
    "    if i == 'a' or i == 'b' or i == 'c' or i ==' ' :\n",
    "        message_encryption = message_low.replace('a','z').replace('b','y').replace('c','x').replace(' ','$')\n",
    "print(\"The encripted message is: \", message_encryption)"
   ]
  },
  {
   "cell_type": "code",
   "execution_count": null,
   "id": "caa3271c-ac37-42df-bce2-dd223b33caf5",
   "metadata": {},
   "outputs": [],
   "source": []
  }
 ],
 "metadata": {
  "kernelspec": {
   "display_name": "Python 3 (ipykernel)",
   "language": "python",
   "name": "python3"
  },
  "language_info": {
   "codemirror_mode": {
    "name": "ipython",
    "version": 3
   },
   "file_extension": ".py",
   "mimetype": "text/x-python",
   "name": "python",
   "nbconvert_exporter": "python",
   "pygments_lexer": "ipython3",
   "version": "3.10.8"
  }
 },
 "nbformat": 4,
 "nbformat_minor": 5
}
