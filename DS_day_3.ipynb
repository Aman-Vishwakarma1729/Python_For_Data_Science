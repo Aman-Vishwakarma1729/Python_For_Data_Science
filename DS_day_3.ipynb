{
 "cells": [
  {
   "cell_type": "markdown",
   "id": "7dde1848-1622-488f-bfc4-e74c84cf19f9",
   "metadata": {},
   "source": [
    "# Logical Operators\n"
   ]
  },
  {
   "cell_type": "markdown",
   "id": "3b27741c-230e-4b37-8938-9cd6e065632b",
   "metadata": {},
   "source": [
    "## Not operator "
   ]
  },
  {
   "cell_type": "markdown",
   "id": "7d92dd1f-a695-489f-9c25-c02e4c50fe3b",
   "metadata": {},
   "source": [
    "### Boolean value of any number except 0 is true.\n"
   ]
  },
  {
   "cell_type": "code",
   "execution_count": 2,
   "id": "a22ec89a-7224-42c7-9f98-7f4052073a8b",
   "metadata": {},
   "outputs": [
    {
     "data": {
      "text/plain": [
       "True"
      ]
     },
     "execution_count": 2,
     "metadata": {},
     "output_type": "execute_result"
    }
   ],
   "source": [
    "bool(1)"
   ]
  },
  {
   "cell_type": "code",
   "execution_count": 3,
   "id": "1f2ab91c-8317-4018-96a4-b198643b4622",
   "metadata": {},
   "outputs": [
    {
     "data": {
      "text/plain": [
       "True"
      ]
     },
     "execution_count": 3,
     "metadata": {},
     "output_type": "execute_result"
    }
   ],
   "source": [
    "bool(-4)"
   ]
  },
  {
   "cell_type": "code",
   "execution_count": 4,
   "id": "afa017ab-75fc-447d-97c4-f073a72bb36d",
   "metadata": {},
   "outputs": [
    {
     "data": {
      "text/plain": [
       "True"
      ]
     },
     "execution_count": 4,
     "metadata": {},
     "output_type": "execute_result"
    }
   ],
   "source": [
    "bool(6)"
   ]
  },
  {
   "cell_type": "markdown",
   "id": "6129db8c-9a44-4ab2-9e85-97fa3a6a08bb",
   "metadata": {},
   "source": [
    "### Boolean value of 0 is false"
   ]
  },
  {
   "cell_type": "code",
   "execution_count": 6,
   "id": "1a4a5840-0f7e-4b6d-8bd8-7a96138e3556",
   "metadata": {},
   "outputs": [
    {
     "data": {
      "text/plain": [
       "False"
      ]
     },
     "execution_count": 6,
     "metadata": {},
     "output_type": "execute_result"
    }
   ],
   "source": [
    "bool(0)"
   ]
  },
  {
   "cell_type": "code",
   "execution_count": 7,
   "id": "585111fe-6109-4925-bf72-b963463e3fa5",
   "metadata": {},
   "outputs": [
    {
     "data": {
      "text/plain": [
       "True"
      ]
     },
     "execution_count": 7,
     "metadata": {},
     "output_type": "execute_result"
    }
   ],
   "source": [
    "## not operator\n",
    "## not always gives output as True or False\n",
    "not bool(0)"
   ]
  },
  {
   "cell_type": "code",
   "execution_count": 8,
   "id": "cef2f2b9-c25c-4f6f-a008-8b0fc1b33261",
   "metadata": {},
   "outputs": [
    {
     "data": {
      "text/plain": [
       "False"
      ]
     },
     "execution_count": 8,
     "metadata": {},
     "output_type": "execute_result"
    }
   ],
   "source": [
    "not bool(1)"
   ]
  },
  {
   "cell_type": "code",
   "execution_count": 9,
   "id": "c475acad-c7c0-4c90-9e78-8818e4fc8b8c",
   "metadata": {},
   "outputs": [
    {
     "data": {
      "text/plain": [
       "True"
      ]
     },
     "execution_count": 9,
     "metadata": {},
     "output_type": "execute_result"
    }
   ],
   "source": [
    "not (not bool(7))"
   ]
  },
  {
   "cell_type": "markdown",
   "id": "9d94853d-e67a-4e35-80db-28d435c80602",
   "metadata": {},
   "source": [
    "## Logical And operator"
   ]
  },
  {
   "cell_type": "code",
   "execution_count": null,
   "id": "e76ea145-6b5f-4313-9081-32f64529e662",
   "metadata": {},
   "outputs": [],
   "source": [
    "\"\"\"\n",
    ">> True : 1\n",
    ">> False : 0\n",
    ">> Understand it as mulitplication between 0 and 1\n",
    ">> and basically means both the condition must satisfy\n",
    "\n",
    "  A       B       A and B\n",
    "---------------------------\n",
    "  1       1          1   \n",
    "  1       0          0\n",
    "  0       1          0\n",
    "  0       0          0\n",
    "\n",
    "\"\"\"\n"
   ]
  },
  {
   "cell_type": "code",
   "execution_count": 11,
   "id": "a2160592-a81b-4a70-8279-0a7131bdf799",
   "metadata": {},
   "outputs": [
    {
     "data": {
      "text/plain": [
       "0"
      ]
     },
     "execution_count": 11,
     "metadata": {},
     "output_type": "execute_result"
    }
   ],
   "source": [
    "## * is nothing but and in logical operation\n",
    "True*False"
   ]
  },
  {
   "cell_type": "markdown",
   "id": "1d89e1cb-0d5d-4a7f-97fd-b175e4c5c376",
   "metadata": {},
   "source": [
    "## Logical or operator"
   ]
  },
  {
   "cell_type": "code",
   "execution_count": null,
   "id": "b3b54988-33e0-4c5d-8ed2-d5890e3b192e",
   "metadata": {},
   "outputs": [],
   "source": [
    "\"\"\"\n",
    ">> True : 1\n",
    ">> False : 0\n",
    ">> Understand it as addition between 0 and 1\n",
    ">> or basically means one of both or both the condition must ne satisfied\n",
    "  A       B       A or B\n",
    "---------------------------\n",
    "  1       1          1   \n",
    "  1       0          1\n",
    "  0       1          1\n",
    "  0       0          0\n",
    "\n",
    "\"\"\""
   ]
  },
  {
   "cell_type": "markdown",
   "id": "60def978-41ef-4cb6-a8b3-7efc99cd9a92",
   "metadata": {},
   "source": [
    "### we can use id() function to check the address od memory where the variable had been saved."
   ]
  },
  {
   "cell_type": "code",
   "execution_count": 12,
   "id": "1519128b-58d6-4e76-a602-ddaae5d44702",
   "metadata": {},
   "outputs": [
    {
     "data": {
      "text/plain": [
       "139722925917392"
      ]
     },
     "execution_count": 12,
     "metadata": {},
     "output_type": "execute_result"
    }
   ],
   "source": [
    "## id()\n",
    "\n",
    "a = 32\n",
    "id(a)"
   ]
  },
  {
   "cell_type": "markdown",
   "id": "71159c43-d51b-48aa-9a19-a242d9e0ecb3",
   "metadata": {},
   "source": [
    "# Data Structures\n",
    "## String"
   ]
  },
  {
   "cell_type": "code",
   "execution_count": null,
   "id": "efe5eac3-64fc-4bf0-bd95-54bbdf2898cf",
   "metadata": {},
   "outputs": [],
   "source": [
    "# Define by \"\" or ''\n",
    "# eg. \"Aman Vishwakarma\" or 'Data Scientist'"
   ]
  },
  {
   "cell_type": "code",
   "execution_count": 1,
   "id": "819fa9e4-092a-460e-b5d9-5c405df619f8",
   "metadata": {},
   "outputs": [
    {
     "data": {
      "text/plain": [
       "str"
      ]
     },
     "execution_count": 1,
     "metadata": {},
     "output_type": "execute_result"
    }
   ],
   "source": [
    "str_1 = \"i am Data Scientist\"\n",
    "type(str_1)"
   ]
  },
  {
   "cell_type": "code",
   "execution_count": null,
   "id": "27308b97-fc97-40c0-9edf-ecd24e2a3a63",
   "metadata": {},
   "outputs": [],
   "source": [
    "# we can locate every element of string trough indexing"
   ]
  },
  {
   "cell_type": "code",
   "execution_count": 2,
   "id": "98468f95-111e-4d3b-b99a-7c24b3cc9462",
   "metadata": {},
   "outputs": [
    {
     "data": {
      "text/plain": [
       "'I'"
      ]
     },
     "execution_count": 2,
     "metadata": {},
     "output_type": "execute_result"
    }
   ],
   "source": [
    "str_1[0]"
   ]
  },
  {
   "cell_type": "code",
   "execution_count": 3,
   "id": "658a1bfd-2132-4d6f-b8b8-90471b6e3856",
   "metadata": {},
   "outputs": [
    {
     "data": {
      "text/plain": [
       "'D'"
      ]
     },
     "execution_count": 3,
     "metadata": {},
     "output_type": "execute_result"
    }
   ],
   "source": [
    "str_1[5]"
   ]
  },
  {
   "cell_type": "code",
   "execution_count": null,
   "id": "ab8e4f17-0bd5-41e3-9886-60844c8ba6a9",
   "metadata": {},
   "outputs": [],
   "source": [
    "# we cannot replcae element of string as it is immutabel."
   ]
  },
  {
   "cell_type": "code",
   "execution_count": 4,
   "id": "81c17358-7706-4c4d-b3e2-bf01cf1d610a",
   "metadata": {},
   "outputs": [
    {
     "ename": "NameError",
     "evalue": "name 'm' is not defined",
     "output_type": "error",
     "traceback": [
      "\u001b[0;31m---------------------------------------------------------------------------\u001b[0m",
      "\u001b[0;31mNameError\u001b[0m                                 Traceback (most recent call last)",
      "Cell \u001b[0;32mIn[4], line 1\u001b[0m\n\u001b[0;32m----> 1\u001b[0m str_1[\u001b[38;5;241m5\u001b[39m]\u001b[38;5;241m=\u001b[39m\u001b[43mm\u001b[49m\n",
      "\u001b[0;31mNameError\u001b[0m: name 'm' is not defined"
     ]
    }
   ],
   "source": [
    "str_1[5]=m"
   ]
  },
  {
   "cell_type": "code",
   "execution_count": null,
   "id": "87b855e8-b856-4d17-8836-459a0a3e7a26",
   "metadata": {},
   "outputs": [],
   "source": [
    "# we can iterate through string using loops and condition.\n",
    "# there are many inbuilt function for string to work with it by putting . and pressing tab"
   ]
  },
  {
   "cell_type": "code",
   "execution_count": 7,
   "id": "88afc356-6f7b-49c2-ab28-83c34a1f150f",
   "metadata": {},
   "outputs": [
    {
     "data": {
      "text/plain": [
       "'I am data scientist'"
      ]
     },
     "execution_count": 7,
     "metadata": {},
     "output_type": "execute_result"
    }
   ],
   "source": [
    "str_1.capitalize()"
   ]
  },
  {
   "cell_type": "code",
   "execution_count": 8,
   "id": "09fb6031-a905-4d0d-abcb-e3ba220d979c",
   "metadata": {},
   "outputs": [
    {
     "data": {
      "text/plain": [
       "'i am data scientist'"
      ]
     },
     "execution_count": 8,
     "metadata": {},
     "output_type": "execute_result"
    }
   ],
   "source": [
    "str_1.casefold()"
   ]
  },
  {
   "cell_type": "code",
   "execution_count": 52,
   "id": "4829742e-e0d0-4232-a03c-1a0231f25224",
   "metadata": {},
   "outputs": [
    {
     "data": {
      "text/plain": [
       "19"
      ]
     },
     "execution_count": 52,
     "metadata": {},
     "output_type": "execute_result"
    }
   ],
   "source": [
    "## gives the length of tring\n",
    "len(str_1)"
   ]
  },
  {
   "cell_type": "code",
   "execution_count": 54,
   "id": "6f9b2563-45c5-4eb9-920f-cdef82dc1dd2",
   "metadata": {},
   "outputs": [
    {
     "data": {
      "text/plain": [
       "7"
      ]
     },
     "execution_count": 54,
     "metadata": {},
     "output_type": "execute_result"
    }
   ],
   "source": [
    "## Return the index number of the element that appears first\n",
    "str_1.find(\"t\")"
   ]
  },
  {
   "cell_type": "code",
   "execution_count": 55,
   "id": "3a861dfc-859e-4dce-8219-84913858b3b5",
   "metadata": {},
   "outputs": [
    {
     "data": {
      "text/plain": [
       "6"
      ]
     },
     "execution_count": 55,
     "metadata": {},
     "output_type": "execute_result"
    }
   ],
   "source": [
    "## Return the index number of the element, we can give strat and end points.\n",
    "str_1.find(\"a\",3,7)\n",
    "## Here '3' is start point and '7' is end point"
   ]
  },
  {
   "cell_type": "code",
   "execution_count": 62,
   "id": "48b5dd5e-3ae5-4a48-b93f-fe6a9ce22acf",
   "metadata": {},
   "outputs": [
    {
     "name": "stdout",
     "output_type": "stream",
     "text": [
      "['I', 'am', 'Data', 'Scientist']\n",
      "['I', 'am', 'Data', 'Scientist']\n",
      "['I ', 'm D', 't', ' Scientist']\n",
      "['I am Data ', 'cientist']\n"
     ]
    }
   ],
   "source": [
    "## Split function converts strings in list\n",
    "print(str_1.split(\" \"))   ## Here space is separator that will not taken\n",
    "print(str_1.split())\n",
    "print(str_1.split(\"a\"))    ## Here 'a' is separator that will not taken\n",
    "print(str_1.split(\"S\"))    ## Here 'S' is separator that will not taken"
   ]
  },
  {
   "cell_type": "code",
   "execution_count": 65,
   "id": "c334783e-9909-4fe9-b1ad-e85bf5e88090",
   "metadata": {},
   "outputs": [
    {
     "name": "stdout",
     "output_type": "stream",
     "text": [
      "('I', ' ', 'am Data Scientist')\n",
      "('I am Data ', 'S', 'cientist')\n"
     ]
    }
   ],
   "source": [
    "## partition function converts strings in list with separator\n",
    "print(str_1.partition(' '))\n",
    "print(str_1.partition('S'))"
   ]
  },
  {
   "cell_type": "code",
   "execution_count": 72,
   "id": "c530a0ce-dbd4-4c24-af93-9899f47d18da",
   "metadata": {},
   "outputs": [
    {
     "name": "stdout",
     "output_type": "stream",
     "text": [
      "I AM DATA SCIENTIST\n",
      "i am data scientist\n",
      "I Am Data Scientist\n",
      "I am data scientist\n",
      "i AM dATA sCIENTIST\n"
     ]
    }
   ],
   "source": [
    "## Upper and Lower case, title, capitalize,swapcase function\n",
    "\n",
    "print(str_1.upper())\n",
    "print(str_1.lower())\n",
    "print(str_1.title())\n",
    "print(str_1.capitalize())\n",
    "print(str_1.swapcase())"
   ]
  },
  {
   "cell_type": "code",
   "execution_count": null,
   "id": "3f579024-de91-4e63-873a-ed9858819cd7",
   "metadata": {},
   "outputs": [],
   "source": []
  },
  {
   "cell_type": "code",
   "execution_count": null,
   "id": "d0a70fbf-b410-4350-aa4b-ac922ace962a",
   "metadata": {},
   "outputs": [],
   "source": []
  },
  {
   "cell_type": "code",
   "execution_count": null,
   "id": "c03ad379-3e48-41a4-87f9-0a65acfbcd2e",
   "metadata": {},
   "outputs": [],
   "source": []
  },
  {
   "cell_type": "code",
   "execution_count": null,
   "id": "56c00f02-0e5a-4d71-ba68-aaa01a87bb94",
   "metadata": {},
   "outputs": [],
   "source": []
  },
  {
   "cell_type": "code",
   "execution_count": null,
   "id": "d6d8ef17-d31a-4f8c-b8e6-d9ff5fc9489c",
   "metadata": {},
   "outputs": [],
   "source": []
  },
  {
   "cell_type": "code",
   "execution_count": null,
   "id": "5adca059-e123-403b-917b-35166a1dca0a",
   "metadata": {},
   "outputs": [],
   "source": []
  },
  {
   "cell_type": "code",
   "execution_count": null,
   "id": "6bc225a0-f3b9-4877-b834-d1e4ae0e1a76",
   "metadata": {},
   "outputs": [],
   "source": []
  },
  {
   "cell_type": "code",
   "execution_count": null,
   "id": "3165879d-fbd4-49a4-ace0-c13659a5e902",
   "metadata": {},
   "outputs": [],
   "source": [
    "# Sliced Operation"
   ]
  },
  {
   "cell_type": "code",
   "execution_count": 12,
   "id": "4f3acae7-3d45-44bc-b8b1-da765c09d21a",
   "metadata": {},
   "outputs": [
    {
     "data": {
      "text/plain": [
       "'D'"
      ]
     },
     "execution_count": 12,
     "metadata": {},
     "output_type": "execute_result"
    }
   ],
   "source": [
    "str_1[5]"
   ]
  },
  {
   "cell_type": "code",
   "execution_count": 13,
   "id": "3a94e562-eb58-4699-ac6f-4c10f8440eb7",
   "metadata": {},
   "outputs": [
    {
     "data": {
      "text/plain": [
       "'Data Scientist'"
      ]
     },
     "execution_count": 13,
     "metadata": {},
     "output_type": "execute_result"
    }
   ],
   "source": [
    "str_1[5:]"
   ]
  },
  {
   "cell_type": "code",
   "execution_count": 14,
   "id": "10181c20-52fc-4f3c-8185-515a16cc8586",
   "metadata": {},
   "outputs": [
    {
     "data": {
      "text/plain": [
       "'I am '"
      ]
     },
     "execution_count": 14,
     "metadata": {},
     "output_type": "execute_result"
    }
   ],
   "source": [
    "str_1[:5]"
   ]
  },
  {
   "cell_type": "code",
   "execution_count": 15,
   "id": "2bb4ea2b-c1ba-474f-b707-8d7d58e4c110",
   "metadata": {},
   "outputs": [
    {
     "data": {
      "text/plain": [
       "'Data '"
      ]
     },
     "execution_count": 15,
     "metadata": {},
     "output_type": "execute_result"
    }
   ],
   "source": [
    "str_1[5:10]"
   ]
  },
  {
   "cell_type": "code",
   "execution_count": 16,
   "id": "167ac21e-7a44-4638-be08-bd19f14ce2d0",
   "metadata": {},
   "outputs": [
    {
     "data": {
      "text/plain": [
       "'n'"
      ]
     },
     "execution_count": 16,
     "metadata": {},
     "output_type": "execute_result"
    }
   ],
   "source": [
    "str_1[-5]"
   ]
  },
  {
   "cell_type": "code",
   "execution_count": 17,
   "id": "97b9524b-8db4-48ee-b117-2428aea6d27f",
   "metadata": {},
   "outputs": [
    {
     "data": {
      "text/plain": [
       "'ta Scie'"
      ]
     },
     "execution_count": 17,
     "metadata": {},
     "output_type": "execute_result"
    }
   ],
   "source": [
    "str_1[7:-5]"
   ]
  },
  {
   "cell_type": "code",
   "execution_count": 18,
   "id": "4b19015d-5cf3-47ea-924d-3cf1396ab2f9",
   "metadata": {},
   "outputs": [
    {
     "data": {
      "text/plain": [
       "'I am Data Scientist'"
      ]
     },
     "execution_count": 18,
     "metadata": {},
     "output_type": "execute_result"
    }
   ],
   "source": [
    "str_1[:]"
   ]
  },
  {
   "cell_type": "code",
   "execution_count": 19,
   "id": "57e83feb-c1fe-4140-810c-23d7209bf325",
   "metadata": {},
   "outputs": [
    {
     "data": {
      "text/plain": [
       "'I am Data Scientist'"
      ]
     },
     "execution_count": 19,
     "metadata": {},
     "output_type": "execute_result"
    }
   ],
   "source": [
    "str_1[::]"
   ]
  },
  {
   "cell_type": "code",
   "execution_count": 22,
   "id": "69b9310e-5985-4f5f-91c4-44d2b278544b",
   "metadata": {},
   "outputs": [
    {
     "data": {
      "text/plain": [
       "'tsitneicS ataD ma I'"
      ]
     },
     "execution_count": 22,
     "metadata": {},
     "output_type": "execute_result"
    }
   ],
   "source": [
    "## Reversing the string with index -1\n",
    "str_1[::-1]"
   ]
  },
  {
   "cell_type": "code",
   "execution_count": 23,
   "id": "5cd07dfc-c022-48e3-8eaf-a12c76d368a3",
   "metadata": {},
   "outputs": [
    {
     "data": {
      "text/plain": [
       "'tiniSaa aI'"
      ]
     },
     "execution_count": 23,
     "metadata": {},
     "output_type": "execute_result"
    }
   ],
   "source": [
    "## Reversing the string with index -2 that it every second word is taken and reversed\n",
    "str_1[::-2]"
   ]
  },
  {
   "cell_type": "code",
   "execution_count": 26,
   "id": "985ab52a-7b3b-485d-8f31-bd0d264a9631",
   "metadata": {},
   "outputs": [
    {
     "data": {
      "text/plain": [
       "' mDt cets'"
      ]
     },
     "execution_count": 26,
     "metadata": {},
     "output_type": "execute_result"
    }
   ],
   "source": [
    "## Every second term stating with 1st index term.\n",
    "str_1[1::2]"
   ]
  },
  {
   "cell_type": "code",
   "execution_count": null,
   "id": "52bfef64-e048-44ee-8ed0-12c3fc921441",
   "metadata": {},
   "outputs": [],
   "source": [
    "\"\"\"\n",
    "str_1[a::b]\n",
    "Here 'a' denotes the starting index which is to be selected\n",
    "and 'b' denotes the step size to be taken i.e. how many terms to be skipped.\n",
    "\"\"\"\n",
    "\"\"\"\n",
    "str_1[::-1]\n",
    "This is use to reverse entire string\n",
    "\"\"\"\""
   ]
  },
  {
   "cell_type": "code",
   "execution_count": null,
   "id": "59a967a8-f2d9-4a22-acf5-363c03f8610b",
   "metadata": {},
   "outputs": [],
   "source": [
    "# Question on Slicing operation."
   ]
  },
  {
   "cell_type": "code",
   "execution_count": 50,
   "id": "c14b9ac6-c9d4-48c5-b6a4-34bae3fa1df2",
   "metadata": {},
   "outputs": [
    {
     "name": "stdout",
     "output_type": "stream",
     "text": [
      "Science\n",
      "Science\n",
      "Science\n",
      "sretesaM ecneicS ataD\n",
      "ecneicS\n",
      "ecneicS\n"
     ]
    }
   ],
   "source": [
    "course_name = \"Data Science Maseters\"\n",
    "print(course_name[5:12])\n",
    "print(course_name[-16:-9])\n",
    "print(course_name[5:-9])\n",
    "print(course_name[::-1])\n",
    "print(course_name[11:4:-1])\n",
    "print(course_name[-10:4:-1])"
   ]
  },
  {
   "cell_type": "code",
   "execution_count": 51,
   "id": "8cbd2537-6099-4c44-9111-5d95a216e3e6",
   "metadata": {},
   "outputs": [
    {
     "name": "stdout",
     "output_type": "stream",
     "text": [
      "ecneicS\n"
     ]
    }
   ],
   "source": [
    "rev_cours_name = course_name[5:12]\n",
    "print(rev_cours_name[::-1])"
   ]
  },
  {
   "cell_type": "code",
   "execution_count": null,
   "id": "7c383de9-3b74-4571-b8f8-f9ccbd0ddfbe",
   "metadata": {},
   "outputs": [],
   "source": []
  },
  {
   "cell_type": "code",
   "execution_count": null,
   "id": "824951b7-b13a-4f12-b410-86f2695ded85",
   "metadata": {},
   "outputs": [],
   "source": []
  },
  {
   "cell_type": "code",
   "execution_count": null,
   "id": "6e3066a5-9862-4fc7-a09d-c4b5f94e091f",
   "metadata": {},
   "outputs": [],
   "source": []
  },
  {
   "cell_type": "code",
   "execution_count": null,
   "id": "ab94c692-941a-4cca-a1b1-9f1b6cb8e070",
   "metadata": {},
   "outputs": [],
   "source": []
  },
  {
   "cell_type": "code",
   "execution_count": null,
   "id": "51449399-72fb-4854-b1a9-0012be382c55",
   "metadata": {},
   "outputs": [],
   "source": []
  }
 ],
 "metadata": {
  "kernelspec": {
   "display_name": "Python 3 (ipykernel)",
   "language": "python",
   "name": "python3"
  },
  "language_info": {
   "codemirror_mode": {
    "name": "ipython",
    "version": 3
   },
   "file_extension": ".py",
   "mimetype": "text/x-python",
   "name": "python",
   "nbconvert_exporter": "python",
   "pygments_lexer": "ipython3",
   "version": "3.10.8"
  }
 },
 "nbformat": 4,
 "nbformat_minor": 5
}
