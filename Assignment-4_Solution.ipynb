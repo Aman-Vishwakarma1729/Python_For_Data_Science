{
 "cells": [
  {
   "cell_type": "markdown",
   "id": "05ca6626-6ad1-422c-9de4-7036431d478e",
   "metadata": {},
   "source": [
    "#### Answer_1"
   ]
  },
  {
   "cell_type": "markdown",
   "id": "dd68e40b-a50f-44c3-a069-64b1fd1c2ce3",
   "metadata": {},
   "source": [
    "##### > def key word is used to create a function."
   ]
  },
  {
   "cell_type": "code",
   "execution_count": 1,
   "id": "63aa34c5-f97d-4e3e-af96-1034c527672d",
   "metadata": {},
   "outputs": [
    {
     "data": {
      "text/plain": [
       "<generator object odd_num at 0x7fdf1f885bd0>"
      ]
     },
     "execution_count": 1,
     "metadata": {},
     "output_type": "execute_result"
    }
   ],
   "source": [
    "def odd_num():\n",
    "    for i in range(1,25):\n",
    "        if (i%2) != 0:\n",
    "            yield i\n",
    "\n",
    "odd_num()"
   ]
  },
  {
   "cell_type": "code",
   "execution_count": 3,
   "id": "d8506ab8-8f19-4e35-b1ce-fa78b40718b0",
   "metadata": {},
   "outputs": [
    {
     "name": "stdout",
     "output_type": "stream",
     "text": [
      "1\n",
      "3\n",
      "5\n",
      "7\n",
      "9\n",
      "11\n",
      "13\n",
      "15\n",
      "17\n",
      "19\n",
      "21\n",
      "23\n"
     ]
    }
   ],
   "source": [
    "for i in odd_num():\n",
    "    print(i)"
   ]
  },
  {
   "cell_type": "markdown",
   "id": "b47bb7e7-209b-445d-af93-023d6db792b9",
   "metadata": {},
   "source": [
    "#### Answer_2"
   ]
  },
  {
   "cell_type": "markdown",
   "id": "76d7ca17-cf18-4629-a300-56ad3eea027b",
   "metadata": {},
   "source": [
    "##### > *args and **kwargs is used in function when we have doubt about number of           arguments we should pass in function.\n",
    "##### > They are basically used to pass variable number of arguments in function.\n",
    "##### > **kwargs is used to pass variable number of key:value pair as argument."
   ]
  },
  {
   "cell_type": "code",
   "execution_count": 5,
   "id": "59900834-bd17-4706-9edf-f8f50e4f12f0",
   "metadata": {},
   "outputs": [
    {
     "data": {
      "text/plain": [
       "(0,\n",
       " 1,\n",
       " 1,\n",
       " 2,\n",
       " 3,\n",
       " 5,\n",
       " 'Data Science',\n",
       " ['Machine Learning', 'A.I', 'Deep Learning'])"
      ]
     },
     "execution_count": 5,
     "metadata": {},
     "output_type": "execute_result"
    }
   ],
   "source": [
    "# Example of *args\n",
    "\n",
    "def n_var(*args):\n",
    "    return args\n",
    "\n",
    "n_var(0,1,1,2,3,5,\"Data Science\",['Machine Learning','A.I','Deep Learning'])"
   ]
  },
  {
   "cell_type": "code",
   "execution_count": 14,
   "id": "49931af0-0853-4aa9-8ec8-566123931018",
   "metadata": {},
   "outputs": [
    {
     "data": {
      "text/plain": [
       "{'learn': ['Python', 'Machine learning', 'Deep Learning', 'A.I']}"
      ]
     },
     "execution_count": 14,
     "metadata": {},
     "output_type": "execute_result"
    }
   ],
   "source": [
    "# Example of **kwargs\n",
    "\n",
    "def n_kv_var(**kwargs):\n",
    "    return kwargs\n",
    "\n",
    "n_kv_var( learn = [\"Python\",\"Machine learning\",\"Deep Learning\",\"A.I\"])"
   ]
  },
  {
   "cell_type": "markdown",
   "id": "75dc8644-bc4f-4bdf-b3e5-944af5f1cf95",
   "metadata": {},
   "source": [
    "#### Answer_3"
   ]
  },
  {
   "cell_type": "markdown",
   "id": "b43af559-0b3a-429f-bf87-f12f8b80c7d7",
   "metadata": {},
   "source": [
    "##### > An iterator is an object that contains a countable number of values.\n",
    "##### > An iterator is an object that can be iterated upon, meaning that we can           transverse through all the values.\n",
    "##### > The method which is used to initialise the iterator object is iter()\n",
    "##### > The method which is used for iteration is next()."
   ]
  },
  {
   "cell_type": "code",
   "execution_count": 1,
   "id": "74dbc350-ad13-4980-ba50-713e236b5edd",
   "metadata": {},
   "outputs": [
    {
     "name": "stdout",
     "output_type": "stream",
     "text": [
      "2\n",
      "4\n",
      "6\n",
      "8\n",
      "10\n"
     ]
    }
   ],
   "source": [
    "lst = [2,4,6,8,10,12,14,16,18,10]\n",
    "elements = iter(lst)\n",
    "print(next(elements))\n",
    "print(next(elements))\n",
    "print(next(elements))\n",
    "print(next(elements))\n",
    "print(next(elements))"
   ]
  },
  {
   "cell_type": "markdown",
   "id": "d709364e-d817-4b04-964b-580188f19b19",
   "metadata": {},
   "source": [
    "#### Answer_4"
   ]
  },
  {
   "cell_type": "markdown",
   "id": "4ea2a734-399e-4b0e-aff3-f08f391a142a",
   "metadata": {},
   "source": [
    "##### > Generator function return generator object. It is defined like a normal          function, but whenever it need to generate a values, it does so with yield        function.\n",
    "##### > it is used when we need to get huge number of values and save memory space         at same time.\n",
    "##### > yield keyword is used instead og return than the function becomes                 generator gunction."
   ]
  },
  {
   "cell_type": "code",
   "execution_count": 2,
   "id": "48a62be5-42e3-4b2f-89ab-ff5744e0821f",
   "metadata": {},
   "outputs": [
    {
     "data": {
      "text/plain": [
       "<generator object odd_num at 0x7fa4d6095770>"
      ]
     },
     "execution_count": 2,
     "metadata": {},
     "output_type": "execute_result"
    }
   ],
   "source": [
    "def odd_num():\n",
    "    for i in range(1,25):\n",
    "        if (i%2) != 0:\n",
    "            yield i\n",
    "\n",
    "odd_num()"
   ]
  },
  {
   "cell_type": "code",
   "execution_count": null,
   "id": "7d1073dc-2f2d-47a3-838e-b82fed09825c",
   "metadata": {},
   "outputs": [],
   "source": [
    "for i in odd_num():\n",
    "    print(i)"
   ]
  },
  {
   "cell_type": "markdown",
   "id": "75072a44-5e46-4f5d-9025-cfc809771915",
   "metadata": {},
   "source": [
    "#### Answer_5"
   ]
  },
  {
   "cell_type": "code",
   "execution_count": 1,
   "id": "46057d15-ee7a-4903-bcf4-a130b126a0b7",
   "metadata": {},
   "outputs": [
    {
     "data": {
      "text/plain": [
       "<generator object prime at 0x7f50f4335690>"
      ]
     },
     "execution_count": 1,
     "metadata": {},
     "output_type": "execute_result"
    }
   ],
   "source": [
    "def prime():\n",
    "    for number in range(2,1000):\n",
    "        if number > 1:\n",
    "            for i in range(2,number):\n",
    "                if (number%i) == 0:\n",
    "                    break\n",
    "            else:\n",
    "                yield number\n",
    "                \n",
    "prime()"
   ]
  },
  {
   "cell_type": "code",
   "execution_count": 2,
   "id": "be9fa471-070f-4d3d-a554-9c5e79e6cd8f",
   "metadata": {},
   "outputs": [
    {
     "name": "stdout",
     "output_type": "stream",
     "text": [
      "2\n",
      "3\n",
      "5\n",
      "7\n",
      "11\n",
      "13\n",
      "17\n",
      "19\n",
      "23\n",
      "29\n",
      "31\n",
      "37\n",
      "41\n",
      "43\n",
      "47\n",
      "53\n",
      "59\n",
      "61\n",
      "67\n",
      "71\n"
     ]
    }
   ],
   "source": [
    "prime_num = iter(prime())\n",
    "print(next(prime_num))\n",
    "print(next(prime_num))\n",
    "print(next(prime_num))\n",
    "print(next(prime_num))\n",
    "print(next(prime_num))\n",
    "print(next(prime_num))\n",
    "print(next(prime_num))\n",
    "print(next(prime_num))\n",
    "print(next(prime_num))\n",
    "print(next(prime_num))\n",
    "print(next(prime_num))\n",
    "print(next(prime_num))\n",
    "print(next(prime_num))\n",
    "print(next(prime_num))\n",
    "print(next(prime_num))\n",
    "print(next(prime_num))\n",
    "print(next(prime_num))\n",
    "print(next(prime_num))\n",
    "print(next(prime_num))\n",
    "print(next(prime_num))"
   ]
  },
  {
   "cell_type": "code",
   "execution_count": null,
   "id": "b49eb770-081c-4646-b540-ce8f0c999f7d",
   "metadata": {},
   "outputs": [],
   "source": []
  }
 ],
 "metadata": {
  "kernelspec": {
   "display_name": "Python 3 (ipykernel)",
   "language": "python",
   "name": "python3"
  },
  "language_info": {
   "codemirror_mode": {
    "name": "ipython",
    "version": 3
   },
   "file_extension": ".py",
   "mimetype": "text/x-python",
   "name": "python",
   "nbconvert_exporter": "python",
   "pygments_lexer": "ipython3",
   "version": "3.10.8"
  }
 },
 "nbformat": 4,
 "nbformat_minor": 5
}
